{
 "cells": [
  {
   "cell_type": "code",
   "execution_count": 1,
   "id": "05273b70-92a1-4abe-8e3e-b1d0f6e74655",
   "metadata": {},
   "outputs": [
    {
     "name": "stderr",
     "output_type": "stream",
     "text": [
      "/home/aeljon00/miniconda3/envs/grandtn/lib/python3.9/site-packages/tqdm/auto.py:22: TqdmWarning: IProgress not found. Please update jupyter and ipywidgets. See https://ipywidgets.readthedocs.io/en/stable/user_install.html\n",
      "  from .autonotebook import tqdm as notebook_tqdm\n"
     ]
    }
   ],
   "source": [
    "import argparse\n",
    "import time\n",
    "import os\n",
    "\n",
    "import numpy as np\n",
    "import torch\n",
    "from torch_geometric.nn import GCNConv, ChebConv  # noqa\n",
    "import torch.nn.functional as F\n",
    "from ogb.nodeproppred import Evaluator"
   ]
  },
  {
   "cell_type": "code",
   "execution_count": 2,
   "id": "7e423be4-3f62-4b2a-804c-1f61bb800683",
   "metadata": {},
   "outputs": [],
   "source": [
    "\n",
    "\n",
    "from GNN import GNN\n",
    "from GNN_early import GNNEarly\n",
    "from GNN_KNN import GNN_KNN\n",
    "from GNN_KNN_early import GNNKNNEarly\n",
    "from data import get_dataset, set_train_val_test_split\n",
    "from graph_rewiring import apply_KNN, apply_beltrami, apply_edge_sampling\n",
    "from best_params import best_params_dict\n",
    "from heterophilic import get_fixed_splits\n",
    "from utils import ROOT_DIR\n",
    "from CGNN import CGNN, get_sym_adj\n",
    "from CGNN import train as train_cgnn\n"
   ]
  },
  {
   "cell_type": "code",
   "execution_count": 3,
   "id": "49aaf49c-92f0-4566-8037-d7888c18e334",
   "metadata": {},
   "outputs": [],
   "source": [
    "# possible datset paras\n",
    "# 'Cora, Citeseer, Pubmed, Computers, Photo, CoauthorCS, ogbn-arxiv'\n",
    "\n",
    "customArgs = ['--dataset', 'Cora']\n",
    "#customArgs = ['--dataset', 'Citeseer']\n",
    "#customArgs = ['--dataset', 'Pubmed']\n",
    "#customArgs = ['--dataset', 'Computers']\n",
    "#customArgs = ['--dataset', 'Photo']\n",
    "#customArgs = ['--dataset', 'CoauthorCS']\n",
    "customArgs = ['--dataset', 'ogbn-arxiv'] #doesnt work yet\n",
    "\n",
    "\n",
    "#customArgs = customArgs + ['--early-stopping']"
   ]
  },
  {
   "cell_type": "code",
   "execution_count": 4,
   "id": "e9ae0119-67d0-4232-b594-10ec2eabe2f6",
   "metadata": {},
   "outputs": [],
   "source": [
    "\n",
    "\n",
    "def get_optimizer(name, parameters, lr, weight_decay=0):\n",
    "  if name == 'sgd':\n",
    "    return torch.optim.SGD(parameters, lr=lr, weight_decay=weight_decay)\n",
    "  elif name == 'rmsprop':\n",
    "    return torch.optim.RMSprop(parameters, lr=lr, weight_decay=weight_decay)\n",
    "  elif name == 'adagrad':\n",
    "    return torch.optim.Adagrad(parameters, lr=lr, weight_decay=weight_decay)\n",
    "  elif name == 'adam':\n",
    "    return torch.optim.Adam(parameters, lr=lr, weight_decay=weight_decay)\n",
    "  elif name == 'adamax':\n",
    "    return torch.optim.Adamax(parameters, lr=lr, weight_decay=weight_decay)\n",
    "  else:\n",
    "    raise Exception(\"Unsupported optimizer: {}\".format(name))\n",
    "\n"
   ]
  },
  {
   "cell_type": "code",
   "execution_count": 5,
   "id": "c2fa16e6-335c-4d11-87e5-a6144f89611b",
   "metadata": {},
   "outputs": [],
   "source": [
    "def add_labels(feat, labels, idx, num_classes, device):\n",
    "  onehot = torch.zeros([feat.shape[0], num_classes]).to(device)\n",
    "  if idx.dtype == torch.bool:\n",
    "    idx = torch.where(idx)[0]  # convert mask to linear index\n",
    "  onehot[idx, labels.squeeze()[idx]] = 1\n",
    "\n",
    "  return torch.cat([feat, onehot], dim=-1)\n",
    "\n",
    "\n",
    "def get_label_masks(data, mask_rate=0.5):\n",
    "  \"\"\"\n",
    "  when using labels as features need to split training nodes into training and prediction\n",
    "  \"\"\"\n",
    "  if data.train_mask.dtype == torch.bool:\n",
    "    idx = torch.where(data.train_mask)[0]\n",
    "  else:\n",
    "    idx = data.train_mask\n",
    "  mask = torch.rand(idx.shape) < mask_rate\n",
    "  train_label_idx = idx[mask]\n",
    "  train_pred_idx = idx[~mask]\n",
    "  return train_label_idx, train_pred_idx\n"
   ]
  },
  {
   "cell_type": "code",
   "execution_count": 6,
   "id": "d36b9398-a548-421d-8223-da998a4d3fd5",
   "metadata": {},
   "outputs": [],
   "source": [
    "\n",
    "\n",
    "def train(model, optimizer, data, pos_encoding=None):\n",
    "  model.train()\n",
    "  optimizer.zero_grad()\n",
    "  feat = data.x\n",
    "  if model.opt['use_labels']:\n",
    "    train_label_idx, train_pred_idx = get_label_masks(data, model.opt['label_rate'])\n",
    "\n",
    "    feat = add_labels(feat, data.y, train_label_idx, model.num_classes, model.device)\n",
    "  else:\n",
    "    train_pred_idx = data.train_mask\n",
    "\n",
    "  out = model(feat, pos_encoding)\n",
    "\n",
    "  if model.opt['dataset'] == 'ogbn-arxiv':\n",
    "    lf = torch.nn.functional.nll_loss\n",
    "    loss = lf(out.log_softmax(dim=-1)[data.train_mask], data.y.squeeze(1)[data.train_mask])\n",
    "  else:\n",
    "    lf = torch.nn.CrossEntropyLoss()\n",
    "    loss = lf(out[data.train_mask], data.y.squeeze()[data.train_mask])\n",
    "  if model.odeblock.nreg > 0:  # add regularisation - slower for small data, but faster and better performance for large data\n",
    "    reg_states = tuple(torch.mean(rs) for rs in model.reg_states)\n",
    "    regularization_coeffs = model.regularization_coeffs\n",
    "\n",
    "    reg_loss = sum(\n",
    "      reg_state * coeff for reg_state, coeff in zip(reg_states, regularization_coeffs) if coeff != 0\n",
    "    )\n",
    "    loss = loss + reg_loss\n",
    "\n",
    "  model.fm.update(model.getNFE())\n",
    "  model.resetNFE()\n",
    "  loss.backward()\n",
    "  optimizer.step()\n",
    "  model.bm.update(model.getNFE())\n",
    "  model.resetNFE()\n",
    "  return loss.item()\n",
    "\n"
   ]
  },
  {
   "cell_type": "code",
   "execution_count": 7,
   "id": "631d4659-996a-4b6e-9534-5e46a0c852e0",
   "metadata": {},
   "outputs": [],
   "source": [
    "\n",
    "def train_OGB(model, mp, optimizer, data, pos_encoding=None):\n",
    "  model.train()\n",
    "  optimizer.zero_grad()\n",
    "  feat = data.x\n",
    "  if model.opt['use_labels']:\n",
    "    train_label_idx, train_pred_idx = get_label_masks(data, model.opt['label_rate'])\n",
    "\n",
    "    feat = add_labels(feat, data.y, train_label_idx, model.num_classes, model.device)\n",
    "  else:\n",
    "    train_pred_idx = data.train_mask\n",
    "\n",
    "  pos_encoding = mp(pos_encoding).to(model.device)\n",
    "  out = model(feat, pos_encoding)\n",
    "\n",
    "  if model.opt['dataset'] == 'ogbn-arxiv':\n",
    "    lf = torch.nn.functional.nll_loss\n",
    "    loss = lf(out.log_softmax(dim=-1)[data.train_mask], data.y.squeeze(1)[data.train_mask])\n",
    "  else:\n",
    "    lf = torch.nn.CrossEntropyLoss()\n",
    "    loss = lf(out[data.train_mask], data.y.squeeze()[data.train_mask])\n",
    "  if model.odeblock.nreg > 0:  # add regularisation - slower for small data, but faster and better performance for large data\n",
    "    reg_states = tuple(torch.mean(rs) for rs in model.reg_states)\n",
    "    regularization_coeffs = model.regularization_coeffs\n",
    "\n",
    "    reg_loss = sum(\n",
    "      reg_state * coeff for reg_state, coeff in zip(reg_states, regularization_coeffs) if coeff != 0\n",
    "    )\n",
    "    loss = loss + reg_loss\n",
    "\n",
    "  model.fm.update(model.getNFE())\n",
    "  model.resetNFE()\n",
    "  loss.backward()\n",
    "  optimizer.step()\n",
    "  model.bm.update(model.getNFE())\n",
    "  model.resetNFE()\n",
    "  return loss.item()\n",
    "\n"
   ]
  },
  {
   "cell_type": "code",
   "execution_count": 8,
   "id": "4e002083-e06e-436f-97d5-d774f0e5bf95",
   "metadata": {},
   "outputs": [],
   "source": [
    "\n",
    "@torch.no_grad()\n",
    "def test(model, data, pos_encoding=None, opt=None):  # opt required for runtime polymorphism\n",
    "  model.eval()\n",
    "  feat = data.x\n",
    "  if model.opt['use_labels']:\n",
    "    feat = add_labels(feat, data.y, data.train_mask, model.num_classes, model.device)\n",
    "  logits, accs = model(feat, pos_encoding), []\n",
    "  for _, mask in data('train_mask', 'val_mask', 'test_mask'):\n",
    "    pred = logits[mask].max(1)[1]\n",
    "    acc = pred.eq(data.y[mask]).sum().item() / mask.sum().item()\n",
    "    accs.append(acc)\n",
    "  return accs\n",
    "\n",
    "\n",
    "def print_model_params(model):\n",
    "  print(model)\n",
    "  for name, param in model.named_parameters():\n",
    "    if param.requires_grad:\n",
    "      print(name)\n",
    "      print(param.data.shape)\n",
    "\n",
    "\n",
    "@torch.no_grad()\n",
    "def test_OGB(model, data, pos_encoding, opt):\n",
    "  if opt['dataset'] == 'ogbn-arxiv':\n",
    "    name = 'ogbn-arxiv'\n",
    "\n",
    "  feat = data.x\n",
    "  if model.opt['use_labels']:\n",
    "    feat = add_labels(feat, data.y, data.train_mask, model.num_classes, model.device)\n",
    "\n",
    "  evaluator = Evaluator(name=name)\n",
    "  model.eval()\n",
    "\n",
    "  out = model(feat, pos_encoding).log_softmax(dim=-1)\n",
    "  y_pred = out.argmax(dim=-1, keepdim=True)\n",
    "\n",
    "  train_acc = evaluator.eval({\n",
    "    'y_true': data.y[data.train_mask],\n",
    "    'y_pred': y_pred[data.train_mask],\n",
    "  })['acc']\n",
    "  valid_acc = evaluator.eval({\n",
    "    'y_true': data.y[data.val_mask],\n",
    "    'y_pred': y_pred[data.val_mask],\n",
    "  })['acc']\n",
    "  test_acc = evaluator.eval({\n",
    "    'y_true': data.y[data.test_mask],\n",
    "    'y_pred': y_pred[data.test_mask],\n",
    "  })['acc']\n",
    "\n",
    "  return train_acc, valid_acc, test_acc\n",
    "\n",
    "\n",
    "def merge_cmd_args(cmd_opt, opt):\n",
    "  if cmd_opt['beltrami']:\n",
    "    opt['beltrami'] = True\n",
    "  if cmd_opt['function'] is not None:\n",
    "    opt['function'] = cmd_opt['function']\n",
    "  if cmd_opt['block'] is not None:\n",
    "    opt['block'] = cmd_opt['block']\n",
    "  if cmd_opt['attention_type'] != 'scaled_dot':\n",
    "    opt['attention_type'] = cmd_opt['attention_type']\n",
    "  if cmd_opt['self_loop_weight'] is not None:\n",
    "    opt['self_loop_weight'] = cmd_opt['self_loop_weight']\n",
    "  if cmd_opt['method'] is not None:\n",
    "    opt['method'] = cmd_opt['method']\n",
    "  if cmd_opt['step_size'] != 1:\n",
    "    opt['step_size'] = cmd_opt['step_size']\n",
    "  if cmd_opt['time'] != 1:\n",
    "    opt['time'] = cmd_opt['time']\n",
    "  if cmd_opt['epoch'] != 100:\n",
    "    opt['epoch'] = cmd_opt['epoch']\n",
    "  if not cmd_opt['not_lcc']:\n",
    "    opt['not_lcc'] = False\n",
    "  if cmd_opt['num_splits'] != 1:\n",
    "    opt['num_splits'] = cmd_opt['num_splits']\n"
   ]
  },
  {
   "cell_type": "raw",
   "id": "c36006c9-3b5a-400e-86f5-f14702373548",
   "metadata": {},
   "source": []
  },
  {
   "cell_type": "code",
   "execution_count": 9,
   "id": "af00d104-a2a2-42e9-8425-541340ee6b18",
   "metadata": {},
   "outputs": [],
   "source": [
    "parser = argparse.ArgumentParser()\n",
    "parser.add_argument('--use_cora_defaults', action='store_true',\n",
    "                  help='Whether to run with best params for cora. Overrides the choice of dataset')\n",
    "# data args\n",
    "parser.add_argument('--dataset', type=str, default='Cora',\n",
    "                  help='Cora, Citeseer, Pubmed, Computers, Photo, CoauthorCS, ogbn-arxiv')\n",
    "parser.add_argument('--data_norm', type=str, default='rw',\n",
    "                  help='rw for random walk, gcn for symmetric gcn norm')\n",
    "parser.add_argument('--self_loop_weight', type=float, default=1.0, help='Weight of self-loops.')\n",
    "parser.add_argument('--use_labels', dest='use_labels', action='store_true', help='Also diffuse labels')\n",
    "parser.add_argument('--geom_gcn_splits', dest='geom_gcn_splits', action='store_true',\n",
    "                  help='use the 10 fixed splits from '\n",
    "                       'https://arxiv.org/abs/2002.05287')\n",
    "parser.add_argument('--num_splits', type=int, dest='num_splits', default=1,\n",
    "                  help='the number of splits to repeat the results on')\n",
    "parser.add_argument('--label_rate', type=float, default=0.5,\n",
    "                  help='% of training labels to use when --use_labels is set.')\n",
    "parser.add_argument('--planetoid_split', action='store_true',\n",
    "                  help='use planetoid splits for Cora/Citeseer/Pubmed')\n",
    "# GNN args\n",
    "parser.add_argument('--hidden_dim', type=int, default=16, help='Hidden dimension.')\n",
    "parser.add_argument('--fc_out', dest='fc_out', action='store_true',\n",
    "                  help='Add a fully connected layer to the decoder.')\n",
    "parser.add_argument('--input_dropout', type=float, default=0.5, help='Input dropout rate.')\n",
    "parser.add_argument('--dropout', type=float, default=0.0, help='Dropout rate.')\n",
    "parser.add_argument(\"--batch_norm\", dest='batch_norm', action='store_true', help='search over reg params')\n",
    "parser.add_argument('--optimizer', type=str, default='adam', help='One from sgd, rmsprop, adam, adagrad, adamax.')\n",
    "parser.add_argument('--lr', type=float, default=0.01, help='Learning rate.')\n",
    "parser.add_argument('--decay', type=float, default=5e-4, help='Weight decay for optimization')\n",
    "parser.add_argument('--epoch', type=int, default=100, help='Number of training epochs per iteration.')\n",
    "parser.add_argument('--alpha', type=float, default=1.0, help='Factor in front matrix A.')\n",
    "parser.add_argument('--alpha_dim', type=str, default='sc', help='choose either scalar (sc) or vector (vc) alpha')\n",
    "parser.add_argument('--no_alpha_sigmoid', dest='no_alpha_sigmoid', action='store_true',\n",
    "                  help='apply sigmoid before multiplying by alpha')\n",
    "parser.add_argument('--beta_dim', type=str, default='sc', help='choose either scalar (sc) or vector (vc) beta')\n",
    "parser.add_argument('--block', type=str, default='constant', help='constant, mixed, attention, hard_attention')\n",
    "parser.add_argument('--function', type=str, default='laplacian', help='laplacian, transformer, dorsey, GAT')\n",
    "parser.add_argument('--use_mlp', dest='use_mlp', action='store_true',\n",
    "                  help='Add a fully connected layer to the encoder.')\n",
    "parser.add_argument('--add_source', dest='add_source', action='store_true',\n",
    "                  help='If try get rid of alpha param and the beta*x0 source term')\n",
    "parser.add_argument('--cgnn', dest='cgnn', action='store_true', help='Run the baseline CGNN model from ICML20')\n",
    "\n",
    "# ODE args\n",
    "parser.add_argument('--time', type=float, default=1.0, help='End time of ODE integrator.')\n",
    "parser.add_argument('--augment', action='store_true',\n",
    "                  help='double the length of the feature vector by appending zeros to stabilist ODE learning')\n",
    "parser.add_argument('--method', type=str, help=\"set the numerical solver: dopri5, euler, rk4, midpoint\")\n",
    "parser.add_argument('--step_size', type=float, default=1,\n",
    "                  help='fixed step size when using fixed step solvers e.g. rk4')\n",
    "parser.add_argument('--max_iters', type=float, default=100, help='maximum number of integration steps')\n",
    "parser.add_argument(\"--adjoint_method\", type=str, default=\"adaptive_heun\",\n",
    "                  help=\"set the numerical solver for the backward pass: dopri5, euler, rk4, midpoint\")\n",
    "parser.add_argument('--adjoint', dest='adjoint', action='store_true',\n",
    "                  help='use the adjoint ODE method to reduce memory footprint')\n",
    "parser.add_argument('--adjoint_step_size', type=float, default=1,\n",
    "                  help='fixed step size when using fixed step adjoint solvers e.g. rk4')\n",
    "parser.add_argument('--tol_scale', type=float, default=1., help='multiplier for atol and rtol')\n",
    "parser.add_argument(\"--tol_scale_adjoint\", type=float, default=1.0,\n",
    "                  help=\"multiplier for adjoint_atol and adjoint_rtol\")\n",
    "parser.add_argument('--ode_blocks', type=int, default=1, help='number of ode blocks to run')\n",
    "parser.add_argument(\"--max_nfe\", type=int, default=1000,\n",
    "                  help=\"Maximum number of function evaluations in an epoch. Stiff ODEs will hang if not set.\")\n",
    "parser.add_argument(\"--no_early\", action=\"store_true\",\n",
    "                  help=\"Whether or not to use early stopping of the ODE integrator when testing.\")\n",
    "parser.add_argument('--earlystopxT', type=float, default=3, help='multiplier for T used to evaluate best model')\n",
    "parser.add_argument(\"--max_test_steps\", type=int, default=100,\n",
    "                  help=\"Maximum number steps for the dopri5Early test integrator. \"\n",
    "                       \"used if getting OOM errors at test time\")\n",
    "\n",
    "# Attention args\n",
    "parser.add_argument('--leaky_relu_slope', type=float, default=0.2,\n",
    "                  help='slope of the negative part of the leaky relu used in attention')\n",
    "parser.add_argument('--attention_dropout', type=float, default=0., help='dropout of attention weights')\n",
    "parser.add_argument('--heads', type=int, default=4, help='number of attention heads')\n",
    "parser.add_argument('--attention_norm_idx', type=int, default=0, help='0 = normalise rows, 1 = normalise cols')\n",
    "parser.add_argument('--attention_dim', type=int, default=64,\n",
    "                  help='the size to project x to before calculating att scores')\n",
    "parser.add_argument('--mix_features', dest='mix_features', action='store_true',\n",
    "                  help='apply a feature transformation xW to the ODE')\n",
    "parser.add_argument('--reweight_attention', dest='reweight_attention', action='store_true',\n",
    "                  help=\"multiply attention scores by edge weights before softmax\")\n",
    "parser.add_argument('--attention_type', type=str, default=\"scaled_dot\",\n",
    "                  help=\"scaled_dot,cosine_sim,pearson, exp_kernel\")\n",
    "parser.add_argument('--square_plus', action='store_true', help='replace softmax with square plus')\n",
    "\n",
    "# regularisation args\n",
    "parser.add_argument('--jacobian_norm2', type=float, default=None, help=\"int_t ||df/dx||_F^2\")\n",
    "parser.add_argument('--total_deriv', type=float, default=None, help=\"int_t ||df/dt||^2\")\n",
    "\n",
    "parser.add_argument('--kinetic_energy', type=float, default=None, help=\"int_t ||f||_2^2\")\n",
    "parser.add_argument('--directional_penalty', type=float, default=None, help=\"int_t ||(df/dx)^T f||^2\")\n",
    "\n",
    "# rewiring args\n",
    "parser.add_argument(\"--not_lcc\", action=\"store_false\", help=\"don't use the largest connected component\")\n",
    "parser.add_argument('--rewiring', type=str, default=None, help=\"two_hop, gdc\")\n",
    "parser.add_argument('--gdc_method', type=str, default='ppr', help=\"ppr, heat, coeff\")\n",
    "parser.add_argument('--gdc_sparsification', type=str, default='topk', help=\"threshold, topk\")\n",
    "parser.add_argument('--gdc_k', type=int, default=64, help=\"number of neighbours to sparsify to when using topk\")\n",
    "parser.add_argument('--gdc_threshold', type=float, default=0.0001,\n",
    "                  help=\"obove this edge weight, keep edges when using threshold\")\n",
    "parser.add_argument('--gdc_avg_degree', type=int, default=64,\n",
    "                  help=\"if gdc_threshold is not given can be calculated by specifying avg degree\")\n",
    "parser.add_argument('--ppr_alpha', type=float, default=0.05, help=\"teleport probability\")\n",
    "parser.add_argument('--heat_time', type=float, default=3., help=\"time to run gdc heat kernal diffusion for\")\n",
    "parser.add_argument('--att_samp_pct', type=float, default=1,\n",
    "                  help=\"float in [0,1). The percentage of edges to retain based on attention scores\")\n",
    "parser.add_argument('--use_flux', dest='use_flux', action='store_true',\n",
    "                  help='incorporate the feature grad in attention based edge dropout')\n",
    "parser.add_argument(\"--exact\", action=\"store_true\",\n",
    "                  help=\"for small datasets can do exact diffusion. If dataset is too big for matrix inversion then you can't\")\n",
    "parser.add_argument('--M_nodes', type=int, default=64, help=\"new number of nodes to add\")\n",
    "parser.add_argument('--new_edges', type=str, default=\"random\", help=\"random, random_walk, k_hop\")\n",
    "parser.add_argument('--sparsify', type=str, default=\"S_hat\", help=\"S_hat, recalc_att\")\n",
    "parser.add_argument('--threshold_type', type=str, default=\"topk_adj\", help=\"topk_adj, addD_rvR\")\n",
    "parser.add_argument('--rw_addD', type=float, default=0.02, help=\"percentage of new edges to add\")\n",
    "parser.add_argument('--rw_rmvR', type=float, default=0.02, help=\"percentage of edges to remove\")\n",
    "parser.add_argument('--rewire_KNN', action='store_true', help='perform KNN rewiring every few epochs')\n",
    "parser.add_argument('--rewire_KNN_T', type=str, default=\"T0\", help=\"T0, TN\")\n",
    "parser.add_argument('--rewire_KNN_epoch', type=int, default=5, help=\"frequency of epochs to rewire\")\n",
    "parser.add_argument('--rewire_KNN_k', type=int, default=64, help=\"target degree for KNN rewire\")\n",
    "parser.add_argument('--rewire_KNN_sym', action='store_true', help='make KNN symmetric')\n",
    "parser.add_argument('--KNN_online', action='store_true', help='perform rewiring online')\n",
    "parser.add_argument('--KNN_online_reps', type=int, default=4, help=\"how many online KNN its\")\n",
    "parser.add_argument('--KNN_space', type=str, default=\"pos_distance\", help=\"Z,P,QKZ,QKp\")\n",
    "# beltrami args\n",
    "parser.add_argument('--beltrami', action='store_true', help='perform diffusion beltrami style')\n",
    "parser.add_argument('--fa_layer', action='store_true', help='add a bottleneck paper style layer with more edges')\n",
    "parser.add_argument('--pos_enc_type', type=str, default=\"DW64\",\n",
    "                  help='positional encoder either GDC, DW64, DW128, DW256')\n",
    "parser.add_argument('--pos_enc_orientation', type=str, default=\"row\", help=\"row, col\")\n",
    "parser.add_argument('--feat_hidden_dim', type=int, default=64, help=\"dimension of features in beltrami\")\n",
    "parser.add_argument('--pos_enc_hidden_dim', type=int, default=32, help=\"dimension of position in beltrami\")\n",
    "parser.add_argument('--edge_sampling', action='store_true', help='perform edge sampling rewiring')\n",
    "parser.add_argument('--edge_sampling_T', type=str, default=\"T0\", help=\"T0, TN\")\n",
    "parser.add_argument('--edge_sampling_epoch', type=int, default=5, help=\"frequency of epochs to rewire\")\n",
    "parser.add_argument('--edge_sampling_add', type=float, default=0.64, help=\"percentage of new edges to add\")\n",
    "parser.add_argument('--edge_sampling_add_type', type=str, default=\"importance\",\n",
    "                  help=\"random, ,anchored, importance, degree\")\n",
    "parser.add_argument('--edge_sampling_rmv', type=float, default=0.32, help=\"percentage of edges to remove\")\n",
    "parser.add_argument('--edge_sampling_sym', action='store_true', help='make KNN symmetric')\n",
    "parser.add_argument('--edge_sampling_online', action='store_true', help='perform rewiring online')\n",
    "parser.add_argument('--edge_sampling_online_reps', type=int, default=4, help=\"how many online KNN its\")\n",
    "parser.add_argument('--edge_sampling_space', type=str, default=\"attention\",\n",
    "                  help=\"attention,pos_distance, z_distance, pos_distance_QK, z_distance_QK\")\n",
    "parser.add_argument('--symmetric_attention', action='store_true',\n",
    "                  help='maks the attention symmetric for rewring in QK space')\n",
    "\n",
    "parser.add_argument('--fa_layer_edge_sampling_rmv', type=float, default=0.8, help=\"percentage of edges to remove\")\n",
    "parser.add_argument('--gpu', type=int, default=0, help=\"GPU to run on (default 0)\")\n",
    "parser.add_argument('--pos_enc_csv', action='store_true', help=\"Generate pos encoding as a sparse CSV\")\n",
    "\n",
    "parser.add_argument('--pos_dist_quantile', type=float, default=0.001, help=\"percentage of N**2 edges to keep\")\n",
    "\n",
    "\n",
    "args = parser.parse_args(customArgs)\n",
    "\n",
    "cmd_opt = vars(args)"
   ]
  },
  {
   "cell_type": "code",
   "execution_count": 10,
   "id": "e999b1e9-ecce-4d81-8306-842fc1cf6dcd",
   "metadata": {},
   "outputs": [
    {
     "name": "stdout",
     "output_type": "stream",
     "text": [
      "adjoint method  rk4\n",
      "no early  False\n",
      "before dataset\n",
      "49942016 62914560 2 12972544\n",
      "after dataset\n",
      "177126400 188743680 2 12972544\n",
      "GNNEarly\n",
      "m1.weight\n",
      "torch.Size([98, 128])\n",
      "m1.bias\n",
      "torch.Size([98])\n",
      "m2.weight\n",
      "torch.Size([40, 98])\n",
      "m2.bias\n",
      "torch.Size([40])\n",
      "bn_in.weight\n",
      "torch.Size([98])\n",
      "bn_in.bias\n",
      "torch.Size([98])\n",
      "bn_out.weight\n",
      "torch.Size([98])\n",
      "bn_out.bias\n",
      "torch.Size([98])\n",
      "odeblock.odefunc.alpha_train\n",
      "torch.Size([])\n",
      "odeblock.odefunc.beta_train\n",
      "torch.Size([])\n",
      "odeblock.odefunc.alpha_sc\n",
      "torch.Size([1])\n",
      "odeblock.odefunc.beta_sc\n",
      "torch.Size([1])\n",
      "odeblock.odefunc.w\n",
      "torch.Size([98, 98])\n",
      "odeblock.odefunc.d\n",
      "torch.Size([98])\n",
      "odeblock.reg_odefunc.odefunc.alpha_train\n",
      "torch.Size([])\n",
      "odeblock.reg_odefunc.odefunc.beta_train\n",
      "torch.Size([])\n",
      "odeblock.reg_odefunc.odefunc.alpha_sc\n",
      "torch.Size([1])\n",
      "odeblock.reg_odefunc.odefunc.beta_sc\n",
      "torch.Size([1])\n",
      "odeblock.reg_odefunc.odefunc.w\n",
      "torch.Size([98, 98])\n",
      "odeblock.reg_odefunc.odefunc.d\n",
      "torch.Size([98])\n",
      "before loop\n",
      "177126400\n",
      "epochs until 100\n",
      "before train: allocated reserved\n",
      "177126400 188743680 2 12972544\n"
     ]
    },
    {
     "name": "stderr",
     "output_type": "stream",
     "text": [
      "/home/aeljon00/miniconda3/envs/grandtn/lib/python3.9/site-packages/torchdiffeq/_impl/misc.py:11: UserWarning: Dopri5Solver: Unexpected arguments {'step_size': 1, 'max_iters': 100}\n",
      "  warnings.warn('{}: Unexpected arguments {}'.format(solver.__class__.__name__, unused_kwargs))\n",
      "/home/aeljon00/miniconda3/envs/grandtn/lib/python3.9/site-packages/torchdiffeq/_impl/misc.py:11: UserWarning: RK4: Unexpected arguments {'max_iters': 100}\n",
      "  warnings.warn('{}: Unexpected arguments {}'.format(solver.__class__.__name__, unused_kwargs))\n",
      "/home/aeljon00/miniconda3/envs/grandtn/lib/python3.9/site-packages/torchdiffeq/_impl/misc.py:11: UserWarning: EarlyStopDopri5: Unexpected arguments {'step_size': 1, 'max_iters': 100}\n",
      "  warnings.warn('{}: Unexpected arguments {}'.format(solver.__class__.__name__, unused_kwargs))\n"
     ]
    },
    {
     "name": "stdout",
     "output_type": "stream",
     "text": [
      "after test: allocated reserved\n",
      "1507964928 5471469568 2 12972544\n",
      "Epoch: 001, Runtime 2.130238, Loss 3.722777, forward nfe 26, backward nfe 16, Train: 0.3272, Val: 0.3966, Test: 0.4274, Best time: 6.8704\n",
      "before train: allocated reserved\n",
      "1507964928 3382706176 2 12972544\n"
     ]
    },
    {
     "name": "stderr",
     "output_type": "stream",
     "text": [
      "/home/aeljon00/miniconda3/envs/grandtn/lib/python3.9/site-packages/torchdiffeq/_impl/misc.py:11: UserWarning: Dopri5Solver: Unexpected arguments {'step_size': 1, 'max_iters': 100}\n",
      "  warnings.warn('{}: Unexpected arguments {}'.format(solver.__class__.__name__, unused_kwargs))\n",
      "/home/aeljon00/miniconda3/envs/grandtn/lib/python3.9/site-packages/torchdiffeq/_impl/misc.py:11: UserWarning: RK4: Unexpected arguments {'max_iters': 100}\n",
      "  warnings.warn('{}: Unexpected arguments {}'.format(solver.__class__.__name__, unused_kwargs))\n",
      "/home/aeljon00/miniconda3/envs/grandtn/lib/python3.9/site-packages/torchdiffeq/_impl/misc.py:11: UserWarning: EarlyStopDopri5: Unexpected arguments {'step_size': 1, 'max_iters': 100}\n",
      "  warnings.warn('{}: Unexpected arguments {}'.format(solver.__class__.__name__, unused_kwargs))\n"
     ]
    },
    {
     "name": "stdout",
     "output_type": "stream",
     "text": [
      "after test: allocated reserved\n",
      "2436622336 6312427520 2 12972544\n",
      "Epoch: 002, Runtime 2.127146, Loss 2.620591, forward nfe 96, backward nfe 32, Train: 0.3517, Val: 0.4021, Test: 0.4381, Best time: 1.2792\n",
      "before train: allocated reserved\n",
      "1505786880 4290772992 2 12972544\n"
     ]
    },
    {
     "name": "stderr",
     "output_type": "stream",
     "text": [
      "/home/aeljon00/miniconda3/envs/grandtn/lib/python3.9/site-packages/torchdiffeq/_impl/misc.py:11: UserWarning: Dopri5Solver: Unexpected arguments {'step_size': 1, 'max_iters': 100}\n",
      "  warnings.warn('{}: Unexpected arguments {}'.format(solver.__class__.__name__, unused_kwargs))\n",
      "/home/aeljon00/miniconda3/envs/grandtn/lib/python3.9/site-packages/torchdiffeq/_impl/misc.py:11: UserWarning: RK4: Unexpected arguments {'max_iters': 100}\n",
      "  warnings.warn('{}: Unexpected arguments {}'.format(solver.__class__.__name__, unused_kwargs))\n",
      "/home/aeljon00/miniconda3/envs/grandtn/lib/python3.9/site-packages/torchdiffeq/_impl/misc.py:11: UserWarning: EarlyStopDopri5: Unexpected arguments {'step_size': 1, 'max_iters': 100}\n",
      "  warnings.warn('{}: Unexpected arguments {}'.format(solver.__class__.__name__, unused_kwargs))\n"
     ]
    },
    {
     "name": "stdout",
     "output_type": "stream",
     "text": [
      "after test: allocated reserved\n",
      "2435896320 6245318656 2 12972544\n",
      "Epoch: 003, Runtime 2.129802, Loss 2.248224, forward nfe 166, backward nfe 48, Train: 0.3517, Val: 0.4021, Test: 0.4381, Best time: 3.6760\n",
      "before train: allocated reserved\n",
      "1506512896 4223664128 2 12972544\n"
     ]
    },
    {
     "name": "stderr",
     "output_type": "stream",
     "text": [
      "/home/aeljon00/miniconda3/envs/grandtn/lib/python3.9/site-packages/torchdiffeq/_impl/misc.py:11: UserWarning: Dopri5Solver: Unexpected arguments {'step_size': 1, 'max_iters': 100}\n",
      "  warnings.warn('{}: Unexpected arguments {}'.format(solver.__class__.__name__, unused_kwargs))\n",
      "/home/aeljon00/miniconda3/envs/grandtn/lib/python3.9/site-packages/torchdiffeq/_impl/misc.py:11: UserWarning: RK4: Unexpected arguments {'max_iters': 100}\n",
      "  warnings.warn('{}: Unexpected arguments {}'.format(solver.__class__.__name__, unused_kwargs))\n",
      "/home/aeljon00/miniconda3/envs/grandtn/lib/python3.9/site-packages/torchdiffeq/_impl/misc.py:11: UserWarning: EarlyStopDopri5: Unexpected arguments {'step_size': 1, 'max_iters': 100}\n",
      "  warnings.warn('{}: Unexpected arguments {}'.format(solver.__class__.__name__, unused_kwargs))\n"
     ]
    },
    {
     "name": "stdout",
     "output_type": "stream",
     "text": [
      "after test: allocated reserved\n",
      "2435896320 6178209792 2 12972544\n",
      "Epoch: 004, Runtime 2.129230, Loss 2.129002, forward nfe 236, backward nfe 64, Train: 0.3517, Val: 0.4021, Test: 0.4381, Best time: 3.6760\n",
      "before train: allocated reserved\n",
      "1505786880 4223664128 2 12972544\n"
     ]
    },
    {
     "name": "stderr",
     "output_type": "stream",
     "text": [
      "/home/aeljon00/miniconda3/envs/grandtn/lib/python3.9/site-packages/torchdiffeq/_impl/misc.py:11: UserWarning: Dopri5Solver: Unexpected arguments {'step_size': 1, 'max_iters': 100}\n",
      "  warnings.warn('{}: Unexpected arguments {}'.format(solver.__class__.__name__, unused_kwargs))\n",
      "/home/aeljon00/miniconda3/envs/grandtn/lib/python3.9/site-packages/torchdiffeq/_impl/misc.py:11: UserWarning: RK4: Unexpected arguments {'max_iters': 100}\n",
      "  warnings.warn('{}: Unexpected arguments {}'.format(solver.__class__.__name__, unused_kwargs))\n",
      "/home/aeljon00/miniconda3/envs/grandtn/lib/python3.9/site-packages/torchdiffeq/_impl/misc.py:11: UserWarning: EarlyStopDopri5: Unexpected arguments {'step_size': 1, 'max_iters': 100}\n",
      "  warnings.warn('{}: Unexpected arguments {}'.format(solver.__class__.__name__, unused_kwargs))\n"
     ]
    },
    {
     "name": "stdout",
     "output_type": "stream",
     "text": [
      "after test: allocated reserved\n",
      "2435898880 6178209792 2 12972544\n",
      "Epoch: 005, Runtime 2.128439, Loss 1.891284, forward nfe 306, backward nfe 80, Train: 0.3761, Val: 0.4192, Test: 0.4054, Best time: 1.3084\n",
      "before train: allocated reserved\n",
      "1505789440 4223664128 2 12972544\n"
     ]
    },
    {
     "name": "stderr",
     "output_type": "stream",
     "text": [
      "/home/aeljon00/miniconda3/envs/grandtn/lib/python3.9/site-packages/torchdiffeq/_impl/misc.py:11: UserWarning: Dopri5Solver: Unexpected arguments {'step_size': 1, 'max_iters': 100}\n",
      "  warnings.warn('{}: Unexpected arguments {}'.format(solver.__class__.__name__, unused_kwargs))\n",
      "/home/aeljon00/miniconda3/envs/grandtn/lib/python3.9/site-packages/torchdiffeq/_impl/misc.py:11: UserWarning: RK4: Unexpected arguments {'max_iters': 100}\n",
      "  warnings.warn('{}: Unexpected arguments {}'.format(solver.__class__.__name__, unused_kwargs))\n",
      "/home/aeljon00/miniconda3/envs/grandtn/lib/python3.9/site-packages/torchdiffeq/_impl/misc.py:11: UserWarning: EarlyStopDopri5: Unexpected arguments {'step_size': 1, 'max_iters': 100}\n",
      "  warnings.warn('{}: Unexpected arguments {}'.format(solver.__class__.__name__, unused_kwargs))\n"
     ]
    },
    {
     "name": "stdout",
     "output_type": "stream",
     "text": [
      "after test: allocated reserved\n",
      "2435172864 6178209792 2 12972544\n",
      "Epoch: 006, Runtime 2.132022, Loss 1.820689, forward nfe 376, backward nfe 96, Train: 0.3761, Val: 0.4192, Test: 0.4054, Best time: 3.6760\n",
      "before train: allocated reserved\n",
      "1505786880 4156555264 2 12972544\n"
     ]
    },
    {
     "name": "stderr",
     "output_type": "stream",
     "text": [
      "/home/aeljon00/miniconda3/envs/grandtn/lib/python3.9/site-packages/torchdiffeq/_impl/misc.py:11: UserWarning: Dopri5Solver: Unexpected arguments {'step_size': 1, 'max_iters': 100}\n",
      "  warnings.warn('{}: Unexpected arguments {}'.format(solver.__class__.__name__, unused_kwargs))\n",
      "/home/aeljon00/miniconda3/envs/grandtn/lib/python3.9/site-packages/torchdiffeq/_impl/misc.py:11: UserWarning: RK4: Unexpected arguments {'max_iters': 100}\n",
      "  warnings.warn('{}: Unexpected arguments {}'.format(solver.__class__.__name__, unused_kwargs))\n",
      "/home/aeljon00/miniconda3/envs/grandtn/lib/python3.9/site-packages/torchdiffeq/_impl/misc.py:11: UserWarning: EarlyStopDopri5: Unexpected arguments {'step_size': 1, 'max_iters': 100}\n",
      "  warnings.warn('{}: Unexpected arguments {}'.format(solver.__class__.__name__, unused_kwargs))\n"
     ]
    },
    {
     "name": "stdout",
     "output_type": "stream",
     "text": [
      "after test: allocated reserved\n",
      "2435170304 6111100928 2 12972544\n",
      "Epoch: 007, Runtime 2.129968, Loss 1.752731, forward nfe 446, backward nfe 112, Train: 0.4238, Val: 0.4238, Test: 0.3867, Best time: 1.3199\n",
      "before train: allocated reserved\n",
      "1505060864 4156555264 2 12972544\n"
     ]
    },
    {
     "name": "stderr",
     "output_type": "stream",
     "text": [
      "/home/aeljon00/miniconda3/envs/grandtn/lib/python3.9/site-packages/torchdiffeq/_impl/misc.py:11: UserWarning: Dopri5Solver: Unexpected arguments {'step_size': 1, 'max_iters': 100}\n",
      "  warnings.warn('{}: Unexpected arguments {}'.format(solver.__class__.__name__, unused_kwargs))\n",
      "/home/aeljon00/miniconda3/envs/grandtn/lib/python3.9/site-packages/torchdiffeq/_impl/misc.py:11: UserWarning: RK4: Unexpected arguments {'max_iters': 100}\n",
      "  warnings.warn('{}: Unexpected arguments {}'.format(solver.__class__.__name__, unused_kwargs))\n",
      "/home/aeljon00/miniconda3/envs/grandtn/lib/python3.9/site-packages/torchdiffeq/_impl/misc.py:11: UserWarning: EarlyStopDopri5: Unexpected arguments {'step_size': 1, 'max_iters': 100}\n",
      "  warnings.warn('{}: Unexpected arguments {}'.format(solver.__class__.__name__, unused_kwargs))\n"
     ]
    },
    {
     "name": "stdout",
     "output_type": "stream",
     "text": [
      "after test: allocated reserved\n",
      "2435170816 6111100928 2 12972544\n",
      "Epoch: 008, Runtime 2.132790, Loss 1.704897, forward nfe 516, backward nfe 128, Train: 0.4531, Val: 0.4658, Test: 0.4949, Best time: 3.0671\n",
      "before train: allocated reserved\n",
      "1505787392 4156555264 2 12972544\n"
     ]
    },
    {
     "name": "stderr",
     "output_type": "stream",
     "text": [
      "/home/aeljon00/miniconda3/envs/grandtn/lib/python3.9/site-packages/torchdiffeq/_impl/misc.py:11: UserWarning: Dopri5Solver: Unexpected arguments {'step_size': 1, 'max_iters': 100}\n",
      "  warnings.warn('{}: Unexpected arguments {}'.format(solver.__class__.__name__, unused_kwargs))\n",
      "/home/aeljon00/miniconda3/envs/grandtn/lib/python3.9/site-packages/torchdiffeq/_impl/misc.py:11: UserWarning: RK4: Unexpected arguments {'max_iters': 100}\n",
      "  warnings.warn('{}: Unexpected arguments {}'.format(solver.__class__.__name__, unused_kwargs))\n",
      "/home/aeljon00/miniconda3/envs/grandtn/lib/python3.9/site-packages/torchdiffeq/_impl/misc.py:11: UserWarning: EarlyStopDopri5: Unexpected arguments {'step_size': 1, 'max_iters': 100}\n",
      "  warnings.warn('{}: Unexpected arguments {}'.format(solver.__class__.__name__, unused_kwargs))\n"
     ]
    },
    {
     "name": "stdout",
     "output_type": "stream",
     "text": [
      "after test: allocated reserved\n",
      "2435170816 6111100928 2 12972544\n",
      "Epoch: 009, Runtime 2.133305, Loss 1.601694, forward nfe 586, backward nfe 144, Train: 0.5114, Val: 0.5359, Test: 0.5397, Best time: 5.0545\n",
      "before train: allocated reserved\n",
      "1505786880 4156555264 2 12972544\n"
     ]
    },
    {
     "name": "stderr",
     "output_type": "stream",
     "text": [
      "/home/aeljon00/miniconda3/envs/grandtn/lib/python3.9/site-packages/torchdiffeq/_impl/misc.py:11: UserWarning: Dopri5Solver: Unexpected arguments {'step_size': 1, 'max_iters': 100}\n",
      "  warnings.warn('{}: Unexpected arguments {}'.format(solver.__class__.__name__, unused_kwargs))\n",
      "/home/aeljon00/miniconda3/envs/grandtn/lib/python3.9/site-packages/torchdiffeq/_impl/misc.py:11: UserWarning: RK4: Unexpected arguments {'max_iters': 100}\n",
      "  warnings.warn('{}: Unexpected arguments {}'.format(solver.__class__.__name__, unused_kwargs))\n",
      "/home/aeljon00/miniconda3/envs/grandtn/lib/python3.9/site-packages/torchdiffeq/_impl/misc.py:11: UserWarning: EarlyStopDopri5: Unexpected arguments {'step_size': 1, 'max_iters': 100}\n",
      "  warnings.warn('{}: Unexpected arguments {}'.format(solver.__class__.__name__, unused_kwargs))\n"
     ]
    },
    {
     "name": "stdout",
     "output_type": "stream",
     "text": [
      "after test: allocated reserved\n",
      "2435170304 6111100928 2 12972544\n",
      "Epoch: 010, Runtime 2.132052, Loss 1.561344, forward nfe 656, backward nfe 160, Train: 0.5114, Val: 0.5359, Test: 0.5397, Best time: 3.6760\n",
      "before train: allocated reserved\n",
      "1505060864 4156555264 2 12972544\n"
     ]
    },
    {
     "name": "stderr",
     "output_type": "stream",
     "text": [
      "/home/aeljon00/miniconda3/envs/grandtn/lib/python3.9/site-packages/torchdiffeq/_impl/misc.py:11: UserWarning: Dopri5Solver: Unexpected arguments {'step_size': 1, 'max_iters': 100}\n",
      "  warnings.warn('{}: Unexpected arguments {}'.format(solver.__class__.__name__, unused_kwargs))\n",
      "/home/aeljon00/miniconda3/envs/grandtn/lib/python3.9/site-packages/torchdiffeq/_impl/misc.py:11: UserWarning: RK4: Unexpected arguments {'max_iters': 100}\n",
      "  warnings.warn('{}: Unexpected arguments {}'.format(solver.__class__.__name__, unused_kwargs))\n",
      "/home/aeljon00/miniconda3/envs/grandtn/lib/python3.9/site-packages/torchdiffeq/_impl/misc.py:11: UserWarning: EarlyStopDopri5: Unexpected arguments {'step_size': 1, 'max_iters': 100}\n",
      "  warnings.warn('{}: Unexpected arguments {}'.format(solver.__class__.__name__, unused_kwargs))\n"
     ]
    },
    {
     "name": "stdout",
     "output_type": "stream",
     "text": [
      "after test: allocated reserved\n",
      "2435170816 6111100928 2 12972544\n",
      "Epoch: 011, Runtime 2.131982, Loss 1.533624, forward nfe 726, backward nfe 176, Train: 0.5525, Val: 0.5631, Test: 0.5575, Best time: 5.0604\n",
      "before train: allocated reserved\n",
      "1505787392 4156555264 2 12972544\n"
     ]
    },
    {
     "name": "stderr",
     "output_type": "stream",
     "text": [
      "/home/aeljon00/miniconda3/envs/grandtn/lib/python3.9/site-packages/torchdiffeq/_impl/misc.py:11: UserWarning: Dopri5Solver: Unexpected arguments {'step_size': 1, 'max_iters': 100}\n",
      "  warnings.warn('{}: Unexpected arguments {}'.format(solver.__class__.__name__, unused_kwargs))\n",
      "/home/aeljon00/miniconda3/envs/grandtn/lib/python3.9/site-packages/torchdiffeq/_impl/misc.py:11: UserWarning: RK4: Unexpected arguments {'max_iters': 100}\n",
      "  warnings.warn('{}: Unexpected arguments {}'.format(solver.__class__.__name__, unused_kwargs))\n",
      "/home/aeljon00/miniconda3/envs/grandtn/lib/python3.9/site-packages/torchdiffeq/_impl/misc.py:11: UserWarning: EarlyStopDopri5: Unexpected arguments {'step_size': 1, 'max_iters': 100}\n",
      "  warnings.warn('{}: Unexpected arguments {}'.format(solver.__class__.__name__, unused_kwargs))\n"
     ]
    },
    {
     "name": "stdout",
     "output_type": "stream",
     "text": [
      "after test: allocated reserved\n",
      "2434444800 6111100928 2 12972544\n",
      "Epoch: 012, Runtime 2.132167, Loss 1.520287, forward nfe 796, backward nfe 192, Train: 0.5525, Val: 0.5631, Test: 0.5575, Best time: 3.6760\n",
      "before train: allocated reserved\n",
      "1505060864 4089446400 2 12972544\n"
     ]
    },
    {
     "name": "stderr",
     "output_type": "stream",
     "text": [
      "/home/aeljon00/miniconda3/envs/grandtn/lib/python3.9/site-packages/torchdiffeq/_impl/misc.py:11: UserWarning: Dopri5Solver: Unexpected arguments {'step_size': 1, 'max_iters': 100}\n",
      "  warnings.warn('{}: Unexpected arguments {}'.format(solver.__class__.__name__, unused_kwargs))\n",
      "/home/aeljon00/miniconda3/envs/grandtn/lib/python3.9/site-packages/torchdiffeq/_impl/misc.py:11: UserWarning: RK4: Unexpected arguments {'max_iters': 100}\n",
      "  warnings.warn('{}: Unexpected arguments {}'.format(solver.__class__.__name__, unused_kwargs))\n",
      "/home/aeljon00/miniconda3/envs/grandtn/lib/python3.9/site-packages/torchdiffeq/_impl/misc.py:11: UserWarning: EarlyStopDopri5: Unexpected arguments {'step_size': 1, 'max_iters': 100}\n",
      "  warnings.warn('{}: Unexpected arguments {}'.format(solver.__class__.__name__, unused_kwargs))\n"
     ]
    },
    {
     "name": "stdout",
     "output_type": "stream",
     "text": [
      "after test: allocated reserved\n",
      "2434444288 6043992064 2 12972544\n",
      "Epoch: 013, Runtime 2.133778, Loss 1.490342, forward nfe 866, backward nfe 208, Train: 0.5701, Val: 0.5727, Test: 0.5561, Best time: 5.0287\n",
      "before train: allocated reserved\n",
      "1505060864 4089446400 2 12972544\n"
     ]
    },
    {
     "name": "stderr",
     "output_type": "stream",
     "text": [
      "/home/aeljon00/miniconda3/envs/grandtn/lib/python3.9/site-packages/torchdiffeq/_impl/misc.py:11: UserWarning: Dopri5Solver: Unexpected arguments {'step_size': 1, 'max_iters': 100}\n",
      "  warnings.warn('{}: Unexpected arguments {}'.format(solver.__class__.__name__, unused_kwargs))\n",
      "/home/aeljon00/miniconda3/envs/grandtn/lib/python3.9/site-packages/torchdiffeq/_impl/misc.py:11: UserWarning: RK4: Unexpected arguments {'max_iters': 100}\n",
      "  warnings.warn('{}: Unexpected arguments {}'.format(solver.__class__.__name__, unused_kwargs))\n",
      "/home/aeljon00/miniconda3/envs/grandtn/lib/python3.9/site-packages/torchdiffeq/_impl/misc.py:11: UserWarning: EarlyStopDopri5: Unexpected arguments {'step_size': 1, 'max_iters': 100}\n",
      "  warnings.warn('{}: Unexpected arguments {}'.format(solver.__class__.__name__, unused_kwargs))\n"
     ]
    },
    {
     "name": "stdout",
     "output_type": "stream",
     "text": [
      "after test: allocated reserved\n",
      "2434444288 6043992064 2 12972544\n",
      "Epoch: 014, Runtime 2.134248, Loss 1.495018, forward nfe 936, backward nfe 224, Train: 0.5701, Val: 0.5727, Test: 0.5561, Best time: 3.6760\n",
      "before train: allocated reserved\n",
      "1505060864 4089446400 2 12972544\n"
     ]
    },
    {
     "name": "stderr",
     "output_type": "stream",
     "text": [
      "/home/aeljon00/miniconda3/envs/grandtn/lib/python3.9/site-packages/torchdiffeq/_impl/misc.py:11: UserWarning: Dopri5Solver: Unexpected arguments {'step_size': 1, 'max_iters': 100}\n",
      "  warnings.warn('{}: Unexpected arguments {}'.format(solver.__class__.__name__, unused_kwargs))\n",
      "/home/aeljon00/miniconda3/envs/grandtn/lib/python3.9/site-packages/torchdiffeq/_impl/misc.py:11: UserWarning: RK4: Unexpected arguments {'max_iters': 100}\n",
      "  warnings.warn('{}: Unexpected arguments {}'.format(solver.__class__.__name__, unused_kwargs))\n",
      "/home/aeljon00/miniconda3/envs/grandtn/lib/python3.9/site-packages/torchdiffeq/_impl/misc.py:11: UserWarning: EarlyStopDopri5: Unexpected arguments {'step_size': 1, 'max_iters': 100}\n",
      "  warnings.warn('{}: Unexpected arguments {}'.format(solver.__class__.__name__, unused_kwargs))\n"
     ]
    },
    {
     "name": "stdout",
     "output_type": "stream",
     "text": [
      "after test: allocated reserved\n",
      "2434444288 6043992064 2 12972544\n",
      "Epoch: 015, Runtime 2.132890, Loss 1.490550, forward nfe 1006, backward nfe 240, Train: 0.5701, Val: 0.5727, Test: 0.5561, Best time: 3.6760\n",
      "before train: allocated reserved\n",
      "1505060864 4089446400 2 12972544\n"
     ]
    },
    {
     "name": "stderr",
     "output_type": "stream",
     "text": [
      "/home/aeljon00/miniconda3/envs/grandtn/lib/python3.9/site-packages/torchdiffeq/_impl/misc.py:11: UserWarning: Dopri5Solver: Unexpected arguments {'step_size': 1, 'max_iters': 100}\n",
      "  warnings.warn('{}: Unexpected arguments {}'.format(solver.__class__.__name__, unused_kwargs))\n",
      "/home/aeljon00/miniconda3/envs/grandtn/lib/python3.9/site-packages/torchdiffeq/_impl/misc.py:11: UserWarning: RK4: Unexpected arguments {'max_iters': 100}\n",
      "  warnings.warn('{}: Unexpected arguments {}'.format(solver.__class__.__name__, unused_kwargs))\n",
      "/home/aeljon00/miniconda3/envs/grandtn/lib/python3.9/site-packages/torchdiffeq/_impl/misc.py:11: UserWarning: EarlyStopDopri5: Unexpected arguments {'step_size': 1, 'max_iters': 100}\n",
      "  warnings.warn('{}: Unexpected arguments {}'.format(solver.__class__.__name__, unused_kwargs))\n"
     ]
    },
    {
     "name": "stdout",
     "output_type": "stream",
     "text": [
      "after test: allocated reserved\n",
      "2434444288 6043992064 2 12972544\n",
      "Epoch: 016, Runtime 2.134703, Loss 1.463875, forward nfe 1076, backward nfe 256, Train: 0.5701, Val: 0.5727, Test: 0.5561, Best time: 3.6760\n",
      "before train: allocated reserved\n",
      "1505060864 4089446400 2 12972544\n"
     ]
    },
    {
     "name": "stderr",
     "output_type": "stream",
     "text": [
      "/home/aeljon00/miniconda3/envs/grandtn/lib/python3.9/site-packages/torchdiffeq/_impl/misc.py:11: UserWarning: Dopri5Solver: Unexpected arguments {'step_size': 1, 'max_iters': 100}\n",
      "  warnings.warn('{}: Unexpected arguments {}'.format(solver.__class__.__name__, unused_kwargs))\n",
      "/home/aeljon00/miniconda3/envs/grandtn/lib/python3.9/site-packages/torchdiffeq/_impl/misc.py:11: UserWarning: RK4: Unexpected arguments {'max_iters': 100}\n",
      "  warnings.warn('{}: Unexpected arguments {}'.format(solver.__class__.__name__, unused_kwargs))\n",
      "/home/aeljon00/miniconda3/envs/grandtn/lib/python3.9/site-packages/torchdiffeq/_impl/misc.py:11: UserWarning: EarlyStopDopri5: Unexpected arguments {'step_size': 1, 'max_iters': 100}\n",
      "  warnings.warn('{}: Unexpected arguments {}'.format(solver.__class__.__name__, unused_kwargs))\n"
     ]
    },
    {
     "name": "stdout",
     "output_type": "stream",
     "text": [
      "after test: allocated reserved\n",
      "2434444288 6043992064 2 12972544\n",
      "Epoch: 017, Runtime 2.132648, Loss 1.439820, forward nfe 1146, backward nfe 272, Train: 0.5701, Val: 0.5727, Test: 0.5561, Best time: 3.6760\n",
      "before train: allocated reserved\n",
      "1505060864 4089446400 2 12972544\n"
     ]
    },
    {
     "name": "stderr",
     "output_type": "stream",
     "text": [
      "/home/aeljon00/miniconda3/envs/grandtn/lib/python3.9/site-packages/torchdiffeq/_impl/misc.py:11: UserWarning: Dopri5Solver: Unexpected arguments {'step_size': 1, 'max_iters': 100}\n",
      "  warnings.warn('{}: Unexpected arguments {}'.format(solver.__class__.__name__, unused_kwargs))\n",
      "/home/aeljon00/miniconda3/envs/grandtn/lib/python3.9/site-packages/torchdiffeq/_impl/misc.py:11: UserWarning: RK4: Unexpected arguments {'max_iters': 100}\n",
      "  warnings.warn('{}: Unexpected arguments {}'.format(solver.__class__.__name__, unused_kwargs))\n",
      "/home/aeljon00/miniconda3/envs/grandtn/lib/python3.9/site-packages/torchdiffeq/_impl/misc.py:11: UserWarning: EarlyStopDopri5: Unexpected arguments {'step_size': 1, 'max_iters': 100}\n",
      "  warnings.warn('{}: Unexpected arguments {}'.format(solver.__class__.__name__, unused_kwargs))\n"
     ]
    },
    {
     "name": "stdout",
     "output_type": "stream",
     "text": [
      "after test: allocated reserved\n",
      "2434444288 6043992064 2 12972544\n",
      "Epoch: 018, Runtime 2.133724, Loss 1.424446, forward nfe 1216, backward nfe 288, Train: 0.5701, Val: 0.5727, Test: 0.5561, Best time: 3.6760\n",
      "before train: allocated reserved\n",
      "1505060864 4089446400 2 12972544\n"
     ]
    },
    {
     "name": "stderr",
     "output_type": "stream",
     "text": [
      "/home/aeljon00/miniconda3/envs/grandtn/lib/python3.9/site-packages/torchdiffeq/_impl/misc.py:11: UserWarning: Dopri5Solver: Unexpected arguments {'step_size': 1, 'max_iters': 100}\n",
      "  warnings.warn('{}: Unexpected arguments {}'.format(solver.__class__.__name__, unused_kwargs))\n",
      "/home/aeljon00/miniconda3/envs/grandtn/lib/python3.9/site-packages/torchdiffeq/_impl/misc.py:11: UserWarning: RK4: Unexpected arguments {'max_iters': 100}\n",
      "  warnings.warn('{}: Unexpected arguments {}'.format(solver.__class__.__name__, unused_kwargs))\n",
      "/home/aeljon00/miniconda3/envs/grandtn/lib/python3.9/site-packages/torchdiffeq/_impl/misc.py:11: UserWarning: EarlyStopDopri5: Unexpected arguments {'step_size': 1, 'max_iters': 100}\n",
      "  warnings.warn('{}: Unexpected arguments {}'.format(solver.__class__.__name__, unused_kwargs))\n"
     ]
    },
    {
     "name": "stdout",
     "output_type": "stream",
     "text": [
      "after test: allocated reserved\n",
      "2434444800 6043992064 2 12972544\n",
      "Epoch: 019, Runtime 2.133769, Loss 1.407836, forward nfe 1286, backward nfe 304, Train: 0.5701, Val: 0.5727, Test: 0.5561, Best time: 3.6760\n",
      "before train: allocated reserved\n",
      "1505061376 4089446400 2 12972544\n"
     ]
    },
    {
     "name": "stderr",
     "output_type": "stream",
     "text": [
      "/home/aeljon00/miniconda3/envs/grandtn/lib/python3.9/site-packages/torchdiffeq/_impl/misc.py:11: UserWarning: Dopri5Solver: Unexpected arguments {'step_size': 1, 'max_iters': 100}\n",
      "  warnings.warn('{}: Unexpected arguments {}'.format(solver.__class__.__name__, unused_kwargs))\n",
      "/home/aeljon00/miniconda3/envs/grandtn/lib/python3.9/site-packages/torchdiffeq/_impl/misc.py:11: UserWarning: RK4: Unexpected arguments {'max_iters': 100}\n",
      "  warnings.warn('{}: Unexpected arguments {}'.format(solver.__class__.__name__, unused_kwargs))\n",
      "/home/aeljon00/miniconda3/envs/grandtn/lib/python3.9/site-packages/torchdiffeq/_impl/misc.py:11: UserWarning: EarlyStopDopri5: Unexpected arguments {'step_size': 1, 'max_iters': 100}\n",
      "  warnings.warn('{}: Unexpected arguments {}'.format(solver.__class__.__name__, unused_kwargs))\n"
     ]
    },
    {
     "name": "stdout",
     "output_type": "stream",
     "text": [
      "after test: allocated reserved\n",
      "2434444800 6043992064 2 12972544\n",
      "Epoch: 020, Runtime 2.136408, Loss 1.394886, forward nfe 1356, backward nfe 320, Train: 0.6096, Val: 0.6019, Test: 0.6165, Best time: 7.2690\n",
      "before train: allocated reserved\n",
      "1505060864 4089446400 2 12972544\n"
     ]
    },
    {
     "name": "stderr",
     "output_type": "stream",
     "text": [
      "/home/aeljon00/miniconda3/envs/grandtn/lib/python3.9/site-packages/torchdiffeq/_impl/misc.py:11: UserWarning: Dopri5Solver: Unexpected arguments {'step_size': 1, 'max_iters': 100}\n",
      "  warnings.warn('{}: Unexpected arguments {}'.format(solver.__class__.__name__, unused_kwargs))\n",
      "/home/aeljon00/miniconda3/envs/grandtn/lib/python3.9/site-packages/torchdiffeq/_impl/misc.py:11: UserWarning: RK4: Unexpected arguments {'max_iters': 100}\n",
      "  warnings.warn('{}: Unexpected arguments {}'.format(solver.__class__.__name__, unused_kwargs))\n",
      "/home/aeljon00/miniconda3/envs/grandtn/lib/python3.9/site-packages/torchdiffeq/_impl/misc.py:11: UserWarning: EarlyStopDopri5: Unexpected arguments {'step_size': 1, 'max_iters': 100}\n",
      "  warnings.warn('{}: Unexpected arguments {}'.format(solver.__class__.__name__, unused_kwargs))\n"
     ]
    },
    {
     "name": "stdout",
     "output_type": "stream",
     "text": [
      "after test: allocated reserved\n",
      "2434444288 6043992064 2 12972544\n",
      "Epoch: 021, Runtime 2.134227, Loss 1.380493, forward nfe 1426, backward nfe 336, Train: 0.6096, Val: 0.6019, Test: 0.6165, Best time: 3.6760\n",
      "before train: allocated reserved\n",
      "1505060864 4089446400 2 12972544\n"
     ]
    },
    {
     "name": "stderr",
     "output_type": "stream",
     "text": [
      "/home/aeljon00/miniconda3/envs/grandtn/lib/python3.9/site-packages/torchdiffeq/_impl/misc.py:11: UserWarning: Dopri5Solver: Unexpected arguments {'step_size': 1, 'max_iters': 100}\n",
      "  warnings.warn('{}: Unexpected arguments {}'.format(solver.__class__.__name__, unused_kwargs))\n",
      "/home/aeljon00/miniconda3/envs/grandtn/lib/python3.9/site-packages/torchdiffeq/_impl/misc.py:11: UserWarning: RK4: Unexpected arguments {'max_iters': 100}\n",
      "  warnings.warn('{}: Unexpected arguments {}'.format(solver.__class__.__name__, unused_kwargs))\n",
      "/home/aeljon00/miniconda3/envs/grandtn/lib/python3.9/site-packages/torchdiffeq/_impl/misc.py:11: UserWarning: EarlyStopDopri5: Unexpected arguments {'step_size': 1, 'max_iters': 100}\n",
      "  warnings.warn('{}: Unexpected arguments {}'.format(solver.__class__.__name__, unused_kwargs))\n"
     ]
    },
    {
     "name": "stdout",
     "output_type": "stream",
     "text": [
      "after test: allocated reserved\n",
      "2434444288 6043992064 2 12972544\n",
      "Epoch: 022, Runtime 2.135217, Loss 1.369253, forward nfe 1496, backward nfe 352, Train: 0.6350, Val: 0.6364, Test: 0.6452, Best time: 7.1946\n",
      "before train: allocated reserved\n",
      "1505060864 4089446400 2 12972544\n"
     ]
    },
    {
     "name": "stderr",
     "output_type": "stream",
     "text": [
      "/home/aeljon00/miniconda3/envs/grandtn/lib/python3.9/site-packages/torchdiffeq/_impl/misc.py:11: UserWarning: Dopri5Solver: Unexpected arguments {'step_size': 1, 'max_iters': 100}\n",
      "  warnings.warn('{}: Unexpected arguments {}'.format(solver.__class__.__name__, unused_kwargs))\n",
      "/home/aeljon00/miniconda3/envs/grandtn/lib/python3.9/site-packages/torchdiffeq/_impl/misc.py:11: UserWarning: RK4: Unexpected arguments {'max_iters': 100}\n",
      "  warnings.warn('{}: Unexpected arguments {}'.format(solver.__class__.__name__, unused_kwargs))\n",
      "/home/aeljon00/miniconda3/envs/grandtn/lib/python3.9/site-packages/torchdiffeq/_impl/misc.py:11: UserWarning: EarlyStopDopri5: Unexpected arguments {'step_size': 1, 'max_iters': 100}\n",
      "  warnings.warn('{}: Unexpected arguments {}'.format(solver.__class__.__name__, unused_kwargs))\n"
     ]
    },
    {
     "name": "stdout",
     "output_type": "stream",
     "text": [
      "after test: allocated reserved\n",
      "2434444288 6043992064 2 12972544\n",
      "Epoch: 023, Runtime 2.135655, Loss 1.357157, forward nfe 1566, backward nfe 368, Train: 0.6350, Val: 0.6364, Test: 0.6452, Best time: 3.6760\n",
      "before train: allocated reserved\n",
      "1505060864 4089446400 2 12972544\n"
     ]
    },
    {
     "name": "stderr",
     "output_type": "stream",
     "text": [
      "/home/aeljon00/miniconda3/envs/grandtn/lib/python3.9/site-packages/torchdiffeq/_impl/misc.py:11: UserWarning: Dopri5Solver: Unexpected arguments {'step_size': 1, 'max_iters': 100}\n",
      "  warnings.warn('{}: Unexpected arguments {}'.format(solver.__class__.__name__, unused_kwargs))\n",
      "/home/aeljon00/miniconda3/envs/grandtn/lib/python3.9/site-packages/torchdiffeq/_impl/misc.py:11: UserWarning: RK4: Unexpected arguments {'max_iters': 100}\n",
      "  warnings.warn('{}: Unexpected arguments {}'.format(solver.__class__.__name__, unused_kwargs))\n",
      "/home/aeljon00/miniconda3/envs/grandtn/lib/python3.9/site-packages/torchdiffeq/_impl/misc.py:11: UserWarning: EarlyStopDopri5: Unexpected arguments {'step_size': 1, 'max_iters': 100}\n",
      "  warnings.warn('{}: Unexpected arguments {}'.format(solver.__class__.__name__, unused_kwargs))\n"
     ]
    },
    {
     "name": "stdout",
     "output_type": "stream",
     "text": [
      "after test: allocated reserved\n",
      "2434444288 6043992064 2 12972544\n",
      "Epoch: 024, Runtime 2.136337, Loss 1.349045, forward nfe 1636, backward nfe 384, Train: 0.6475, Val: 0.6531, Test: 0.6577, Best time: 7.0929\n",
      "before train: allocated reserved\n",
      "1505060864 4089446400 2 12972544\n"
     ]
    },
    {
     "name": "stderr",
     "output_type": "stream",
     "text": [
      "/home/aeljon00/miniconda3/envs/grandtn/lib/python3.9/site-packages/torchdiffeq/_impl/misc.py:11: UserWarning: Dopri5Solver: Unexpected arguments {'step_size': 1, 'max_iters': 100}\n",
      "  warnings.warn('{}: Unexpected arguments {}'.format(solver.__class__.__name__, unused_kwargs))\n",
      "/home/aeljon00/miniconda3/envs/grandtn/lib/python3.9/site-packages/torchdiffeq/_impl/misc.py:11: UserWarning: RK4: Unexpected arguments {'max_iters': 100}\n",
      "  warnings.warn('{}: Unexpected arguments {}'.format(solver.__class__.__name__, unused_kwargs))\n",
      "/home/aeljon00/miniconda3/envs/grandtn/lib/python3.9/site-packages/torchdiffeq/_impl/misc.py:11: UserWarning: EarlyStopDopri5: Unexpected arguments {'step_size': 1, 'max_iters': 100}\n",
      "  warnings.warn('{}: Unexpected arguments {}'.format(solver.__class__.__name__, unused_kwargs))\n"
     ]
    },
    {
     "name": "stdout",
     "output_type": "stream",
     "text": [
      "after test: allocated reserved\n",
      "2434444288 6043992064 2 12972544\n",
      "Epoch: 025, Runtime 2.136203, Loss 1.338705, forward nfe 1706, backward nfe 400, Train: 0.6475, Val: 0.6531, Test: 0.6577, Best time: 3.6760\n",
      "before train: allocated reserved\n",
      "1505060864 4089446400 2 12972544\n"
     ]
    },
    {
     "name": "stderr",
     "output_type": "stream",
     "text": [
      "/home/aeljon00/miniconda3/envs/grandtn/lib/python3.9/site-packages/torchdiffeq/_impl/misc.py:11: UserWarning: Dopri5Solver: Unexpected arguments {'step_size': 1, 'max_iters': 100}\n",
      "  warnings.warn('{}: Unexpected arguments {}'.format(solver.__class__.__name__, unused_kwargs))\n",
      "/home/aeljon00/miniconda3/envs/grandtn/lib/python3.9/site-packages/torchdiffeq/_impl/misc.py:11: UserWarning: RK4: Unexpected arguments {'max_iters': 100}\n",
      "  warnings.warn('{}: Unexpected arguments {}'.format(solver.__class__.__name__, unused_kwargs))\n",
      "/home/aeljon00/miniconda3/envs/grandtn/lib/python3.9/site-packages/torchdiffeq/_impl/misc.py:11: UserWarning: EarlyStopDopri5: Unexpected arguments {'step_size': 1, 'max_iters': 100}\n",
      "  warnings.warn('{}: Unexpected arguments {}'.format(solver.__class__.__name__, unused_kwargs))\n"
     ]
    },
    {
     "name": "stdout",
     "output_type": "stream",
     "text": [
      "after test: allocated reserved\n",
      "2434444800 6043992064 2 12972544\n",
      "Epoch: 026, Runtime 2.136506, Loss 1.333053, forward nfe 1776, backward nfe 416, Train: 0.6595, Val: 0.6653, Test: 0.6624, Best time: 6.9897\n",
      "before train: allocated reserved\n",
      "1505061376 4089446400 2 12972544\n"
     ]
    },
    {
     "name": "stderr",
     "output_type": "stream",
     "text": [
      "/home/aeljon00/miniconda3/envs/grandtn/lib/python3.9/site-packages/torchdiffeq/_impl/misc.py:11: UserWarning: Dopri5Solver: Unexpected arguments {'step_size': 1, 'max_iters': 100}\n",
      "  warnings.warn('{}: Unexpected arguments {}'.format(solver.__class__.__name__, unused_kwargs))\n",
      "/home/aeljon00/miniconda3/envs/grandtn/lib/python3.9/site-packages/torchdiffeq/_impl/misc.py:11: UserWarning: RK4: Unexpected arguments {'max_iters': 100}\n",
      "  warnings.warn('{}: Unexpected arguments {}'.format(solver.__class__.__name__, unused_kwargs))\n",
      "/home/aeljon00/miniconda3/envs/grandtn/lib/python3.9/site-packages/torchdiffeq/_impl/misc.py:11: UserWarning: EarlyStopDopri5: Unexpected arguments {'step_size': 1, 'max_iters': 100}\n",
      "  warnings.warn('{}: Unexpected arguments {}'.format(solver.__class__.__name__, unused_kwargs))\n"
     ]
    },
    {
     "name": "stdout",
     "output_type": "stream",
     "text": [
      "after test: allocated reserved\n",
      "2434444800 6043992064 2 12972544\n",
      "Epoch: 027, Runtime 2.136945, Loss 1.322487, forward nfe 1846, backward nfe 432, Train: 0.6595, Val: 0.6653, Test: 0.6624, Best time: 3.6760\n",
      "before train: allocated reserved\n",
      "1505060864 4089446400 2 12972544\n"
     ]
    },
    {
     "name": "stderr",
     "output_type": "stream",
     "text": [
      "/home/aeljon00/miniconda3/envs/grandtn/lib/python3.9/site-packages/torchdiffeq/_impl/misc.py:11: UserWarning: Dopri5Solver: Unexpected arguments {'step_size': 1, 'max_iters': 100}\n",
      "  warnings.warn('{}: Unexpected arguments {}'.format(solver.__class__.__name__, unused_kwargs))\n",
      "/home/aeljon00/miniconda3/envs/grandtn/lib/python3.9/site-packages/torchdiffeq/_impl/misc.py:11: UserWarning: RK4: Unexpected arguments {'max_iters': 100}\n",
      "  warnings.warn('{}: Unexpected arguments {}'.format(solver.__class__.__name__, unused_kwargs))\n",
      "/home/aeljon00/miniconda3/envs/grandtn/lib/python3.9/site-packages/torchdiffeq/_impl/misc.py:11: UserWarning: EarlyStopDopri5: Unexpected arguments {'step_size': 1, 'max_iters': 100}\n",
      "  warnings.warn('{}: Unexpected arguments {}'.format(solver.__class__.__name__, unused_kwargs))\n"
     ]
    },
    {
     "name": "stdout",
     "output_type": "stream",
     "text": [
      "after test: allocated reserved\n",
      "2434444288 6043992064 2 12972544\n",
      "Epoch: 028, Runtime 2.136636, Loss 1.317096, forward nfe 1916, backward nfe 448, Train: 0.6595, Val: 0.6653, Test: 0.6624, Best time: 3.6760\n",
      "before train: allocated reserved\n",
      "1505060864 4089446400 2 12972544\n"
     ]
    },
    {
     "name": "stderr",
     "output_type": "stream",
     "text": [
      "/home/aeljon00/miniconda3/envs/grandtn/lib/python3.9/site-packages/torchdiffeq/_impl/misc.py:11: UserWarning: Dopri5Solver: Unexpected arguments {'step_size': 1, 'max_iters': 100}\n",
      "  warnings.warn('{}: Unexpected arguments {}'.format(solver.__class__.__name__, unused_kwargs))\n",
      "/home/aeljon00/miniconda3/envs/grandtn/lib/python3.9/site-packages/torchdiffeq/_impl/misc.py:11: UserWarning: RK4: Unexpected arguments {'max_iters': 100}\n",
      "  warnings.warn('{}: Unexpected arguments {}'.format(solver.__class__.__name__, unused_kwargs))\n",
      "/home/aeljon00/miniconda3/envs/grandtn/lib/python3.9/site-packages/torchdiffeq/_impl/misc.py:11: UserWarning: EarlyStopDopri5: Unexpected arguments {'step_size': 1, 'max_iters': 100}\n",
      "  warnings.warn('{}: Unexpected arguments {}'.format(solver.__class__.__name__, unused_kwargs))\n"
     ]
    },
    {
     "name": "stdout",
     "output_type": "stream",
     "text": [
      "after test: allocated reserved\n",
      "2434444288 6043992064 2 12972544\n",
      "Epoch: 029, Runtime 2.138465, Loss 1.306982, forward nfe 1986, backward nfe 464, Train: 0.6595, Val: 0.6653, Test: 0.6624, Best time: 3.6760\n",
      "before train: allocated reserved\n",
      "1505060864 4089446400 2 12972544\n"
     ]
    },
    {
     "name": "stderr",
     "output_type": "stream",
     "text": [
      "/home/aeljon00/miniconda3/envs/grandtn/lib/python3.9/site-packages/torchdiffeq/_impl/misc.py:11: UserWarning: Dopri5Solver: Unexpected arguments {'step_size': 1, 'max_iters': 100}\n",
      "  warnings.warn('{}: Unexpected arguments {}'.format(solver.__class__.__name__, unused_kwargs))\n",
      "/home/aeljon00/miniconda3/envs/grandtn/lib/python3.9/site-packages/torchdiffeq/_impl/misc.py:11: UserWarning: RK4: Unexpected arguments {'max_iters': 100}\n",
      "  warnings.warn('{}: Unexpected arguments {}'.format(solver.__class__.__name__, unused_kwargs))\n",
      "/home/aeljon00/miniconda3/envs/grandtn/lib/python3.9/site-packages/torchdiffeq/_impl/misc.py:11: UserWarning: EarlyStopDopri5: Unexpected arguments {'step_size': 1, 'max_iters': 100}\n",
      "  warnings.warn('{}: Unexpected arguments {}'.format(solver.__class__.__name__, unused_kwargs))\n"
     ]
    },
    {
     "name": "stdout",
     "output_type": "stream",
     "text": [
      "after test: allocated reserved\n",
      "2434444288 6043992064 2 12972544\n",
      "Epoch: 030, Runtime 2.137079, Loss 1.304060, forward nfe 2056, backward nfe 480, Train: 0.6595, Val: 0.6653, Test: 0.6624, Best time: 3.6760\n",
      "before train: allocated reserved\n",
      "1505060864 4089446400 2 12972544\n"
     ]
    },
    {
     "name": "stderr",
     "output_type": "stream",
     "text": [
      "/home/aeljon00/miniconda3/envs/grandtn/lib/python3.9/site-packages/torchdiffeq/_impl/misc.py:11: UserWarning: Dopri5Solver: Unexpected arguments {'step_size': 1, 'max_iters': 100}\n",
      "  warnings.warn('{}: Unexpected arguments {}'.format(solver.__class__.__name__, unused_kwargs))\n",
      "/home/aeljon00/miniconda3/envs/grandtn/lib/python3.9/site-packages/torchdiffeq/_impl/misc.py:11: UserWarning: RK4: Unexpected arguments {'max_iters': 100}\n",
      "  warnings.warn('{}: Unexpected arguments {}'.format(solver.__class__.__name__, unused_kwargs))\n",
      "/home/aeljon00/miniconda3/envs/grandtn/lib/python3.9/site-packages/torchdiffeq/_impl/misc.py:11: UserWarning: EarlyStopDopri5: Unexpected arguments {'step_size': 1, 'max_iters': 100}\n",
      "  warnings.warn('{}: Unexpected arguments {}'.format(solver.__class__.__name__, unused_kwargs))\n"
     ]
    },
    {
     "name": "stdout",
     "output_type": "stream",
     "text": [
      "after test: allocated reserved\n",
      "2434444288 6043992064 2 12972544\n",
      "Epoch: 031, Runtime 2.136886, Loss 1.294568, forward nfe 2126, backward nfe 496, Train: 0.6595, Val: 0.6653, Test: 0.6624, Best time: 3.6760\n",
      "before train: allocated reserved\n",
      "1505060864 4089446400 2 12972544\n"
     ]
    },
    {
     "name": "stderr",
     "output_type": "stream",
     "text": [
      "/home/aeljon00/miniconda3/envs/grandtn/lib/python3.9/site-packages/torchdiffeq/_impl/misc.py:11: UserWarning: Dopri5Solver: Unexpected arguments {'step_size': 1, 'max_iters': 100}\n",
      "  warnings.warn('{}: Unexpected arguments {}'.format(solver.__class__.__name__, unused_kwargs))\n",
      "/home/aeljon00/miniconda3/envs/grandtn/lib/python3.9/site-packages/torchdiffeq/_impl/misc.py:11: UserWarning: RK4: Unexpected arguments {'max_iters': 100}\n",
      "  warnings.warn('{}: Unexpected arguments {}'.format(solver.__class__.__name__, unused_kwargs))\n",
      "/home/aeljon00/miniconda3/envs/grandtn/lib/python3.9/site-packages/torchdiffeq/_impl/misc.py:11: UserWarning: EarlyStopDopri5: Unexpected arguments {'step_size': 1, 'max_iters': 100}\n",
      "  warnings.warn('{}: Unexpected arguments {}'.format(solver.__class__.__name__, unused_kwargs))\n"
     ]
    },
    {
     "name": "stdout",
     "output_type": "stream",
     "text": [
      "after test: allocated reserved\n",
      "2434444288 6043992064 2 12972544\n",
      "Epoch: 032, Runtime 2.137596, Loss 1.298335, forward nfe 2196, backward nfe 512, Train: 0.6595, Val: 0.6653, Test: 0.6624, Best time: 3.6760\n",
      "before train: allocated reserved\n",
      "1505060864 4089446400 2 12972544\n"
     ]
    },
    {
     "name": "stderr",
     "output_type": "stream",
     "text": [
      "/home/aeljon00/miniconda3/envs/grandtn/lib/python3.9/site-packages/torchdiffeq/_impl/misc.py:11: UserWarning: Dopri5Solver: Unexpected arguments {'step_size': 1, 'max_iters': 100}\n",
      "  warnings.warn('{}: Unexpected arguments {}'.format(solver.__class__.__name__, unused_kwargs))\n",
      "/home/aeljon00/miniconda3/envs/grandtn/lib/python3.9/site-packages/torchdiffeq/_impl/misc.py:11: UserWarning: RK4: Unexpected arguments {'max_iters': 100}\n",
      "  warnings.warn('{}: Unexpected arguments {}'.format(solver.__class__.__name__, unused_kwargs))\n",
      "/home/aeljon00/miniconda3/envs/grandtn/lib/python3.9/site-packages/torchdiffeq/_impl/misc.py:11: UserWarning: EarlyStopDopri5: Unexpected arguments {'step_size': 1, 'max_iters': 100}\n",
      "  warnings.warn('{}: Unexpected arguments {}'.format(solver.__class__.__name__, unused_kwargs))\n"
     ]
    },
    {
     "name": "stdout",
     "output_type": "stream",
     "text": [
      "after test: allocated reserved\n",
      "2434444288 6043992064 2 12972544\n",
      "Epoch: 033, Runtime 2.137270, Loss 1.286620, forward nfe 2266, backward nfe 528, Train: 0.6595, Val: 0.6653, Test: 0.6624, Best time: 3.6760\n",
      "before train: allocated reserved\n",
      "1505060864 4089446400 2 12972544\n"
     ]
    },
    {
     "name": "stderr",
     "output_type": "stream",
     "text": [
      "/home/aeljon00/miniconda3/envs/grandtn/lib/python3.9/site-packages/torchdiffeq/_impl/misc.py:11: UserWarning: Dopri5Solver: Unexpected arguments {'step_size': 1, 'max_iters': 100}\n",
      "  warnings.warn('{}: Unexpected arguments {}'.format(solver.__class__.__name__, unused_kwargs))\n",
      "/home/aeljon00/miniconda3/envs/grandtn/lib/python3.9/site-packages/torchdiffeq/_impl/misc.py:11: UserWarning: RK4: Unexpected arguments {'max_iters': 100}\n",
      "  warnings.warn('{}: Unexpected arguments {}'.format(solver.__class__.__name__, unused_kwargs))\n",
      "/home/aeljon00/miniconda3/envs/grandtn/lib/python3.9/site-packages/torchdiffeq/_impl/misc.py:11: UserWarning: EarlyStopDopri5: Unexpected arguments {'step_size': 1, 'max_iters': 100}\n",
      "  warnings.warn('{}: Unexpected arguments {}'.format(solver.__class__.__name__, unused_kwargs))\n"
     ]
    },
    {
     "name": "stdout",
     "output_type": "stream",
     "text": [
      "after test: allocated reserved\n",
      "2434444288 6043992064 2 12972544\n",
      "Epoch: 034, Runtime 2.137154, Loss 1.287769, forward nfe 2336, backward nfe 544, Train: 0.6595, Val: 0.6653, Test: 0.6624, Best time: 3.6760\n",
      "before train: allocated reserved\n",
      "1505060864 4089446400 2 12972544\n"
     ]
    },
    {
     "name": "stderr",
     "output_type": "stream",
     "text": [
      "/home/aeljon00/miniconda3/envs/grandtn/lib/python3.9/site-packages/torchdiffeq/_impl/misc.py:11: UserWarning: Dopri5Solver: Unexpected arguments {'step_size': 1, 'max_iters': 100}\n",
      "  warnings.warn('{}: Unexpected arguments {}'.format(solver.__class__.__name__, unused_kwargs))\n",
      "/home/aeljon00/miniconda3/envs/grandtn/lib/python3.9/site-packages/torchdiffeq/_impl/misc.py:11: UserWarning: RK4: Unexpected arguments {'max_iters': 100}\n",
      "  warnings.warn('{}: Unexpected arguments {}'.format(solver.__class__.__name__, unused_kwargs))\n",
      "/home/aeljon00/miniconda3/envs/grandtn/lib/python3.9/site-packages/torchdiffeq/_impl/misc.py:11: UserWarning: EarlyStopDopri5: Unexpected arguments {'step_size': 1, 'max_iters': 100}\n",
      "  warnings.warn('{}: Unexpected arguments {}'.format(solver.__class__.__name__, unused_kwargs))\n"
     ]
    },
    {
     "name": "stdout",
     "output_type": "stream",
     "text": [
      "after test: allocated reserved\n",
      "2434444288 6043992064 2 12972544\n",
      "Epoch: 035, Runtime 2.139032, Loss 1.277176, forward nfe 2406, backward nfe 560, Train: 0.6595, Val: 0.6653, Test: 0.6624, Best time: 3.6760\n",
      "before train: allocated reserved\n",
      "1505060864 4089446400 2 12972544\n"
     ]
    },
    {
     "name": "stderr",
     "output_type": "stream",
     "text": [
      "/home/aeljon00/miniconda3/envs/grandtn/lib/python3.9/site-packages/torchdiffeq/_impl/misc.py:11: UserWarning: Dopri5Solver: Unexpected arguments {'step_size': 1, 'max_iters': 100}\n",
      "  warnings.warn('{}: Unexpected arguments {}'.format(solver.__class__.__name__, unused_kwargs))\n",
      "/home/aeljon00/miniconda3/envs/grandtn/lib/python3.9/site-packages/torchdiffeq/_impl/misc.py:11: UserWarning: RK4: Unexpected arguments {'max_iters': 100}\n",
      "  warnings.warn('{}: Unexpected arguments {}'.format(solver.__class__.__name__, unused_kwargs))\n",
      "/home/aeljon00/miniconda3/envs/grandtn/lib/python3.9/site-packages/torchdiffeq/_impl/misc.py:11: UserWarning: EarlyStopDopri5: Unexpected arguments {'step_size': 1, 'max_iters': 100}\n",
      "  warnings.warn('{}: Unexpected arguments {}'.format(solver.__class__.__name__, unused_kwargs))\n"
     ]
    },
    {
     "name": "stdout",
     "output_type": "stream",
     "text": [
      "after test: allocated reserved\n",
      "2434444288 6043992064 2 12972544\n",
      "Epoch: 036, Runtime 2.138183, Loss 1.283590, forward nfe 2476, backward nfe 576, Train: 0.6595, Val: 0.6653, Test: 0.6624, Best time: 3.6760\n",
      "before train: allocated reserved\n",
      "1505060864 4089446400 2 12972544\n"
     ]
    },
    {
     "name": "stderr",
     "output_type": "stream",
     "text": [
      "/home/aeljon00/miniconda3/envs/grandtn/lib/python3.9/site-packages/torchdiffeq/_impl/misc.py:11: UserWarning: Dopri5Solver: Unexpected arguments {'step_size': 1, 'max_iters': 100}\n",
      "  warnings.warn('{}: Unexpected arguments {}'.format(solver.__class__.__name__, unused_kwargs))\n",
      "/home/aeljon00/miniconda3/envs/grandtn/lib/python3.9/site-packages/torchdiffeq/_impl/misc.py:11: UserWarning: RK4: Unexpected arguments {'max_iters': 100}\n",
      "  warnings.warn('{}: Unexpected arguments {}'.format(solver.__class__.__name__, unused_kwargs))\n",
      "/home/aeljon00/miniconda3/envs/grandtn/lib/python3.9/site-packages/torchdiffeq/_impl/misc.py:11: UserWarning: EarlyStopDopri5: Unexpected arguments {'step_size': 1, 'max_iters': 100}\n",
      "  warnings.warn('{}: Unexpected arguments {}'.format(solver.__class__.__name__, unused_kwargs))\n"
     ]
    },
    {
     "name": "stdout",
     "output_type": "stream",
     "text": [
      "after test: allocated reserved\n",
      "2434444288 6043992064 2 12972544\n",
      "Epoch: 037, Runtime 2.136764, Loss 1.287752, forward nfe 2546, backward nfe 592, Train: 0.6595, Val: 0.6653, Test: 0.6624, Best time: 3.6760\n",
      "before train: allocated reserved\n",
      "1505060864 4089446400 2 12972544\n"
     ]
    },
    {
     "name": "stderr",
     "output_type": "stream",
     "text": [
      "/home/aeljon00/miniconda3/envs/grandtn/lib/python3.9/site-packages/torchdiffeq/_impl/misc.py:11: UserWarning: Dopri5Solver: Unexpected arguments {'step_size': 1, 'max_iters': 100}\n",
      "  warnings.warn('{}: Unexpected arguments {}'.format(solver.__class__.__name__, unused_kwargs))\n",
      "/home/aeljon00/miniconda3/envs/grandtn/lib/python3.9/site-packages/torchdiffeq/_impl/misc.py:11: UserWarning: RK4: Unexpected arguments {'max_iters': 100}\n",
      "  warnings.warn('{}: Unexpected arguments {}'.format(solver.__class__.__name__, unused_kwargs))\n",
      "/home/aeljon00/miniconda3/envs/grandtn/lib/python3.9/site-packages/torchdiffeq/_impl/misc.py:11: UserWarning: EarlyStopDopri5: Unexpected arguments {'step_size': 1, 'max_iters': 100}\n",
      "  warnings.warn('{}: Unexpected arguments {}'.format(solver.__class__.__name__, unused_kwargs))\n"
     ]
    },
    {
     "name": "stdout",
     "output_type": "stream",
     "text": [
      "after test: allocated reserved\n",
      "2434444288 6043992064 2 12972544\n",
      "Epoch: 038, Runtime 2.138548, Loss 1.288240, forward nfe 2616, backward nfe 608, Train: 0.6595, Val: 0.6653, Test: 0.6624, Best time: 3.6760\n",
      "before train: allocated reserved\n",
      "1505060864 4089446400 2 12972544\n"
     ]
    },
    {
     "name": "stderr",
     "output_type": "stream",
     "text": [
      "/home/aeljon00/miniconda3/envs/grandtn/lib/python3.9/site-packages/torchdiffeq/_impl/misc.py:11: UserWarning: Dopri5Solver: Unexpected arguments {'step_size': 1, 'max_iters': 100}\n",
      "  warnings.warn('{}: Unexpected arguments {}'.format(solver.__class__.__name__, unused_kwargs))\n",
      "/home/aeljon00/miniconda3/envs/grandtn/lib/python3.9/site-packages/torchdiffeq/_impl/misc.py:11: UserWarning: RK4: Unexpected arguments {'max_iters': 100}\n",
      "  warnings.warn('{}: Unexpected arguments {}'.format(solver.__class__.__name__, unused_kwargs))\n",
      "/home/aeljon00/miniconda3/envs/grandtn/lib/python3.9/site-packages/torchdiffeq/_impl/misc.py:11: UserWarning: EarlyStopDopri5: Unexpected arguments {'step_size': 1, 'max_iters': 100}\n",
      "  warnings.warn('{}: Unexpected arguments {}'.format(solver.__class__.__name__, unused_kwargs))\n"
     ]
    },
    {
     "name": "stdout",
     "output_type": "stream",
     "text": [
      "after test: allocated reserved\n",
      "2434444288 6043992064 2 12972544\n",
      "Epoch: 039, Runtime 2.139306, Loss 1.282103, forward nfe 2686, backward nfe 624, Train: 0.6615, Val: 0.6666, Test: 0.6629, Best time: 6.2464\n",
      "before train: allocated reserved\n",
      "1505060864 4089446400 2 12972544\n"
     ]
    },
    {
     "name": "stderr",
     "output_type": "stream",
     "text": [
      "/home/aeljon00/miniconda3/envs/grandtn/lib/python3.9/site-packages/torchdiffeq/_impl/misc.py:11: UserWarning: Dopri5Solver: Unexpected arguments {'step_size': 1, 'max_iters': 100}\n",
      "  warnings.warn('{}: Unexpected arguments {}'.format(solver.__class__.__name__, unused_kwargs))\n",
      "/home/aeljon00/miniconda3/envs/grandtn/lib/python3.9/site-packages/torchdiffeq/_impl/misc.py:11: UserWarning: RK4: Unexpected arguments {'max_iters': 100}\n",
      "  warnings.warn('{}: Unexpected arguments {}'.format(solver.__class__.__name__, unused_kwargs))\n",
      "/home/aeljon00/miniconda3/envs/grandtn/lib/python3.9/site-packages/torchdiffeq/_impl/misc.py:11: UserWarning: EarlyStopDopri5: Unexpected arguments {'step_size': 1, 'max_iters': 100}\n",
      "  warnings.warn('{}: Unexpected arguments {}'.format(solver.__class__.__name__, unused_kwargs))\n"
     ]
    },
    {
     "name": "stdout",
     "output_type": "stream",
     "text": [
      "after test: allocated reserved\n",
      "2434444288 6043992064 2 12972544\n",
      "Epoch: 040, Runtime 2.141016, Loss 1.283102, forward nfe 2756, backward nfe 640, Train: 0.6775, Val: 0.6703, Test: 0.6508, Best time: 6.2124\n",
      "before train: allocated reserved\n",
      "1505060864 4089446400 2 12972544\n"
     ]
    },
    {
     "name": "stderr",
     "output_type": "stream",
     "text": [
      "/home/aeljon00/miniconda3/envs/grandtn/lib/python3.9/site-packages/torchdiffeq/_impl/misc.py:11: UserWarning: Dopri5Solver: Unexpected arguments {'step_size': 1, 'max_iters': 100}\n",
      "  warnings.warn('{}: Unexpected arguments {}'.format(solver.__class__.__name__, unused_kwargs))\n",
      "/home/aeljon00/miniconda3/envs/grandtn/lib/python3.9/site-packages/torchdiffeq/_impl/misc.py:11: UserWarning: RK4: Unexpected arguments {'max_iters': 100}\n",
      "  warnings.warn('{}: Unexpected arguments {}'.format(solver.__class__.__name__, unused_kwargs))\n",
      "/home/aeljon00/miniconda3/envs/grandtn/lib/python3.9/site-packages/torchdiffeq/_impl/misc.py:11: UserWarning: EarlyStopDopri5: Unexpected arguments {'step_size': 1, 'max_iters': 100}\n",
      "  warnings.warn('{}: Unexpected arguments {}'.format(solver.__class__.__name__, unused_kwargs))\n"
     ]
    },
    {
     "name": "stdout",
     "output_type": "stream",
     "text": [
      "after test: allocated reserved\n",
      "2434444288 6043992064 2 12972544\n",
      "Epoch: 041, Runtime 2.140358, Loss 1.259356, forward nfe 2826, backward nfe 656, Train: 0.6733, Val: 0.6751, Test: 0.6685, Best time: 6.1947\n",
      "before train: allocated reserved\n",
      "1505060864 4089446400 2 12972544\n"
     ]
    },
    {
     "name": "stderr",
     "output_type": "stream",
     "text": [
      "/home/aeljon00/miniconda3/envs/grandtn/lib/python3.9/site-packages/torchdiffeq/_impl/misc.py:11: UserWarning: Dopri5Solver: Unexpected arguments {'step_size': 1, 'max_iters': 100}\n",
      "  warnings.warn('{}: Unexpected arguments {}'.format(solver.__class__.__name__, unused_kwargs))\n",
      "/home/aeljon00/miniconda3/envs/grandtn/lib/python3.9/site-packages/torchdiffeq/_impl/misc.py:11: UserWarning: RK4: Unexpected arguments {'max_iters': 100}\n",
      "  warnings.warn('{}: Unexpected arguments {}'.format(solver.__class__.__name__, unused_kwargs))\n",
      "/home/aeljon00/miniconda3/envs/grandtn/lib/python3.9/site-packages/torchdiffeq/_impl/misc.py:11: UserWarning: EarlyStopDopri5: Unexpected arguments {'step_size': 1, 'max_iters': 100}\n",
      "  warnings.warn('{}: Unexpected arguments {}'.format(solver.__class__.__name__, unused_kwargs))\n"
     ]
    },
    {
     "name": "stdout",
     "output_type": "stream",
     "text": [
      "after test: allocated reserved\n",
      "2434444288 6043992064 2 12972544\n",
      "Epoch: 042, Runtime 2.139648, Loss 1.255477, forward nfe 2896, backward nfe 672, Train: 0.6733, Val: 0.6751, Test: 0.6685, Best time: 3.6760\n",
      "before train: allocated reserved\n",
      "1505060864 4089446400 2 12972544\n"
     ]
    },
    {
     "name": "stderr",
     "output_type": "stream",
     "text": [
      "/home/aeljon00/miniconda3/envs/grandtn/lib/python3.9/site-packages/torchdiffeq/_impl/misc.py:11: UserWarning: Dopri5Solver: Unexpected arguments {'step_size': 1, 'max_iters': 100}\n",
      "  warnings.warn('{}: Unexpected arguments {}'.format(solver.__class__.__name__, unused_kwargs))\n",
      "/home/aeljon00/miniconda3/envs/grandtn/lib/python3.9/site-packages/torchdiffeq/_impl/misc.py:11: UserWarning: RK4: Unexpected arguments {'max_iters': 100}\n",
      "  warnings.warn('{}: Unexpected arguments {}'.format(solver.__class__.__name__, unused_kwargs))\n",
      "/home/aeljon00/miniconda3/envs/grandtn/lib/python3.9/site-packages/torchdiffeq/_impl/misc.py:11: UserWarning: EarlyStopDopri5: Unexpected arguments {'step_size': 1, 'max_iters': 100}\n",
      "  warnings.warn('{}: Unexpected arguments {}'.format(solver.__class__.__name__, unused_kwargs))\n"
     ]
    },
    {
     "name": "stdout",
     "output_type": "stream",
     "text": [
      "after test: allocated reserved\n",
      "2434444288 6043992064 2 12972544\n",
      "Epoch: 043, Runtime 2.139259, Loss 1.243481, forward nfe 2966, backward nfe 688, Train: 0.6811, Val: 0.6812, Test: 0.6726, Best time: 6.1621\n",
      "before train: allocated reserved\n",
      "1505060864 4089446400 2 12972544\n"
     ]
    },
    {
     "name": "stderr",
     "output_type": "stream",
     "text": [
      "/home/aeljon00/miniconda3/envs/grandtn/lib/python3.9/site-packages/torchdiffeq/_impl/misc.py:11: UserWarning: Dopri5Solver: Unexpected arguments {'step_size': 1, 'max_iters': 100}\n",
      "  warnings.warn('{}: Unexpected arguments {}'.format(solver.__class__.__name__, unused_kwargs))\n",
      "/home/aeljon00/miniconda3/envs/grandtn/lib/python3.9/site-packages/torchdiffeq/_impl/misc.py:11: UserWarning: RK4: Unexpected arguments {'max_iters': 100}\n",
      "  warnings.warn('{}: Unexpected arguments {}'.format(solver.__class__.__name__, unused_kwargs))\n",
      "/home/aeljon00/miniconda3/envs/grandtn/lib/python3.9/site-packages/torchdiffeq/_impl/misc.py:11: UserWarning: EarlyStopDopri5: Unexpected arguments {'step_size': 1, 'max_iters': 100}\n",
      "  warnings.warn('{}: Unexpected arguments {}'.format(solver.__class__.__name__, unused_kwargs))\n"
     ]
    },
    {
     "name": "stdout",
     "output_type": "stream",
     "text": [
      "after test: allocated reserved\n",
      "2434444288 6043992064 2 12972544\n",
      "Epoch: 044, Runtime 2.138723, Loss 1.241348, forward nfe 3036, backward nfe 704, Train: 0.6811, Val: 0.6812, Test: 0.6726, Best time: 3.6760\n",
      "before train: allocated reserved\n",
      "1505060864 4089446400 2 12972544\n"
     ]
    },
    {
     "name": "stderr",
     "output_type": "stream",
     "text": [
      "/home/aeljon00/miniconda3/envs/grandtn/lib/python3.9/site-packages/torchdiffeq/_impl/misc.py:11: UserWarning: Dopri5Solver: Unexpected arguments {'step_size': 1, 'max_iters': 100}\n",
      "  warnings.warn('{}: Unexpected arguments {}'.format(solver.__class__.__name__, unused_kwargs))\n",
      "/home/aeljon00/miniconda3/envs/grandtn/lib/python3.9/site-packages/torchdiffeq/_impl/misc.py:11: UserWarning: RK4: Unexpected arguments {'max_iters': 100}\n",
      "  warnings.warn('{}: Unexpected arguments {}'.format(solver.__class__.__name__, unused_kwargs))\n",
      "/home/aeljon00/miniconda3/envs/grandtn/lib/python3.9/site-packages/torchdiffeq/_impl/misc.py:11: UserWarning: EarlyStopDopri5: Unexpected arguments {'step_size': 1, 'max_iters': 100}\n",
      "  warnings.warn('{}: Unexpected arguments {}'.format(solver.__class__.__name__, unused_kwargs))\n"
     ]
    },
    {
     "name": "stdout",
     "output_type": "stream",
     "text": [
      "after test: allocated reserved\n",
      "2434444288 6043992064 2 12972544\n",
      "Epoch: 045, Runtime 2.141486, Loss 1.238640, forward nfe 3106, backward nfe 720, Train: 0.6847, Val: 0.6819, Test: 0.6645, Best time: 6.1277\n",
      "before train: allocated reserved\n",
      "1505060864 4089446400 2 12972544\n"
     ]
    },
    {
     "name": "stderr",
     "output_type": "stream",
     "text": [
      "/home/aeljon00/miniconda3/envs/grandtn/lib/python3.9/site-packages/torchdiffeq/_impl/misc.py:11: UserWarning: Dopri5Solver: Unexpected arguments {'step_size': 1, 'max_iters': 100}\n",
      "  warnings.warn('{}: Unexpected arguments {}'.format(solver.__class__.__name__, unused_kwargs))\n",
      "/home/aeljon00/miniconda3/envs/grandtn/lib/python3.9/site-packages/torchdiffeq/_impl/misc.py:11: UserWarning: RK4: Unexpected arguments {'max_iters': 100}\n",
      "  warnings.warn('{}: Unexpected arguments {}'.format(solver.__class__.__name__, unused_kwargs))\n",
      "/home/aeljon00/miniconda3/envs/grandtn/lib/python3.9/site-packages/torchdiffeq/_impl/misc.py:11: UserWarning: EarlyStopDopri5: Unexpected arguments {'step_size': 1, 'max_iters': 100}\n",
      "  warnings.warn('{}: Unexpected arguments {}'.format(solver.__class__.__name__, unused_kwargs))\n"
     ]
    },
    {
     "name": "stdout",
     "output_type": "stream",
     "text": [
      "after test: allocated reserved\n",
      "2434444288 6043992064 2 12972544\n",
      "Epoch: 046, Runtime 2.140018, Loss 1.235352, forward nfe 3176, backward nfe 736, Train: 0.6847, Val: 0.6819, Test: 0.6645, Best time: 3.6760\n",
      "before train: allocated reserved\n",
      "1505060864 4089446400 2 12972544\n"
     ]
    },
    {
     "name": "stderr",
     "output_type": "stream",
     "text": [
      "/home/aeljon00/miniconda3/envs/grandtn/lib/python3.9/site-packages/torchdiffeq/_impl/misc.py:11: UserWarning: Dopri5Solver: Unexpected arguments {'step_size': 1, 'max_iters': 100}\n",
      "  warnings.warn('{}: Unexpected arguments {}'.format(solver.__class__.__name__, unused_kwargs))\n",
      "/home/aeljon00/miniconda3/envs/grandtn/lib/python3.9/site-packages/torchdiffeq/_impl/misc.py:11: UserWarning: RK4: Unexpected arguments {'max_iters': 100}\n",
      "  warnings.warn('{}: Unexpected arguments {}'.format(solver.__class__.__name__, unused_kwargs))\n",
      "/home/aeljon00/miniconda3/envs/grandtn/lib/python3.9/site-packages/torchdiffeq/_impl/misc.py:11: UserWarning: EarlyStopDopri5: Unexpected arguments {'step_size': 1, 'max_iters': 100}\n",
      "  warnings.warn('{}: Unexpected arguments {}'.format(solver.__class__.__name__, unused_kwargs))\n"
     ]
    },
    {
     "name": "stdout",
     "output_type": "stream",
     "text": [
      "after test: allocated reserved\n",
      "2434444288 6043992064 2 12972544\n",
      "Epoch: 047, Runtime 2.142477, Loss 1.238091, forward nfe 3246, backward nfe 752, Train: 0.6847, Val: 0.6819, Test: 0.6645, Best time: 3.6760\n",
      "before train: allocated reserved\n",
      "1505060864 4089446400 2 12972544\n"
     ]
    },
    {
     "name": "stderr",
     "output_type": "stream",
     "text": [
      "/home/aeljon00/miniconda3/envs/grandtn/lib/python3.9/site-packages/torchdiffeq/_impl/misc.py:11: UserWarning: Dopri5Solver: Unexpected arguments {'step_size': 1, 'max_iters': 100}\n",
      "  warnings.warn('{}: Unexpected arguments {}'.format(solver.__class__.__name__, unused_kwargs))\n",
      "/home/aeljon00/miniconda3/envs/grandtn/lib/python3.9/site-packages/torchdiffeq/_impl/misc.py:11: UserWarning: RK4: Unexpected arguments {'max_iters': 100}\n",
      "  warnings.warn('{}: Unexpected arguments {}'.format(solver.__class__.__name__, unused_kwargs))\n",
      "/home/aeljon00/miniconda3/envs/grandtn/lib/python3.9/site-packages/torchdiffeq/_impl/misc.py:11: UserWarning: EarlyStopDopri5: Unexpected arguments {'step_size': 1, 'max_iters': 100}\n",
      "  warnings.warn('{}: Unexpected arguments {}'.format(solver.__class__.__name__, unused_kwargs))\n"
     ]
    },
    {
     "name": "stdout",
     "output_type": "stream",
     "text": [
      "after test: allocated reserved\n",
      "2434444288 6043992064 2 12972544\n",
      "Epoch: 048, Runtime 2.141075, Loss 1.231826, forward nfe 3316, backward nfe 768, Train: 0.6847, Val: 0.6819, Test: 0.6645, Best time: 3.6760\n",
      "before train: allocated reserved\n",
      "1505060864 4089446400 2 12972544\n"
     ]
    },
    {
     "name": "stderr",
     "output_type": "stream",
     "text": [
      "/home/aeljon00/miniconda3/envs/grandtn/lib/python3.9/site-packages/torchdiffeq/_impl/misc.py:11: UserWarning: Dopri5Solver: Unexpected arguments {'step_size': 1, 'max_iters': 100}\n",
      "  warnings.warn('{}: Unexpected arguments {}'.format(solver.__class__.__name__, unused_kwargs))\n",
      "/home/aeljon00/miniconda3/envs/grandtn/lib/python3.9/site-packages/torchdiffeq/_impl/misc.py:11: UserWarning: RK4: Unexpected arguments {'max_iters': 100}\n",
      "  warnings.warn('{}: Unexpected arguments {}'.format(solver.__class__.__name__, unused_kwargs))\n",
      "/home/aeljon00/miniconda3/envs/grandtn/lib/python3.9/site-packages/torchdiffeq/_impl/misc.py:11: UserWarning: EarlyStopDopri5: Unexpected arguments {'step_size': 1, 'max_iters': 100}\n",
      "  warnings.warn('{}: Unexpected arguments {}'.format(solver.__class__.__name__, unused_kwargs))\n"
     ]
    },
    {
     "name": "stdout",
     "output_type": "stream",
     "text": [
      "after test: allocated reserved\n",
      "2434444288 6043992064 2 12972544\n",
      "Epoch: 049, Runtime 2.142256, Loss 1.229268, forward nfe 3386, backward nfe 784, Train: 0.6857, Val: 0.6825, Test: 0.6601, Best time: 6.0180\n",
      "before train: allocated reserved\n",
      "1505060864 4089446400 2 12972544\n"
     ]
    },
    {
     "name": "stderr",
     "output_type": "stream",
     "text": [
      "/home/aeljon00/miniconda3/envs/grandtn/lib/python3.9/site-packages/torchdiffeq/_impl/misc.py:11: UserWarning: Dopri5Solver: Unexpected arguments {'step_size': 1, 'max_iters': 100}\n",
      "  warnings.warn('{}: Unexpected arguments {}'.format(solver.__class__.__name__, unused_kwargs))\n",
      "/home/aeljon00/miniconda3/envs/grandtn/lib/python3.9/site-packages/torchdiffeq/_impl/misc.py:11: UserWarning: RK4: Unexpected arguments {'max_iters': 100}\n",
      "  warnings.warn('{}: Unexpected arguments {}'.format(solver.__class__.__name__, unused_kwargs))\n",
      "/home/aeljon00/miniconda3/envs/grandtn/lib/python3.9/site-packages/torchdiffeq/_impl/misc.py:11: UserWarning: EarlyStopDopri5: Unexpected arguments {'step_size': 1, 'max_iters': 100}\n",
      "  warnings.warn('{}: Unexpected arguments {}'.format(solver.__class__.__name__, unused_kwargs))\n"
     ]
    },
    {
     "name": "stdout",
     "output_type": "stream",
     "text": [
      "after test: allocated reserved\n",
      "2434444288 6043992064 2 12972544\n",
      "Epoch: 050, Runtime 2.142290, Loss 1.224825, forward nfe 3456, backward nfe 800, Train: 0.6857, Val: 0.6825, Test: 0.6601, Best time: 3.6760\n",
      "before train: allocated reserved\n",
      "1505060864 4089446400 2 12972544\n"
     ]
    },
    {
     "name": "stderr",
     "output_type": "stream",
     "text": [
      "/home/aeljon00/miniconda3/envs/grandtn/lib/python3.9/site-packages/torchdiffeq/_impl/misc.py:11: UserWarning: Dopri5Solver: Unexpected arguments {'step_size': 1, 'max_iters': 100}\n",
      "  warnings.warn('{}: Unexpected arguments {}'.format(solver.__class__.__name__, unused_kwargs))\n",
      "/home/aeljon00/miniconda3/envs/grandtn/lib/python3.9/site-packages/torchdiffeq/_impl/misc.py:11: UserWarning: RK4: Unexpected arguments {'max_iters': 100}\n",
      "  warnings.warn('{}: Unexpected arguments {}'.format(solver.__class__.__name__, unused_kwargs))\n",
      "/home/aeljon00/miniconda3/envs/grandtn/lib/python3.9/site-packages/torchdiffeq/_impl/misc.py:11: UserWarning: EarlyStopDopri5: Unexpected arguments {'step_size': 1, 'max_iters': 100}\n",
      "  warnings.warn('{}: Unexpected arguments {}'.format(solver.__class__.__name__, unused_kwargs))\n"
     ]
    },
    {
     "name": "stdout",
     "output_type": "stream",
     "text": [
      "after test: allocated reserved\n",
      "2434444800 6043992064 2 12972544\n",
      "Epoch: 051, Runtime 2.140707, Loss 1.222159, forward nfe 3526, backward nfe 816, Train: 0.6857, Val: 0.6825, Test: 0.6601, Best time: 3.6760\n",
      "before train: allocated reserved\n",
      "1505061376 4089446400 2 12972544\n"
     ]
    },
    {
     "name": "stderr",
     "output_type": "stream",
     "text": [
      "/home/aeljon00/miniconda3/envs/grandtn/lib/python3.9/site-packages/torchdiffeq/_impl/misc.py:11: UserWarning: Dopri5Solver: Unexpected arguments {'step_size': 1, 'max_iters': 100}\n",
      "  warnings.warn('{}: Unexpected arguments {}'.format(solver.__class__.__name__, unused_kwargs))\n",
      "/home/aeljon00/miniconda3/envs/grandtn/lib/python3.9/site-packages/torchdiffeq/_impl/misc.py:11: UserWarning: RK4: Unexpected arguments {'max_iters': 100}\n",
      "  warnings.warn('{}: Unexpected arguments {}'.format(solver.__class__.__name__, unused_kwargs))\n",
      "/home/aeljon00/miniconda3/envs/grandtn/lib/python3.9/site-packages/torchdiffeq/_impl/misc.py:11: UserWarning: EarlyStopDopri5: Unexpected arguments {'step_size': 1, 'max_iters': 100}\n",
      "  warnings.warn('{}: Unexpected arguments {}'.format(solver.__class__.__name__, unused_kwargs))\n"
     ]
    },
    {
     "name": "stdout",
     "output_type": "stream",
     "text": [
      "after test: allocated reserved\n",
      "2434444800 7019167744 2 12972544\n",
      "Epoch: 052, Runtime 2.140594, Loss 1.217671, forward nfe 3596, backward nfe 832, Train: 0.6857, Val: 0.6825, Test: 0.6601, Best time: 3.6760\n",
      "before train: allocated reserved\n",
      "1505060864 4089446400 2 12972544\n"
     ]
    },
    {
     "name": "stderr",
     "output_type": "stream",
     "text": [
      "/home/aeljon00/miniconda3/envs/grandtn/lib/python3.9/site-packages/torchdiffeq/_impl/misc.py:11: UserWarning: Dopri5Solver: Unexpected arguments {'step_size': 1, 'max_iters': 100}\n",
      "  warnings.warn('{}: Unexpected arguments {}'.format(solver.__class__.__name__, unused_kwargs))\n",
      "/home/aeljon00/miniconda3/envs/grandtn/lib/python3.9/site-packages/torchdiffeq/_impl/misc.py:11: UserWarning: RK4: Unexpected arguments {'max_iters': 100}\n",
      "  warnings.warn('{}: Unexpected arguments {}'.format(solver.__class__.__name__, unused_kwargs))\n",
      "/home/aeljon00/miniconda3/envs/grandtn/lib/python3.9/site-packages/torchdiffeq/_impl/misc.py:11: UserWarning: EarlyStopDopri5: Unexpected arguments {'step_size': 1, 'max_iters': 100}\n",
      "  warnings.warn('{}: Unexpected arguments {}'.format(solver.__class__.__name__, unused_kwargs))\n"
     ]
    },
    {
     "name": "stdout",
     "output_type": "stream",
     "text": [
      "after test: allocated reserved\n",
      "2434444288 6043992064 2 12972544\n",
      "Epoch: 053, Runtime 2.141123, Loss 1.216479, forward nfe 3666, backward nfe 848, Train: 0.6857, Val: 0.6825, Test: 0.6601, Best time: 3.6760\n",
      "before train: allocated reserved\n",
      "1505060864 4089446400 2 12972544\n"
     ]
    },
    {
     "name": "stderr",
     "output_type": "stream",
     "text": [
      "/home/aeljon00/miniconda3/envs/grandtn/lib/python3.9/site-packages/torchdiffeq/_impl/misc.py:11: UserWarning: Dopri5Solver: Unexpected arguments {'step_size': 1, 'max_iters': 100}\n",
      "  warnings.warn('{}: Unexpected arguments {}'.format(solver.__class__.__name__, unused_kwargs))\n",
      "/home/aeljon00/miniconda3/envs/grandtn/lib/python3.9/site-packages/torchdiffeq/_impl/misc.py:11: UserWarning: RK4: Unexpected arguments {'max_iters': 100}\n",
      "  warnings.warn('{}: Unexpected arguments {}'.format(solver.__class__.__name__, unused_kwargs))\n",
      "/home/aeljon00/miniconda3/envs/grandtn/lib/python3.9/site-packages/torchdiffeq/_impl/misc.py:11: UserWarning: EarlyStopDopri5: Unexpected arguments {'step_size': 1, 'max_iters': 100}\n",
      "  warnings.warn('{}: Unexpected arguments {}'.format(solver.__class__.__name__, unused_kwargs))\n"
     ]
    },
    {
     "name": "stdout",
     "output_type": "stream",
     "text": [
      "after test: allocated reserved\n",
      "2434444288 6043992064 2 12972544\n",
      "Epoch: 054, Runtime 2.282874, Loss 1.211761, forward nfe 3736, backward nfe 864, Train: 0.6857, Val: 0.6825, Test: 0.6601, Best time: 3.6760\n",
      "before train: allocated reserved\n",
      "1505060864 4089446400 2 12972544\n"
     ]
    },
    {
     "name": "stderr",
     "output_type": "stream",
     "text": [
      "/home/aeljon00/miniconda3/envs/grandtn/lib/python3.9/site-packages/torchdiffeq/_impl/misc.py:11: UserWarning: Dopri5Solver: Unexpected arguments {'step_size': 1, 'max_iters': 100}\n",
      "  warnings.warn('{}: Unexpected arguments {}'.format(solver.__class__.__name__, unused_kwargs))\n",
      "/home/aeljon00/miniconda3/envs/grandtn/lib/python3.9/site-packages/torchdiffeq/_impl/misc.py:11: UserWarning: RK4: Unexpected arguments {'max_iters': 100}\n",
      "  warnings.warn('{}: Unexpected arguments {}'.format(solver.__class__.__name__, unused_kwargs))\n",
      "/home/aeljon00/miniconda3/envs/grandtn/lib/python3.9/site-packages/torchdiffeq/_impl/misc.py:11: UserWarning: EarlyStopDopri5: Unexpected arguments {'step_size': 1, 'max_iters': 100}\n",
      "  warnings.warn('{}: Unexpected arguments {}'.format(solver.__class__.__name__, unused_kwargs))\n"
     ]
    },
    {
     "name": "stdout",
     "output_type": "stream",
     "text": [
      "after test: allocated reserved\n",
      "2434444288 6043992064 2 12972544\n",
      "Epoch: 055, Runtime 2.141841, Loss 1.207314, forward nfe 3812, backward nfe 880, Train: 0.6857, Val: 0.6825, Test: 0.6601, Best time: 3.6760\n",
      "before train: allocated reserved\n",
      "1505060864 4089446400 2 12972544\n"
     ]
    },
    {
     "name": "stderr",
     "output_type": "stream",
     "text": [
      "/home/aeljon00/miniconda3/envs/grandtn/lib/python3.9/site-packages/torchdiffeq/_impl/misc.py:11: UserWarning: Dopri5Solver: Unexpected arguments {'step_size': 1, 'max_iters': 100}\n",
      "  warnings.warn('{}: Unexpected arguments {}'.format(solver.__class__.__name__, unused_kwargs))\n",
      "/home/aeljon00/miniconda3/envs/grandtn/lib/python3.9/site-packages/torchdiffeq/_impl/misc.py:11: UserWarning: RK4: Unexpected arguments {'max_iters': 100}\n",
      "  warnings.warn('{}: Unexpected arguments {}'.format(solver.__class__.__name__, unused_kwargs))\n",
      "/home/aeljon00/miniconda3/envs/grandtn/lib/python3.9/site-packages/torchdiffeq/_impl/misc.py:11: UserWarning: EarlyStopDopri5: Unexpected arguments {'step_size': 1, 'max_iters': 100}\n",
      "  warnings.warn('{}: Unexpected arguments {}'.format(solver.__class__.__name__, unused_kwargs))\n"
     ]
    },
    {
     "name": "stdout",
     "output_type": "stream",
     "text": [
      "after test: allocated reserved\n",
      "2434444288 6043992064 2 12972544\n",
      "Epoch: 056, Runtime 2.282422, Loss 1.205518, forward nfe 3882, backward nfe 896, Train: 0.6857, Val: 0.6825, Test: 0.6601, Best time: 3.6760\n",
      "before train: allocated reserved\n",
      "1505060864 4089446400 2 12972544\n"
     ]
    },
    {
     "name": "stderr",
     "output_type": "stream",
     "text": [
      "/home/aeljon00/miniconda3/envs/grandtn/lib/python3.9/site-packages/torchdiffeq/_impl/misc.py:11: UserWarning: Dopri5Solver: Unexpected arguments {'step_size': 1, 'max_iters': 100}\n",
      "  warnings.warn('{}: Unexpected arguments {}'.format(solver.__class__.__name__, unused_kwargs))\n",
      "/home/aeljon00/miniconda3/envs/grandtn/lib/python3.9/site-packages/torchdiffeq/_impl/misc.py:11: UserWarning: RK4: Unexpected arguments {'max_iters': 100}\n",
      "  warnings.warn('{}: Unexpected arguments {}'.format(solver.__class__.__name__, unused_kwargs))\n",
      "/home/aeljon00/miniconda3/envs/grandtn/lib/python3.9/site-packages/torchdiffeq/_impl/misc.py:11: UserWarning: EarlyStopDopri5: Unexpected arguments {'step_size': 1, 'max_iters': 100}\n",
      "  warnings.warn('{}: Unexpected arguments {}'.format(solver.__class__.__name__, unused_kwargs))\n"
     ]
    },
    {
     "name": "stdout",
     "output_type": "stream",
     "text": [
      "after test: allocated reserved\n",
      "2434444288 6043992064 2 12972544\n",
      "Epoch: 057, Runtime 2.141658, Loss 1.202264, forward nfe 3958, backward nfe 912, Train: 0.6857, Val: 0.6825, Test: 0.6601, Best time: 3.6760\n",
      "before train: allocated reserved\n",
      "1505060864 4089446400 2 12972544\n"
     ]
    },
    {
     "name": "stderr",
     "output_type": "stream",
     "text": [
      "/home/aeljon00/miniconda3/envs/grandtn/lib/python3.9/site-packages/torchdiffeq/_impl/misc.py:11: UserWarning: Dopri5Solver: Unexpected arguments {'step_size': 1, 'max_iters': 100}\n",
      "  warnings.warn('{}: Unexpected arguments {}'.format(solver.__class__.__name__, unused_kwargs))\n",
      "/home/aeljon00/miniconda3/envs/grandtn/lib/python3.9/site-packages/torchdiffeq/_impl/misc.py:11: UserWarning: RK4: Unexpected arguments {'max_iters': 100}\n",
      "  warnings.warn('{}: Unexpected arguments {}'.format(solver.__class__.__name__, unused_kwargs))\n",
      "/home/aeljon00/miniconda3/envs/grandtn/lib/python3.9/site-packages/torchdiffeq/_impl/misc.py:11: UserWarning: EarlyStopDopri5: Unexpected arguments {'step_size': 1, 'max_iters': 100}\n",
      "  warnings.warn('{}: Unexpected arguments {}'.format(solver.__class__.__name__, unused_kwargs))\n"
     ]
    },
    {
     "name": "stdout",
     "output_type": "stream",
     "text": [
      "after test: allocated reserved\n",
      "2434444288 6043992064 2 12972544\n",
      "Epoch: 058, Runtime 2.281448, Loss 1.201733, forward nfe 4028, backward nfe 928, Train: 0.6857, Val: 0.6825, Test: 0.6601, Best time: 3.6760\n",
      "before train: allocated reserved\n",
      "1505060864 4089446400 2 12972544\n"
     ]
    },
    {
     "name": "stderr",
     "output_type": "stream",
     "text": [
      "/home/aeljon00/miniconda3/envs/grandtn/lib/python3.9/site-packages/torchdiffeq/_impl/misc.py:11: UserWarning: Dopri5Solver: Unexpected arguments {'step_size': 1, 'max_iters': 100}\n",
      "  warnings.warn('{}: Unexpected arguments {}'.format(solver.__class__.__name__, unused_kwargs))\n",
      "/home/aeljon00/miniconda3/envs/grandtn/lib/python3.9/site-packages/torchdiffeq/_impl/misc.py:11: UserWarning: RK4: Unexpected arguments {'max_iters': 100}\n",
      "  warnings.warn('{}: Unexpected arguments {}'.format(solver.__class__.__name__, unused_kwargs))\n",
      "/home/aeljon00/miniconda3/envs/grandtn/lib/python3.9/site-packages/torchdiffeq/_impl/misc.py:11: UserWarning: EarlyStopDopri5: Unexpected arguments {'step_size': 1, 'max_iters': 100}\n",
      "  warnings.warn('{}: Unexpected arguments {}'.format(solver.__class__.__name__, unused_kwargs))\n"
     ]
    },
    {
     "name": "stdout",
     "output_type": "stream",
     "text": [
      "after test: allocated reserved\n",
      "2434444288 6043992064 2 12972544\n",
      "Epoch: 059, Runtime 2.140995, Loss 1.203570, forward nfe 4104, backward nfe 944, Train: 0.6857, Val: 0.6825, Test: 0.6601, Best time: 3.6760\n",
      "before train: allocated reserved\n",
      "1505060864 4089446400 2 12972544\n"
     ]
    },
    {
     "name": "stderr",
     "output_type": "stream",
     "text": [
      "/home/aeljon00/miniconda3/envs/grandtn/lib/python3.9/site-packages/torchdiffeq/_impl/misc.py:11: UserWarning: Dopri5Solver: Unexpected arguments {'step_size': 1, 'max_iters': 100}\n",
      "  warnings.warn('{}: Unexpected arguments {}'.format(solver.__class__.__name__, unused_kwargs))\n",
      "/home/aeljon00/miniconda3/envs/grandtn/lib/python3.9/site-packages/torchdiffeq/_impl/misc.py:11: UserWarning: RK4: Unexpected arguments {'max_iters': 100}\n",
      "  warnings.warn('{}: Unexpected arguments {}'.format(solver.__class__.__name__, unused_kwargs))\n",
      "/home/aeljon00/miniconda3/envs/grandtn/lib/python3.9/site-packages/torchdiffeq/_impl/misc.py:11: UserWarning: EarlyStopDopri5: Unexpected arguments {'step_size': 1, 'max_iters': 100}\n",
      "  warnings.warn('{}: Unexpected arguments {}'.format(solver.__class__.__name__, unused_kwargs))\n"
     ]
    },
    {
     "name": "stdout",
     "output_type": "stream",
     "text": [
      "after test: allocated reserved\n",
      "2434444288 6043992064 2 12972544\n",
      "Epoch: 060, Runtime 2.282834, Loss 1.206118, forward nfe 4174, backward nfe 960, Train: 0.6857, Val: 0.6825, Test: 0.6601, Best time: 3.6760\n",
      "before train: allocated reserved\n",
      "1505060864 4089446400 2 12972544\n"
     ]
    },
    {
     "name": "stderr",
     "output_type": "stream",
     "text": [
      "/home/aeljon00/miniconda3/envs/grandtn/lib/python3.9/site-packages/torchdiffeq/_impl/misc.py:11: UserWarning: Dopri5Solver: Unexpected arguments {'step_size': 1, 'max_iters': 100}\n",
      "  warnings.warn('{}: Unexpected arguments {}'.format(solver.__class__.__name__, unused_kwargs))\n",
      "/home/aeljon00/miniconda3/envs/grandtn/lib/python3.9/site-packages/torchdiffeq/_impl/misc.py:11: UserWarning: RK4: Unexpected arguments {'max_iters': 100}\n",
      "  warnings.warn('{}: Unexpected arguments {}'.format(solver.__class__.__name__, unused_kwargs))\n",
      "/home/aeljon00/miniconda3/envs/grandtn/lib/python3.9/site-packages/torchdiffeq/_impl/misc.py:11: UserWarning: EarlyStopDopri5: Unexpected arguments {'step_size': 1, 'max_iters': 100}\n",
      "  warnings.warn('{}: Unexpected arguments {}'.format(solver.__class__.__name__, unused_kwargs))\n"
     ]
    },
    {
     "name": "stdout",
     "output_type": "stream",
     "text": [
      "after test: allocated reserved\n",
      "2434444288 6043992064 2 12972544\n",
      "Epoch: 061, Runtime 2.282941, Loss 1.209662, forward nfe 4250, backward nfe 976, Train: 0.6857, Val: 0.6825, Test: 0.6601, Best time: 3.6760\n",
      "before train: allocated reserved\n",
      "1505060864 4089446400 2 12972544\n"
     ]
    },
    {
     "name": "stderr",
     "output_type": "stream",
     "text": [
      "/home/aeljon00/miniconda3/envs/grandtn/lib/python3.9/site-packages/torchdiffeq/_impl/misc.py:11: UserWarning: Dopri5Solver: Unexpected arguments {'step_size': 1, 'max_iters': 100}\n",
      "  warnings.warn('{}: Unexpected arguments {}'.format(solver.__class__.__name__, unused_kwargs))\n",
      "/home/aeljon00/miniconda3/envs/grandtn/lib/python3.9/site-packages/torchdiffeq/_impl/misc.py:11: UserWarning: RK4: Unexpected arguments {'max_iters': 100}\n",
      "  warnings.warn('{}: Unexpected arguments {}'.format(solver.__class__.__name__, unused_kwargs))\n",
      "/home/aeljon00/miniconda3/envs/grandtn/lib/python3.9/site-packages/torchdiffeq/_impl/misc.py:11: UserWarning: EarlyStopDopri5: Unexpected arguments {'step_size': 1, 'max_iters': 100}\n",
      "  warnings.warn('{}: Unexpected arguments {}'.format(solver.__class__.__name__, unused_kwargs))\n"
     ]
    },
    {
     "name": "stdout",
     "output_type": "stream",
     "text": [
      "after test: allocated reserved\n",
      "2434444800 6043992064 2 12972544\n",
      "Epoch: 062, Runtime 2.282295, Loss 1.210039, forward nfe 4326, backward nfe 992, Train: 0.6857, Val: 0.6825, Test: 0.6601, Best time: 3.6760\n",
      "before train: allocated reserved\n",
      "1505061376 4089446400 2 12972544\n"
     ]
    },
    {
     "name": "stderr",
     "output_type": "stream",
     "text": [
      "/home/aeljon00/miniconda3/envs/grandtn/lib/python3.9/site-packages/torchdiffeq/_impl/misc.py:11: UserWarning: Dopri5Solver: Unexpected arguments {'step_size': 1, 'max_iters': 100}\n",
      "  warnings.warn('{}: Unexpected arguments {}'.format(solver.__class__.__name__, unused_kwargs))\n",
      "/home/aeljon00/miniconda3/envs/grandtn/lib/python3.9/site-packages/torchdiffeq/_impl/misc.py:11: UserWarning: RK4: Unexpected arguments {'max_iters': 100}\n",
      "  warnings.warn('{}: Unexpected arguments {}'.format(solver.__class__.__name__, unused_kwargs))\n",
      "/home/aeljon00/miniconda3/envs/grandtn/lib/python3.9/site-packages/torchdiffeq/_impl/misc.py:11: UserWarning: EarlyStopDopri5: Unexpected arguments {'step_size': 1, 'max_iters': 100}\n",
      "  warnings.warn('{}: Unexpected arguments {}'.format(solver.__class__.__name__, unused_kwargs))\n"
     ]
    },
    {
     "name": "stdout",
     "output_type": "stream",
     "text": [
      "after test: allocated reserved\n",
      "2434444800 6043992064 2 12972544\n",
      "Epoch: 063, Runtime 2.281411, Loss 1.208198, forward nfe 4402, backward nfe 1008, Train: 0.6857, Val: 0.6825, Test: 0.6601, Best time: 3.6760\n",
      "before train: allocated reserved\n",
      "1505060864 4089446400 2 12972544\n"
     ]
    },
    {
     "name": "stderr",
     "output_type": "stream",
     "text": [
      "/home/aeljon00/miniconda3/envs/grandtn/lib/python3.9/site-packages/torchdiffeq/_impl/misc.py:11: UserWarning: Dopri5Solver: Unexpected arguments {'step_size': 1, 'max_iters': 100}\n",
      "  warnings.warn('{}: Unexpected arguments {}'.format(solver.__class__.__name__, unused_kwargs))\n",
      "/home/aeljon00/miniconda3/envs/grandtn/lib/python3.9/site-packages/torchdiffeq/_impl/misc.py:11: UserWarning: RK4: Unexpected arguments {'max_iters': 100}\n",
      "  warnings.warn('{}: Unexpected arguments {}'.format(solver.__class__.__name__, unused_kwargs))\n",
      "/home/aeljon00/miniconda3/envs/grandtn/lib/python3.9/site-packages/torchdiffeq/_impl/misc.py:11: UserWarning: EarlyStopDopri5: Unexpected arguments {'step_size': 1, 'max_iters': 100}\n",
      "  warnings.warn('{}: Unexpected arguments {}'.format(solver.__class__.__name__, unused_kwargs))\n"
     ]
    },
    {
     "name": "stdout",
     "output_type": "stream",
     "text": [
      "after test: allocated reserved\n",
      "2434444288 6043992064 2 12972544\n",
      "Epoch: 064, Runtime 2.281807, Loss 1.214048, forward nfe 4478, backward nfe 1024, Train: 0.6857, Val: 0.6825, Test: 0.6601, Best time: 3.6760\n",
      "before train: allocated reserved\n",
      "1505060864 4089446400 2 12972544\n"
     ]
    },
    {
     "name": "stderr",
     "output_type": "stream",
     "text": [
      "/home/aeljon00/miniconda3/envs/grandtn/lib/python3.9/site-packages/torchdiffeq/_impl/misc.py:11: UserWarning: Dopri5Solver: Unexpected arguments {'step_size': 1, 'max_iters': 100}\n",
      "  warnings.warn('{}: Unexpected arguments {}'.format(solver.__class__.__name__, unused_kwargs))\n",
      "/home/aeljon00/miniconda3/envs/grandtn/lib/python3.9/site-packages/torchdiffeq/_impl/misc.py:11: UserWarning: RK4: Unexpected arguments {'max_iters': 100}\n",
      "  warnings.warn('{}: Unexpected arguments {}'.format(solver.__class__.__name__, unused_kwargs))\n",
      "/home/aeljon00/miniconda3/envs/grandtn/lib/python3.9/site-packages/torchdiffeq/_impl/misc.py:11: UserWarning: EarlyStopDopri5: Unexpected arguments {'step_size': 1, 'max_iters': 100}\n",
      "  warnings.warn('{}: Unexpected arguments {}'.format(solver.__class__.__name__, unused_kwargs))\n"
     ]
    },
    {
     "name": "stdout",
     "output_type": "stream",
     "text": [
      "after test: allocated reserved\n",
      "2434444288 6043992064 2 12972544\n",
      "Epoch: 065, Runtime 2.285228, Loss 1.211374, forward nfe 4554, backward nfe 1040, Train: 0.6857, Val: 0.6825, Test: 0.6601, Best time: 3.6760\n",
      "before train: allocated reserved\n",
      "1505060864 4089446400 2 12972544\n"
     ]
    },
    {
     "name": "stderr",
     "output_type": "stream",
     "text": [
      "/home/aeljon00/miniconda3/envs/grandtn/lib/python3.9/site-packages/torchdiffeq/_impl/misc.py:11: UserWarning: Dopri5Solver: Unexpected arguments {'step_size': 1, 'max_iters': 100}\n",
      "  warnings.warn('{}: Unexpected arguments {}'.format(solver.__class__.__name__, unused_kwargs))\n",
      "/home/aeljon00/miniconda3/envs/grandtn/lib/python3.9/site-packages/torchdiffeq/_impl/misc.py:11: UserWarning: RK4: Unexpected arguments {'max_iters': 100}\n",
      "  warnings.warn('{}: Unexpected arguments {}'.format(solver.__class__.__name__, unused_kwargs))\n",
      "/home/aeljon00/miniconda3/envs/grandtn/lib/python3.9/site-packages/torchdiffeq/_impl/misc.py:11: UserWarning: EarlyStopDopri5: Unexpected arguments {'step_size': 1, 'max_iters': 100}\n",
      "  warnings.warn('{}: Unexpected arguments {}'.format(solver.__class__.__name__, unused_kwargs))\n"
     ]
    },
    {
     "name": "stdout",
     "output_type": "stream",
     "text": [
      "after test: allocated reserved\n",
      "2434446848 6043992064 2 12972544\n",
      "Epoch: 066, Runtime 2.284818, Loss 1.213263, forward nfe 4630, backward nfe 1056, Train: 0.6857, Val: 0.6825, Test: 0.6601, Best time: 3.6760\n",
      "before train: allocated reserved\n",
      "1505063424 4089446400 2 12972544\n"
     ]
    },
    {
     "name": "stderr",
     "output_type": "stream",
     "text": [
      "/home/aeljon00/miniconda3/envs/grandtn/lib/python3.9/site-packages/torchdiffeq/_impl/misc.py:11: UserWarning: Dopri5Solver: Unexpected arguments {'step_size': 1, 'max_iters': 100}\n",
      "  warnings.warn('{}: Unexpected arguments {}'.format(solver.__class__.__name__, unused_kwargs))\n",
      "/home/aeljon00/miniconda3/envs/grandtn/lib/python3.9/site-packages/torchdiffeq/_impl/misc.py:11: UserWarning: RK4: Unexpected arguments {'max_iters': 100}\n",
      "  warnings.warn('{}: Unexpected arguments {}'.format(solver.__class__.__name__, unused_kwargs))\n",
      "/home/aeljon00/miniconda3/envs/grandtn/lib/python3.9/site-packages/torchdiffeq/_impl/misc.py:11: UserWarning: EarlyStopDopri5: Unexpected arguments {'step_size': 1, 'max_iters': 100}\n",
      "  warnings.warn('{}: Unexpected arguments {}'.format(solver.__class__.__name__, unused_kwargs))\n"
     ]
    },
    {
     "name": "stdout",
     "output_type": "stream",
     "text": [
      "after test: allocated reserved\n",
      "2434446848 6043992064 2 12972544\n",
      "Epoch: 067, Runtime 2.282291, Loss 1.217883, forward nfe 4706, backward nfe 1072, Train: 0.6857, Val: 0.6825, Test: 0.6601, Best time: 3.6760\n",
      "before train: allocated reserved\n",
      "1505060864 4089446400 2 12972544\n"
     ]
    },
    {
     "name": "stderr",
     "output_type": "stream",
     "text": [
      "/home/aeljon00/miniconda3/envs/grandtn/lib/python3.9/site-packages/torchdiffeq/_impl/misc.py:11: UserWarning: Dopri5Solver: Unexpected arguments {'step_size': 1, 'max_iters': 100}\n",
      "  warnings.warn('{}: Unexpected arguments {}'.format(solver.__class__.__name__, unused_kwargs))\n",
      "/home/aeljon00/miniconda3/envs/grandtn/lib/python3.9/site-packages/torchdiffeq/_impl/misc.py:11: UserWarning: RK4: Unexpected arguments {'max_iters': 100}\n",
      "  warnings.warn('{}: Unexpected arguments {}'.format(solver.__class__.__name__, unused_kwargs))\n",
      "/home/aeljon00/miniconda3/envs/grandtn/lib/python3.9/site-packages/torchdiffeq/_impl/misc.py:11: UserWarning: EarlyStopDopri5: Unexpected arguments {'step_size': 1, 'max_iters': 100}\n",
      "  warnings.warn('{}: Unexpected arguments {}'.format(solver.__class__.__name__, unused_kwargs))\n"
     ]
    },
    {
     "name": "stdout",
     "output_type": "stream",
     "text": [
      "after test: allocated reserved\n",
      "2434446848 6043992064 2 12972544\n",
      "Epoch: 068, Runtime 2.286851, Loss 1.201325, forward nfe 4782, backward nfe 1088, Train: 0.6857, Val: 0.6825, Test: 0.6601, Best time: 3.6760\n",
      "before train: allocated reserved\n",
      "1505063424 4089446400 2 12972544\n"
     ]
    },
    {
     "name": "stderr",
     "output_type": "stream",
     "text": [
      "/home/aeljon00/miniconda3/envs/grandtn/lib/python3.9/site-packages/torchdiffeq/_impl/misc.py:11: UserWarning: Dopri5Solver: Unexpected arguments {'step_size': 1, 'max_iters': 100}\n",
      "  warnings.warn('{}: Unexpected arguments {}'.format(solver.__class__.__name__, unused_kwargs))\n",
      "/home/aeljon00/miniconda3/envs/grandtn/lib/python3.9/site-packages/torchdiffeq/_impl/misc.py:11: UserWarning: RK4: Unexpected arguments {'max_iters': 100}\n",
      "  warnings.warn('{}: Unexpected arguments {}'.format(solver.__class__.__name__, unused_kwargs))\n",
      "/home/aeljon00/miniconda3/envs/grandtn/lib/python3.9/site-packages/torchdiffeq/_impl/misc.py:11: UserWarning: EarlyStopDopri5: Unexpected arguments {'step_size': 1, 'max_iters': 100}\n",
      "  warnings.warn('{}: Unexpected arguments {}'.format(solver.__class__.__name__, unused_kwargs))\n"
     ]
    },
    {
     "name": "stdout",
     "output_type": "stream",
     "text": [
      "after test: allocated reserved\n",
      "2434446848 6043992064 2 12972544\n",
      "Epoch: 069, Runtime 2.283789, Loss 1.189611, forward nfe 4858, backward nfe 1104, Train: 0.6857, Val: 0.6825, Test: 0.6601, Best time: 3.6760\n",
      "before train: allocated reserved\n",
      "1505060864 4089446400 2 12972544\n"
     ]
    },
    {
     "name": "stderr",
     "output_type": "stream",
     "text": [
      "/home/aeljon00/miniconda3/envs/grandtn/lib/python3.9/site-packages/torchdiffeq/_impl/misc.py:11: UserWarning: Dopri5Solver: Unexpected arguments {'step_size': 1, 'max_iters': 100}\n",
      "  warnings.warn('{}: Unexpected arguments {}'.format(solver.__class__.__name__, unused_kwargs))\n",
      "/home/aeljon00/miniconda3/envs/grandtn/lib/python3.9/site-packages/torchdiffeq/_impl/misc.py:11: UserWarning: RK4: Unexpected arguments {'max_iters': 100}\n",
      "  warnings.warn('{}: Unexpected arguments {}'.format(solver.__class__.__name__, unused_kwargs))\n",
      "/home/aeljon00/miniconda3/envs/grandtn/lib/python3.9/site-packages/torchdiffeq/_impl/misc.py:11: UserWarning: EarlyStopDopri5: Unexpected arguments {'step_size': 1, 'max_iters': 100}\n",
      "  warnings.warn('{}: Unexpected arguments {}'.format(solver.__class__.__name__, unused_kwargs))\n"
     ]
    },
    {
     "name": "stdout",
     "output_type": "stream",
     "text": [
      "after test: allocated reserved\n",
      "2434444288 6043992064 2 12972544\n",
      "Epoch: 070, Runtime 2.285119, Loss 1.190413, forward nfe 4934, backward nfe 1120, Train: 0.6857, Val: 0.6825, Test: 0.6601, Best time: 3.6760\n",
      "before train: allocated reserved\n",
      "1505060864 4089446400 2 12972544\n"
     ]
    },
    {
     "name": "stderr",
     "output_type": "stream",
     "text": [
      "/home/aeljon00/miniconda3/envs/grandtn/lib/python3.9/site-packages/torchdiffeq/_impl/misc.py:11: UserWarning: Dopri5Solver: Unexpected arguments {'step_size': 1, 'max_iters': 100}\n",
      "  warnings.warn('{}: Unexpected arguments {}'.format(solver.__class__.__name__, unused_kwargs))\n",
      "/home/aeljon00/miniconda3/envs/grandtn/lib/python3.9/site-packages/torchdiffeq/_impl/misc.py:11: UserWarning: RK4: Unexpected arguments {'max_iters': 100}\n",
      "  warnings.warn('{}: Unexpected arguments {}'.format(solver.__class__.__name__, unused_kwargs))\n",
      "/home/aeljon00/miniconda3/envs/grandtn/lib/python3.9/site-packages/torchdiffeq/_impl/misc.py:11: UserWarning: EarlyStopDopri5: Unexpected arguments {'step_size': 1, 'max_iters': 100}\n",
      "  warnings.warn('{}: Unexpected arguments {}'.format(solver.__class__.__name__, unused_kwargs))\n"
     ]
    },
    {
     "name": "stdout",
     "output_type": "stream",
     "text": [
      "after test: allocated reserved\n",
      "2434444288 6043992064 2 12972544\n",
      "Epoch: 071, Runtime 2.283258, Loss 1.196368, forward nfe 5010, backward nfe 1136, Train: 0.6857, Val: 0.6825, Test: 0.6601, Best time: 3.6760\n",
      "before train: allocated reserved\n",
      "1505060864 4089446400 2 12972544\n"
     ]
    },
    {
     "name": "stderr",
     "output_type": "stream",
     "text": [
      "/home/aeljon00/miniconda3/envs/grandtn/lib/python3.9/site-packages/torchdiffeq/_impl/misc.py:11: UserWarning: Dopri5Solver: Unexpected arguments {'step_size': 1, 'max_iters': 100}\n",
      "  warnings.warn('{}: Unexpected arguments {}'.format(solver.__class__.__name__, unused_kwargs))\n",
      "/home/aeljon00/miniconda3/envs/grandtn/lib/python3.9/site-packages/torchdiffeq/_impl/misc.py:11: UserWarning: RK4: Unexpected arguments {'max_iters': 100}\n",
      "  warnings.warn('{}: Unexpected arguments {}'.format(solver.__class__.__name__, unused_kwargs))\n",
      "/home/aeljon00/miniconda3/envs/grandtn/lib/python3.9/site-packages/torchdiffeq/_impl/misc.py:11: UserWarning: EarlyStopDopri5: Unexpected arguments {'step_size': 1, 'max_iters': 100}\n",
      "  warnings.warn('{}: Unexpected arguments {}'.format(solver.__class__.__name__, unused_kwargs))\n"
     ]
    },
    {
     "name": "stdout",
     "output_type": "stream",
     "text": [
      "after test: allocated reserved\n",
      "2434444288 6043992064 2 12972544\n",
      "Epoch: 072, Runtime 2.284803, Loss 1.187998, forward nfe 5086, backward nfe 1152, Train: 0.6857, Val: 0.6825, Test: 0.6601, Best time: 3.6760\n",
      "before train: allocated reserved\n",
      "1505060864 4089446400 2 12972544\n"
     ]
    },
    {
     "name": "stderr",
     "output_type": "stream",
     "text": [
      "/home/aeljon00/miniconda3/envs/grandtn/lib/python3.9/site-packages/torchdiffeq/_impl/misc.py:11: UserWarning: Dopri5Solver: Unexpected arguments {'step_size': 1, 'max_iters': 100}\n",
      "  warnings.warn('{}: Unexpected arguments {}'.format(solver.__class__.__name__, unused_kwargs))\n",
      "/home/aeljon00/miniconda3/envs/grandtn/lib/python3.9/site-packages/torchdiffeq/_impl/misc.py:11: UserWarning: RK4: Unexpected arguments {'max_iters': 100}\n",
      "  warnings.warn('{}: Unexpected arguments {}'.format(solver.__class__.__name__, unused_kwargs))\n",
      "/home/aeljon00/miniconda3/envs/grandtn/lib/python3.9/site-packages/torchdiffeq/_impl/misc.py:11: UserWarning: EarlyStopDopri5: Unexpected arguments {'step_size': 1, 'max_iters': 100}\n",
      "  warnings.warn('{}: Unexpected arguments {}'.format(solver.__class__.__name__, unused_kwargs))\n"
     ]
    },
    {
     "name": "stdout",
     "output_type": "stream",
     "text": [
      "after test: allocated reserved\n",
      "2434444288 6043992064 2 12972544\n",
      "Epoch: 073, Runtime 2.284715, Loss 1.193100, forward nfe 5162, backward nfe 1168, Train: 0.6857, Val: 0.6825, Test: 0.6601, Best time: 3.6760\n",
      "before train: allocated reserved\n",
      "1505060864 4089446400 2 12972544\n"
     ]
    },
    {
     "name": "stderr",
     "output_type": "stream",
     "text": [
      "/home/aeljon00/miniconda3/envs/grandtn/lib/python3.9/site-packages/torchdiffeq/_impl/misc.py:11: UserWarning: Dopri5Solver: Unexpected arguments {'step_size': 1, 'max_iters': 100}\n",
      "  warnings.warn('{}: Unexpected arguments {}'.format(solver.__class__.__name__, unused_kwargs))\n",
      "/home/aeljon00/miniconda3/envs/grandtn/lib/python3.9/site-packages/torchdiffeq/_impl/misc.py:11: UserWarning: RK4: Unexpected arguments {'max_iters': 100}\n",
      "  warnings.warn('{}: Unexpected arguments {}'.format(solver.__class__.__name__, unused_kwargs))\n",
      "/home/aeljon00/miniconda3/envs/grandtn/lib/python3.9/site-packages/torchdiffeq/_impl/misc.py:11: UserWarning: EarlyStopDopri5: Unexpected arguments {'step_size': 1, 'max_iters': 100}\n",
      "  warnings.warn('{}: Unexpected arguments {}'.format(solver.__class__.__name__, unused_kwargs))\n"
     ]
    },
    {
     "name": "stdout",
     "output_type": "stream",
     "text": [
      "after test: allocated reserved\n",
      "2434444288 6043992064 2 12972544\n",
      "Epoch: 074, Runtime 2.285682, Loss 1.187896, forward nfe 5238, backward nfe 1184, Train: 0.6857, Val: 0.6825, Test: 0.6601, Best time: 3.6760\n",
      "before train: allocated reserved\n",
      "1505060864 4089446400 2 12972544\n"
     ]
    },
    {
     "name": "stderr",
     "output_type": "stream",
     "text": [
      "/home/aeljon00/miniconda3/envs/grandtn/lib/python3.9/site-packages/torchdiffeq/_impl/misc.py:11: UserWarning: Dopri5Solver: Unexpected arguments {'step_size': 1, 'max_iters': 100}\n",
      "  warnings.warn('{}: Unexpected arguments {}'.format(solver.__class__.__name__, unused_kwargs))\n",
      "/home/aeljon00/miniconda3/envs/grandtn/lib/python3.9/site-packages/torchdiffeq/_impl/misc.py:11: UserWarning: RK4: Unexpected arguments {'max_iters': 100}\n",
      "  warnings.warn('{}: Unexpected arguments {}'.format(solver.__class__.__name__, unused_kwargs))\n",
      "/home/aeljon00/miniconda3/envs/grandtn/lib/python3.9/site-packages/torchdiffeq/_impl/misc.py:11: UserWarning: EarlyStopDopri5: Unexpected arguments {'step_size': 1, 'max_iters': 100}\n",
      "  warnings.warn('{}: Unexpected arguments {}'.format(solver.__class__.__name__, unused_kwargs))\n"
     ]
    },
    {
     "name": "stdout",
     "output_type": "stream",
     "text": [
      "after test: allocated reserved\n",
      "2434444288 6043992064 2 12972544\n",
      "Epoch: 075, Runtime 2.283334, Loss 1.184723, forward nfe 5314, backward nfe 1200, Train: 0.6956, Val: 0.6952, Test: 0.6950, Best time: 5.4588\n",
      "before train: allocated reserved\n",
      "1505060864 4089446400 2 12972544\n"
     ]
    },
    {
     "name": "stderr",
     "output_type": "stream",
     "text": [
      "/home/aeljon00/miniconda3/envs/grandtn/lib/python3.9/site-packages/torchdiffeq/_impl/misc.py:11: UserWarning: Dopri5Solver: Unexpected arguments {'step_size': 1, 'max_iters': 100}\n",
      "  warnings.warn('{}: Unexpected arguments {}'.format(solver.__class__.__name__, unused_kwargs))\n",
      "/home/aeljon00/miniconda3/envs/grandtn/lib/python3.9/site-packages/torchdiffeq/_impl/misc.py:11: UserWarning: RK4: Unexpected arguments {'max_iters': 100}\n",
      "  warnings.warn('{}: Unexpected arguments {}'.format(solver.__class__.__name__, unused_kwargs))\n",
      "/home/aeljon00/miniconda3/envs/grandtn/lib/python3.9/site-packages/torchdiffeq/_impl/misc.py:11: UserWarning: EarlyStopDopri5: Unexpected arguments {'step_size': 1, 'max_iters': 100}\n",
      "  warnings.warn('{}: Unexpected arguments {}'.format(solver.__class__.__name__, unused_kwargs))\n"
     ]
    },
    {
     "name": "stdout",
     "output_type": "stream",
     "text": [
      "after test: allocated reserved\n",
      "2434444288 6043992064 2 12972544\n",
      "Epoch: 076, Runtime 2.283763, Loss 1.178550, forward nfe 5390, backward nfe 1216, Train: 0.6956, Val: 0.6952, Test: 0.6950, Best time: 3.6760\n",
      "before train: allocated reserved\n",
      "1505060864 4089446400 2 12972544\n"
     ]
    },
    {
     "name": "stderr",
     "output_type": "stream",
     "text": [
      "/home/aeljon00/miniconda3/envs/grandtn/lib/python3.9/site-packages/torchdiffeq/_impl/misc.py:11: UserWarning: Dopri5Solver: Unexpected arguments {'step_size': 1, 'max_iters': 100}\n",
      "  warnings.warn('{}: Unexpected arguments {}'.format(solver.__class__.__name__, unused_kwargs))\n",
      "/home/aeljon00/miniconda3/envs/grandtn/lib/python3.9/site-packages/torchdiffeq/_impl/misc.py:11: UserWarning: RK4: Unexpected arguments {'max_iters': 100}\n",
      "  warnings.warn('{}: Unexpected arguments {}'.format(solver.__class__.__name__, unused_kwargs))\n",
      "/home/aeljon00/miniconda3/envs/grandtn/lib/python3.9/site-packages/torchdiffeq/_impl/misc.py:11: UserWarning: EarlyStopDopri5: Unexpected arguments {'step_size': 1, 'max_iters': 100}\n",
      "  warnings.warn('{}: Unexpected arguments {}'.format(solver.__class__.__name__, unused_kwargs))\n"
     ]
    },
    {
     "name": "stdout",
     "output_type": "stream",
     "text": [
      "after test: allocated reserved\n",
      "2434444288 6043992064 2 12972544\n",
      "Epoch: 077, Runtime 2.283973, Loss 1.171537, forward nfe 5466, backward nfe 1232, Train: 0.7004, Val: 0.6982, Test: 0.6971, Best time: 5.4435\n",
      "before train: allocated reserved\n",
      "1505060864 4089446400 2 12972544\n"
     ]
    },
    {
     "name": "stderr",
     "output_type": "stream",
     "text": [
      "/home/aeljon00/miniconda3/envs/grandtn/lib/python3.9/site-packages/torchdiffeq/_impl/misc.py:11: UserWarning: Dopri5Solver: Unexpected arguments {'step_size': 1, 'max_iters': 100}\n",
      "  warnings.warn('{}: Unexpected arguments {}'.format(solver.__class__.__name__, unused_kwargs))\n",
      "/home/aeljon00/miniconda3/envs/grandtn/lib/python3.9/site-packages/torchdiffeq/_impl/misc.py:11: UserWarning: RK4: Unexpected arguments {'max_iters': 100}\n",
      "  warnings.warn('{}: Unexpected arguments {}'.format(solver.__class__.__name__, unused_kwargs))\n",
      "/home/aeljon00/miniconda3/envs/grandtn/lib/python3.9/site-packages/torchdiffeq/_impl/misc.py:11: UserWarning: EarlyStopDopri5: Unexpected arguments {'step_size': 1, 'max_iters': 100}\n",
      "  warnings.warn('{}: Unexpected arguments {}'.format(solver.__class__.__name__, unused_kwargs))\n"
     ]
    },
    {
     "name": "stdout",
     "output_type": "stream",
     "text": [
      "after test: allocated reserved\n",
      "2434444288 6043992064 2 12972544\n",
      "Epoch: 078, Runtime 2.284306, Loss 1.165042, forward nfe 5542, backward nfe 1248, Train: 0.7004, Val: 0.6982, Test: 0.6971, Best time: 3.6760\n",
      "before train: allocated reserved\n",
      "1505060864 4089446400 2 12972544\n"
     ]
    },
    {
     "name": "stderr",
     "output_type": "stream",
     "text": [
      "/home/aeljon00/miniconda3/envs/grandtn/lib/python3.9/site-packages/torchdiffeq/_impl/misc.py:11: UserWarning: Dopri5Solver: Unexpected arguments {'step_size': 1, 'max_iters': 100}\n",
      "  warnings.warn('{}: Unexpected arguments {}'.format(solver.__class__.__name__, unused_kwargs))\n",
      "/home/aeljon00/miniconda3/envs/grandtn/lib/python3.9/site-packages/torchdiffeq/_impl/misc.py:11: UserWarning: RK4: Unexpected arguments {'max_iters': 100}\n",
      "  warnings.warn('{}: Unexpected arguments {}'.format(solver.__class__.__name__, unused_kwargs))\n",
      "/home/aeljon00/miniconda3/envs/grandtn/lib/python3.9/site-packages/torchdiffeq/_impl/misc.py:11: UserWarning: EarlyStopDopri5: Unexpected arguments {'step_size': 1, 'max_iters': 100}\n",
      "  warnings.warn('{}: Unexpected arguments {}'.format(solver.__class__.__name__, unused_kwargs))\n"
     ]
    },
    {
     "name": "stdout",
     "output_type": "stream",
     "text": [
      "after test: allocated reserved\n",
      "2434444288 6043992064 2 12972544\n",
      "Epoch: 079, Runtime 2.284778, Loss 1.159745, forward nfe 5618, backward nfe 1264, Train: 0.7038, Val: 0.6994, Test: 0.6922, Best time: 5.4299\n",
      "before train: allocated reserved\n",
      "1505060864 4089446400 2 12972544\n"
     ]
    },
    {
     "name": "stderr",
     "output_type": "stream",
     "text": [
      "/home/aeljon00/miniconda3/envs/grandtn/lib/python3.9/site-packages/torchdiffeq/_impl/misc.py:11: UserWarning: Dopri5Solver: Unexpected arguments {'step_size': 1, 'max_iters': 100}\n",
      "  warnings.warn('{}: Unexpected arguments {}'.format(solver.__class__.__name__, unused_kwargs))\n",
      "/home/aeljon00/miniconda3/envs/grandtn/lib/python3.9/site-packages/torchdiffeq/_impl/misc.py:11: UserWarning: RK4: Unexpected arguments {'max_iters': 100}\n",
      "  warnings.warn('{}: Unexpected arguments {}'.format(solver.__class__.__name__, unused_kwargs))\n",
      "/home/aeljon00/miniconda3/envs/grandtn/lib/python3.9/site-packages/torchdiffeq/_impl/misc.py:11: UserWarning: EarlyStopDopri5: Unexpected arguments {'step_size': 1, 'max_iters': 100}\n",
      "  warnings.warn('{}: Unexpected arguments {}'.format(solver.__class__.__name__, unused_kwargs))\n"
     ]
    },
    {
     "name": "stdout",
     "output_type": "stream",
     "text": [
      "after test: allocated reserved\n",
      "2434444288 6043992064 2 12972544\n",
      "Epoch: 080, Runtime 2.285426, Loss 1.156617, forward nfe 5694, backward nfe 1280, Train: 0.7038, Val: 0.6994, Test: 0.6922, Best time: 3.6760\n",
      "before train: allocated reserved\n",
      "1505060864 4089446400 2 12972544\n"
     ]
    },
    {
     "name": "stderr",
     "output_type": "stream",
     "text": [
      "/home/aeljon00/miniconda3/envs/grandtn/lib/python3.9/site-packages/torchdiffeq/_impl/misc.py:11: UserWarning: Dopri5Solver: Unexpected arguments {'step_size': 1, 'max_iters': 100}\n",
      "  warnings.warn('{}: Unexpected arguments {}'.format(solver.__class__.__name__, unused_kwargs))\n",
      "/home/aeljon00/miniconda3/envs/grandtn/lib/python3.9/site-packages/torchdiffeq/_impl/misc.py:11: UserWarning: RK4: Unexpected arguments {'max_iters': 100}\n",
      "  warnings.warn('{}: Unexpected arguments {}'.format(solver.__class__.__name__, unused_kwargs))\n",
      "/home/aeljon00/miniconda3/envs/grandtn/lib/python3.9/site-packages/torchdiffeq/_impl/misc.py:11: UserWarning: EarlyStopDopri5: Unexpected arguments {'step_size': 1, 'max_iters': 100}\n",
      "  warnings.warn('{}: Unexpected arguments {}'.format(solver.__class__.__name__, unused_kwargs))\n"
     ]
    },
    {
     "name": "stdout",
     "output_type": "stream",
     "text": [
      "after test: allocated reserved\n",
      "2434444288 6043992064 2 12972544\n",
      "Epoch: 081, Runtime 2.284631, Loss 1.154815, forward nfe 5770, backward nfe 1296, Train: 0.7038, Val: 0.6994, Test: 0.6922, Best time: 3.6760\n",
      "before train: allocated reserved\n",
      "1505060864 4089446400 2 12972544\n"
     ]
    },
    {
     "name": "stderr",
     "output_type": "stream",
     "text": [
      "/home/aeljon00/miniconda3/envs/grandtn/lib/python3.9/site-packages/torchdiffeq/_impl/misc.py:11: UserWarning: Dopri5Solver: Unexpected arguments {'step_size': 1, 'max_iters': 100}\n",
      "  warnings.warn('{}: Unexpected arguments {}'.format(solver.__class__.__name__, unused_kwargs))\n",
      "/home/aeljon00/miniconda3/envs/grandtn/lib/python3.9/site-packages/torchdiffeq/_impl/misc.py:11: UserWarning: RK4: Unexpected arguments {'max_iters': 100}\n",
      "  warnings.warn('{}: Unexpected arguments {}'.format(solver.__class__.__name__, unused_kwargs))\n",
      "/home/aeljon00/miniconda3/envs/grandtn/lib/python3.9/site-packages/torchdiffeq/_impl/misc.py:11: UserWarning: EarlyStopDopri5: Unexpected arguments {'step_size': 1, 'max_iters': 100}\n",
      "  warnings.warn('{}: Unexpected arguments {}'.format(solver.__class__.__name__, unused_kwargs))\n"
     ]
    },
    {
     "name": "stdout",
     "output_type": "stream",
     "text": [
      "after test: allocated reserved\n",
      "2434444288 6043992064 2 12972544\n",
      "Epoch: 082, Runtime 2.284135, Loss 1.156082, forward nfe 5846, backward nfe 1312, Train: 0.7038, Val: 0.6994, Test: 0.6922, Best time: 3.6760\n",
      "before train: allocated reserved\n",
      "1505060864 4089446400 2 12972544\n"
     ]
    },
    {
     "name": "stderr",
     "output_type": "stream",
     "text": [
      "/home/aeljon00/miniconda3/envs/grandtn/lib/python3.9/site-packages/torchdiffeq/_impl/misc.py:11: UserWarning: Dopri5Solver: Unexpected arguments {'step_size': 1, 'max_iters': 100}\n",
      "  warnings.warn('{}: Unexpected arguments {}'.format(solver.__class__.__name__, unused_kwargs))\n",
      "/home/aeljon00/miniconda3/envs/grandtn/lib/python3.9/site-packages/torchdiffeq/_impl/misc.py:11: UserWarning: RK4: Unexpected arguments {'max_iters': 100}\n",
      "  warnings.warn('{}: Unexpected arguments {}'.format(solver.__class__.__name__, unused_kwargs))\n",
      "/home/aeljon00/miniconda3/envs/grandtn/lib/python3.9/site-packages/torchdiffeq/_impl/misc.py:11: UserWarning: EarlyStopDopri5: Unexpected arguments {'step_size': 1, 'max_iters': 100}\n",
      "  warnings.warn('{}: Unexpected arguments {}'.format(solver.__class__.__name__, unused_kwargs))\n"
     ]
    },
    {
     "name": "stdout",
     "output_type": "stream",
     "text": [
      "after test: allocated reserved\n",
      "2434444288 6043992064 2 12972544\n",
      "Epoch: 083, Runtime 2.417328, Loss 1.157592, forward nfe 5928, backward nfe 1328, Train: 0.7038, Val: 0.6994, Test: 0.6922, Best time: 3.6760\n",
      "before train: allocated reserved\n",
      "1505060864 4089446400 2 12972544\n"
     ]
    },
    {
     "name": "stderr",
     "output_type": "stream",
     "text": [
      "/home/aeljon00/miniconda3/envs/grandtn/lib/python3.9/site-packages/torchdiffeq/_impl/misc.py:11: UserWarning: Dopri5Solver: Unexpected arguments {'step_size': 1, 'max_iters': 100}\n",
      "  warnings.warn('{}: Unexpected arguments {}'.format(solver.__class__.__name__, unused_kwargs))\n",
      "/home/aeljon00/miniconda3/envs/grandtn/lib/python3.9/site-packages/torchdiffeq/_impl/misc.py:11: UserWarning: RK4: Unexpected arguments {'max_iters': 100}\n",
      "  warnings.warn('{}: Unexpected arguments {}'.format(solver.__class__.__name__, unused_kwargs))\n",
      "/home/aeljon00/miniconda3/envs/grandtn/lib/python3.9/site-packages/torchdiffeq/_impl/misc.py:11: UserWarning: EarlyStopDopri5: Unexpected arguments {'step_size': 1, 'max_iters': 100}\n",
      "  warnings.warn('{}: Unexpected arguments {}'.format(solver.__class__.__name__, unused_kwargs))\n"
     ]
    },
    {
     "name": "stdout",
     "output_type": "stream",
     "text": [
      "after test: allocated reserved\n",
      "2434444288 6043992064 2 12972544\n",
      "Epoch: 084, Runtime 2.286649, Loss 1.164430, forward nfe 6004, backward nfe 1344, Train: 0.7038, Val: 0.6994, Test: 0.6922, Best time: 3.6760\n",
      "before train: allocated reserved\n",
      "1505060864 4089446400 2 12972544\n"
     ]
    },
    {
     "name": "stderr",
     "output_type": "stream",
     "text": [
      "/home/aeljon00/miniconda3/envs/grandtn/lib/python3.9/site-packages/torchdiffeq/_impl/misc.py:11: UserWarning: Dopri5Solver: Unexpected arguments {'step_size': 1, 'max_iters': 100}\n",
      "  warnings.warn('{}: Unexpected arguments {}'.format(solver.__class__.__name__, unused_kwargs))\n",
      "/home/aeljon00/miniconda3/envs/grandtn/lib/python3.9/site-packages/torchdiffeq/_impl/misc.py:11: UserWarning: RK4: Unexpected arguments {'max_iters': 100}\n",
      "  warnings.warn('{}: Unexpected arguments {}'.format(solver.__class__.__name__, unused_kwargs))\n",
      "/home/aeljon00/miniconda3/envs/grandtn/lib/python3.9/site-packages/torchdiffeq/_impl/misc.py:11: UserWarning: EarlyStopDopri5: Unexpected arguments {'step_size': 1, 'max_iters': 100}\n",
      "  warnings.warn('{}: Unexpected arguments {}'.format(solver.__class__.__name__, unused_kwargs))\n"
     ]
    },
    {
     "name": "stdout",
     "output_type": "stream",
     "text": [
      "after test: allocated reserved\n",
      "2434444800 6043992064 2 12972544\n",
      "Epoch: 085, Runtime 2.416790, Loss 1.162054, forward nfe 6086, backward nfe 1360, Train: 0.7038, Val: 0.6994, Test: 0.6922, Best time: 3.6760\n",
      "before train: allocated reserved\n",
      "1505061376 4089446400 2 12972544\n"
     ]
    },
    {
     "name": "stderr",
     "output_type": "stream",
     "text": [
      "/home/aeljon00/miniconda3/envs/grandtn/lib/python3.9/site-packages/torchdiffeq/_impl/misc.py:11: UserWarning: Dopri5Solver: Unexpected arguments {'step_size': 1, 'max_iters': 100}\n",
      "  warnings.warn('{}: Unexpected arguments {}'.format(solver.__class__.__name__, unused_kwargs))\n",
      "/home/aeljon00/miniconda3/envs/grandtn/lib/python3.9/site-packages/torchdiffeq/_impl/misc.py:11: UserWarning: RK4: Unexpected arguments {'max_iters': 100}\n",
      "  warnings.warn('{}: Unexpected arguments {}'.format(solver.__class__.__name__, unused_kwargs))\n",
      "/home/aeljon00/miniconda3/envs/grandtn/lib/python3.9/site-packages/torchdiffeq/_impl/misc.py:11: UserWarning: EarlyStopDopri5: Unexpected arguments {'step_size': 1, 'max_iters': 100}\n",
      "  warnings.warn('{}: Unexpected arguments {}'.format(solver.__class__.__name__, unused_kwargs))\n"
     ]
    },
    {
     "name": "stdout",
     "output_type": "stream",
     "text": [
      "after test: allocated reserved\n",
      "2434444800 6043992064 2 12972544\n",
      "Epoch: 086, Runtime 2.417781, Loss 1.165852, forward nfe 6168, backward nfe 1376, Train: 0.7038, Val: 0.6994, Test: 0.6922, Best time: 3.6760\n",
      "before train: allocated reserved\n",
      "1505060864 4089446400 2 12972544\n"
     ]
    },
    {
     "name": "stderr",
     "output_type": "stream",
     "text": [
      "/home/aeljon00/miniconda3/envs/grandtn/lib/python3.9/site-packages/torchdiffeq/_impl/misc.py:11: UserWarning: Dopri5Solver: Unexpected arguments {'step_size': 1, 'max_iters': 100}\n",
      "  warnings.warn('{}: Unexpected arguments {}'.format(solver.__class__.__name__, unused_kwargs))\n",
      "/home/aeljon00/miniconda3/envs/grandtn/lib/python3.9/site-packages/torchdiffeq/_impl/misc.py:11: UserWarning: RK4: Unexpected arguments {'max_iters': 100}\n",
      "  warnings.warn('{}: Unexpected arguments {}'.format(solver.__class__.__name__, unused_kwargs))\n",
      "/home/aeljon00/miniconda3/envs/grandtn/lib/python3.9/site-packages/torchdiffeq/_impl/misc.py:11: UserWarning: EarlyStopDopri5: Unexpected arguments {'step_size': 1, 'max_iters': 100}\n",
      "  warnings.warn('{}: Unexpected arguments {}'.format(solver.__class__.__name__, unused_kwargs))\n"
     ]
    },
    {
     "name": "stdout",
     "output_type": "stream",
     "text": [
      "after test: allocated reserved\n",
      "2434444288 6043992064 2 12972544\n",
      "Epoch: 087, Runtime 2.417533, Loss 1.160196, forward nfe 6250, backward nfe 1392, Train: 0.7038, Val: 0.6994, Test: 0.6922, Best time: 3.6760\n",
      "before train: allocated reserved\n",
      "1505060864 4089446400 2 12972544\n"
     ]
    },
    {
     "name": "stderr",
     "output_type": "stream",
     "text": [
      "/home/aeljon00/miniconda3/envs/grandtn/lib/python3.9/site-packages/torchdiffeq/_impl/misc.py:11: UserWarning: Dopri5Solver: Unexpected arguments {'step_size': 1, 'max_iters': 100}\n",
      "  warnings.warn('{}: Unexpected arguments {}'.format(solver.__class__.__name__, unused_kwargs))\n",
      "/home/aeljon00/miniconda3/envs/grandtn/lib/python3.9/site-packages/torchdiffeq/_impl/misc.py:11: UserWarning: RK4: Unexpected arguments {'max_iters': 100}\n",
      "  warnings.warn('{}: Unexpected arguments {}'.format(solver.__class__.__name__, unused_kwargs))\n",
      "/home/aeljon00/miniconda3/envs/grandtn/lib/python3.9/site-packages/torchdiffeq/_impl/misc.py:11: UserWarning: EarlyStopDopri5: Unexpected arguments {'step_size': 1, 'max_iters': 100}\n",
      "  warnings.warn('{}: Unexpected arguments {}'.format(solver.__class__.__name__, unused_kwargs))\n"
     ]
    },
    {
     "name": "stdout",
     "output_type": "stream",
     "text": [
      "after test: allocated reserved\n",
      "2434444288 6043992064 2 12972544\n",
      "Epoch: 088, Runtime 2.418004, Loss 1.155695, forward nfe 6332, backward nfe 1408, Train: 0.7038, Val: 0.6994, Test: 0.6922, Best time: 3.6760\n",
      "before train: allocated reserved\n",
      "1505060864 4089446400 2 12972544\n"
     ]
    },
    {
     "name": "stderr",
     "output_type": "stream",
     "text": [
      "/home/aeljon00/miniconda3/envs/grandtn/lib/python3.9/site-packages/torchdiffeq/_impl/misc.py:11: UserWarning: Dopri5Solver: Unexpected arguments {'step_size': 1, 'max_iters': 100}\n",
      "  warnings.warn('{}: Unexpected arguments {}'.format(solver.__class__.__name__, unused_kwargs))\n",
      "/home/aeljon00/miniconda3/envs/grandtn/lib/python3.9/site-packages/torchdiffeq/_impl/misc.py:11: UserWarning: RK4: Unexpected arguments {'max_iters': 100}\n",
      "  warnings.warn('{}: Unexpected arguments {}'.format(solver.__class__.__name__, unused_kwargs))\n",
      "/home/aeljon00/miniconda3/envs/grandtn/lib/python3.9/site-packages/torchdiffeq/_impl/misc.py:11: UserWarning: EarlyStopDopri5: Unexpected arguments {'step_size': 1, 'max_iters': 100}\n",
      "  warnings.warn('{}: Unexpected arguments {}'.format(solver.__class__.__name__, unused_kwargs))\n"
     ]
    },
    {
     "name": "stdout",
     "output_type": "stream",
     "text": [
      "after test: allocated reserved\n",
      "2434444800 6043992064 2 12972544\n",
      "Epoch: 089, Runtime 2.419920, Loss 1.152120, forward nfe 6414, backward nfe 1424, Train: 0.7038, Val: 0.6994, Test: 0.6922, Best time: 3.6760\n",
      "before train: allocated reserved\n",
      "1505061376 4089446400 2 12972544\n"
     ]
    },
    {
     "name": "stderr",
     "output_type": "stream",
     "text": [
      "/home/aeljon00/miniconda3/envs/grandtn/lib/python3.9/site-packages/torchdiffeq/_impl/misc.py:11: UserWarning: Dopri5Solver: Unexpected arguments {'step_size': 1, 'max_iters': 100}\n",
      "  warnings.warn('{}: Unexpected arguments {}'.format(solver.__class__.__name__, unused_kwargs))\n",
      "/home/aeljon00/miniconda3/envs/grandtn/lib/python3.9/site-packages/torchdiffeq/_impl/misc.py:11: UserWarning: RK4: Unexpected arguments {'max_iters': 100}\n",
      "  warnings.warn('{}: Unexpected arguments {}'.format(solver.__class__.__name__, unused_kwargs))\n",
      "/home/aeljon00/miniconda3/envs/grandtn/lib/python3.9/site-packages/torchdiffeq/_impl/misc.py:11: UserWarning: EarlyStopDopri5: Unexpected arguments {'step_size': 1, 'max_iters': 100}\n",
      "  warnings.warn('{}: Unexpected arguments {}'.format(solver.__class__.__name__, unused_kwargs))\n"
     ]
    },
    {
     "name": "stdout",
     "output_type": "stream",
     "text": [
      "after test: allocated reserved\n",
      "2434444800 6043992064 2 12972544\n",
      "Epoch: 090, Runtime 2.418892, Loss 1.148581, forward nfe 6496, backward nfe 1440, Train: 0.7038, Val: 0.6994, Test: 0.6922, Best time: 3.6760\n",
      "before train: allocated reserved\n",
      "1505060864 4089446400 2 12972544\n"
     ]
    },
    {
     "name": "stderr",
     "output_type": "stream",
     "text": [
      "/home/aeljon00/miniconda3/envs/grandtn/lib/python3.9/site-packages/torchdiffeq/_impl/misc.py:11: UserWarning: Dopri5Solver: Unexpected arguments {'step_size': 1, 'max_iters': 100}\n",
      "  warnings.warn('{}: Unexpected arguments {}'.format(solver.__class__.__name__, unused_kwargs))\n",
      "/home/aeljon00/miniconda3/envs/grandtn/lib/python3.9/site-packages/torchdiffeq/_impl/misc.py:11: UserWarning: RK4: Unexpected arguments {'max_iters': 100}\n",
      "  warnings.warn('{}: Unexpected arguments {}'.format(solver.__class__.__name__, unused_kwargs))\n",
      "/home/aeljon00/miniconda3/envs/grandtn/lib/python3.9/site-packages/torchdiffeq/_impl/misc.py:11: UserWarning: EarlyStopDopri5: Unexpected arguments {'step_size': 1, 'max_iters': 100}\n",
      "  warnings.warn('{}: Unexpected arguments {}'.format(solver.__class__.__name__, unused_kwargs))\n"
     ]
    },
    {
     "name": "stdout",
     "output_type": "stream",
     "text": [
      "after test: allocated reserved\n",
      "2434444288 6043992064 2 12972544\n",
      "Epoch: 091, Runtime 2.420436, Loss 1.142343, forward nfe 6578, backward nfe 1456, Train: 0.7038, Val: 0.6994, Test: 0.6922, Best time: 3.6760\n",
      "before train: allocated reserved\n",
      "1505060864 4089446400 2 12972544\n"
     ]
    },
    {
     "name": "stderr",
     "output_type": "stream",
     "text": [
      "/home/aeljon00/miniconda3/envs/grandtn/lib/python3.9/site-packages/torchdiffeq/_impl/misc.py:11: UserWarning: Dopri5Solver: Unexpected arguments {'step_size': 1, 'max_iters': 100}\n",
      "  warnings.warn('{}: Unexpected arguments {}'.format(solver.__class__.__name__, unused_kwargs))\n",
      "/home/aeljon00/miniconda3/envs/grandtn/lib/python3.9/site-packages/torchdiffeq/_impl/misc.py:11: UserWarning: RK4: Unexpected arguments {'max_iters': 100}\n",
      "  warnings.warn('{}: Unexpected arguments {}'.format(solver.__class__.__name__, unused_kwargs))\n",
      "/home/aeljon00/miniconda3/envs/grandtn/lib/python3.9/site-packages/torchdiffeq/_impl/misc.py:11: UserWarning: EarlyStopDopri5: Unexpected arguments {'step_size': 1, 'max_iters': 100}\n",
      "  warnings.warn('{}: Unexpected arguments {}'.format(solver.__class__.__name__, unused_kwargs))\n"
     ]
    },
    {
     "name": "stdout",
     "output_type": "stream",
     "text": [
      "after test: allocated reserved\n",
      "2434444288 6043992064 2 12972544\n",
      "Epoch: 092, Runtime 2.419020, Loss 1.138423, forward nfe 6660, backward nfe 1472, Train: 0.7038, Val: 0.6994, Test: 0.6922, Best time: 3.6760\n",
      "before train: allocated reserved\n",
      "1505060864 4089446400 2 12972544\n"
     ]
    },
    {
     "name": "stderr",
     "output_type": "stream",
     "text": [
      "/home/aeljon00/miniconda3/envs/grandtn/lib/python3.9/site-packages/torchdiffeq/_impl/misc.py:11: UserWarning: Dopri5Solver: Unexpected arguments {'step_size': 1, 'max_iters': 100}\n",
      "  warnings.warn('{}: Unexpected arguments {}'.format(solver.__class__.__name__, unused_kwargs))\n",
      "/home/aeljon00/miniconda3/envs/grandtn/lib/python3.9/site-packages/torchdiffeq/_impl/misc.py:11: UserWarning: RK4: Unexpected arguments {'max_iters': 100}\n",
      "  warnings.warn('{}: Unexpected arguments {}'.format(solver.__class__.__name__, unused_kwargs))\n",
      "/home/aeljon00/miniconda3/envs/grandtn/lib/python3.9/site-packages/torchdiffeq/_impl/misc.py:11: UserWarning: EarlyStopDopri5: Unexpected arguments {'step_size': 1, 'max_iters': 100}\n",
      "  warnings.warn('{}: Unexpected arguments {}'.format(solver.__class__.__name__, unused_kwargs))\n"
     ]
    },
    {
     "name": "stdout",
     "output_type": "stream",
     "text": [
      "after test: allocated reserved\n",
      "2434444288 6043992064 2 12972544\n",
      "Epoch: 093, Runtime 2.419957, Loss 1.139502, forward nfe 6742, backward nfe 1488, Train: 0.7038, Val: 0.6994, Test: 0.6922, Best time: 3.6760\n",
      "before train: allocated reserved\n",
      "1505060864 4089446400 2 12972544\n"
     ]
    },
    {
     "name": "stderr",
     "output_type": "stream",
     "text": [
      "/home/aeljon00/miniconda3/envs/grandtn/lib/python3.9/site-packages/torchdiffeq/_impl/misc.py:11: UserWarning: Dopri5Solver: Unexpected arguments {'step_size': 1, 'max_iters': 100}\n",
      "  warnings.warn('{}: Unexpected arguments {}'.format(solver.__class__.__name__, unused_kwargs))\n",
      "/home/aeljon00/miniconda3/envs/grandtn/lib/python3.9/site-packages/torchdiffeq/_impl/misc.py:11: UserWarning: RK4: Unexpected arguments {'max_iters': 100}\n",
      "  warnings.warn('{}: Unexpected arguments {}'.format(solver.__class__.__name__, unused_kwargs))\n",
      "/home/aeljon00/miniconda3/envs/grandtn/lib/python3.9/site-packages/torchdiffeq/_impl/misc.py:11: UserWarning: EarlyStopDopri5: Unexpected arguments {'step_size': 1, 'max_iters': 100}\n",
      "  warnings.warn('{}: Unexpected arguments {}'.format(solver.__class__.__name__, unused_kwargs))\n"
     ]
    },
    {
     "name": "stdout",
     "output_type": "stream",
     "text": [
      "after test: allocated reserved\n",
      "2434444288 6043992064 2 12972544\n",
      "Epoch: 094, Runtime 2.420765, Loss 1.136667, forward nfe 6824, backward nfe 1504, Train: 0.7038, Val: 0.6994, Test: 0.6922, Best time: 3.6760\n",
      "before train: allocated reserved\n",
      "1505060864 4089446400 2 12972544\n"
     ]
    },
    {
     "name": "stderr",
     "output_type": "stream",
     "text": [
      "/home/aeljon00/miniconda3/envs/grandtn/lib/python3.9/site-packages/torchdiffeq/_impl/misc.py:11: UserWarning: Dopri5Solver: Unexpected arguments {'step_size': 1, 'max_iters': 100}\n",
      "  warnings.warn('{}: Unexpected arguments {}'.format(solver.__class__.__name__, unused_kwargs))\n",
      "/home/aeljon00/miniconda3/envs/grandtn/lib/python3.9/site-packages/torchdiffeq/_impl/misc.py:11: UserWarning: RK4: Unexpected arguments {'max_iters': 100}\n",
      "  warnings.warn('{}: Unexpected arguments {}'.format(solver.__class__.__name__, unused_kwargs))\n",
      "/home/aeljon00/miniconda3/envs/grandtn/lib/python3.9/site-packages/torchdiffeq/_impl/misc.py:11: UserWarning: EarlyStopDopri5: Unexpected arguments {'step_size': 1, 'max_iters': 100}\n",
      "  warnings.warn('{}: Unexpected arguments {}'.format(solver.__class__.__name__, unused_kwargs))\n"
     ]
    },
    {
     "name": "stdout",
     "output_type": "stream",
     "text": [
      "after test: allocated reserved\n",
      "2434444288 6043992064 2 12972544\n",
      "Epoch: 095, Runtime 2.420194, Loss 1.143490, forward nfe 6906, backward nfe 1520, Train: 0.7038, Val: 0.6994, Test: 0.6922, Best time: 3.6760\n",
      "before train: allocated reserved\n",
      "1505060864 4089446400 2 12972544\n"
     ]
    },
    {
     "name": "stderr",
     "output_type": "stream",
     "text": [
      "/home/aeljon00/miniconda3/envs/grandtn/lib/python3.9/site-packages/torchdiffeq/_impl/misc.py:11: UserWarning: Dopri5Solver: Unexpected arguments {'step_size': 1, 'max_iters': 100}\n",
      "  warnings.warn('{}: Unexpected arguments {}'.format(solver.__class__.__name__, unused_kwargs))\n",
      "/home/aeljon00/miniconda3/envs/grandtn/lib/python3.9/site-packages/torchdiffeq/_impl/misc.py:11: UserWarning: RK4: Unexpected arguments {'max_iters': 100}\n",
      "  warnings.warn('{}: Unexpected arguments {}'.format(solver.__class__.__name__, unused_kwargs))\n",
      "/home/aeljon00/miniconda3/envs/grandtn/lib/python3.9/site-packages/torchdiffeq/_impl/misc.py:11: UserWarning: EarlyStopDopri5: Unexpected arguments {'step_size': 1, 'max_iters': 100}\n",
      "  warnings.warn('{}: Unexpected arguments {}'.format(solver.__class__.__name__, unused_kwargs))\n"
     ]
    },
    {
     "name": "stdout",
     "output_type": "stream",
     "text": [
      "after test: allocated reserved\n",
      "2434444288 6043992064 2 12972544\n",
      "Epoch: 096, Runtime 2.421622, Loss 1.143039, forward nfe 6988, backward nfe 1536, Train: 0.7038, Val: 0.6994, Test: 0.6922, Best time: 3.6760\n",
      "before train: allocated reserved\n",
      "1505060864 4089446400 2 12972544\n"
     ]
    },
    {
     "name": "stderr",
     "output_type": "stream",
     "text": [
      "/home/aeljon00/miniconda3/envs/grandtn/lib/python3.9/site-packages/torchdiffeq/_impl/misc.py:11: UserWarning: Dopri5Solver: Unexpected arguments {'step_size': 1, 'max_iters': 100}\n",
      "  warnings.warn('{}: Unexpected arguments {}'.format(solver.__class__.__name__, unused_kwargs))\n",
      "/home/aeljon00/miniconda3/envs/grandtn/lib/python3.9/site-packages/torchdiffeq/_impl/misc.py:11: UserWarning: RK4: Unexpected arguments {'max_iters': 100}\n",
      "  warnings.warn('{}: Unexpected arguments {}'.format(solver.__class__.__name__, unused_kwargs))\n",
      "/home/aeljon00/miniconda3/envs/grandtn/lib/python3.9/site-packages/torchdiffeq/_impl/misc.py:11: UserWarning: EarlyStopDopri5: Unexpected arguments {'step_size': 1, 'max_iters': 100}\n",
      "  warnings.warn('{}: Unexpected arguments {}'.format(solver.__class__.__name__, unused_kwargs))\n"
     ]
    },
    {
     "name": "stdout",
     "output_type": "stream",
     "text": [
      "after test: allocated reserved\n",
      "2434444288 6043992064 2 12972544\n",
      "Epoch: 097, Runtime 2.418273, Loss 1.146141, forward nfe 7070, backward nfe 1552, Train: 0.7038, Val: 0.6994, Test: 0.6922, Best time: 3.6760\n",
      "before train: allocated reserved\n",
      "1505060864 4089446400 2 12972544\n"
     ]
    },
    {
     "name": "stderr",
     "output_type": "stream",
     "text": [
      "/home/aeljon00/miniconda3/envs/grandtn/lib/python3.9/site-packages/torchdiffeq/_impl/misc.py:11: UserWarning: Dopri5Solver: Unexpected arguments {'step_size': 1, 'max_iters': 100}\n",
      "  warnings.warn('{}: Unexpected arguments {}'.format(solver.__class__.__name__, unused_kwargs))\n",
      "/home/aeljon00/miniconda3/envs/grandtn/lib/python3.9/site-packages/torchdiffeq/_impl/misc.py:11: UserWarning: RK4: Unexpected arguments {'max_iters': 100}\n",
      "  warnings.warn('{}: Unexpected arguments {}'.format(solver.__class__.__name__, unused_kwargs))\n",
      "/home/aeljon00/miniconda3/envs/grandtn/lib/python3.9/site-packages/torchdiffeq/_impl/misc.py:11: UserWarning: EarlyStopDopri5: Unexpected arguments {'step_size': 1, 'max_iters': 100}\n",
      "  warnings.warn('{}: Unexpected arguments {}'.format(solver.__class__.__name__, unused_kwargs))\n"
     ]
    },
    {
     "name": "stdout",
     "output_type": "stream",
     "text": [
      "after test: allocated reserved\n",
      "2434444288 6043992064 2 12972544\n",
      "Epoch: 098, Runtime 2.419801, Loss 1.144164, forward nfe 7152, backward nfe 1568, Train: 0.7038, Val: 0.6994, Test: 0.6922, Best time: 3.6760\n",
      "before train: allocated reserved\n",
      "1505060864 4089446400 2 12972544\n"
     ]
    },
    {
     "name": "stderr",
     "output_type": "stream",
     "text": [
      "/home/aeljon00/miniconda3/envs/grandtn/lib/python3.9/site-packages/torchdiffeq/_impl/misc.py:11: UserWarning: Dopri5Solver: Unexpected arguments {'step_size': 1, 'max_iters': 100}\n",
      "  warnings.warn('{}: Unexpected arguments {}'.format(solver.__class__.__name__, unused_kwargs))\n",
      "/home/aeljon00/miniconda3/envs/grandtn/lib/python3.9/site-packages/torchdiffeq/_impl/misc.py:11: UserWarning: RK4: Unexpected arguments {'max_iters': 100}\n",
      "  warnings.warn('{}: Unexpected arguments {}'.format(solver.__class__.__name__, unused_kwargs))\n",
      "/home/aeljon00/miniconda3/envs/grandtn/lib/python3.9/site-packages/torchdiffeq/_impl/misc.py:11: UserWarning: EarlyStopDopri5: Unexpected arguments {'step_size': 1, 'max_iters': 100}\n",
      "  warnings.warn('{}: Unexpected arguments {}'.format(solver.__class__.__name__, unused_kwargs))\n"
     ]
    },
    {
     "name": "stdout",
     "output_type": "stream",
     "text": [
      "after test: allocated reserved\n",
      "2434444288 6043992064 2 12972544\n",
      "Epoch: 099, Runtime 2.419363, Loss 1.147638, forward nfe 7234, backward nfe 1584, Train: 0.7038, Val: 0.6994, Test: 0.6922, Best time: 3.6760\n",
      "best val accuracy 0.699386 with test accuracy 0.692179 at epoch 79 and best time 3.676016\n"
     ]
    }
   ],
   "source": [
    "\n",
    "import gc\n",
    "\n",
    "try:\n",
    "    best_opt = best_params_dict[cmd_opt['dataset']]\n",
    "    opt = {**cmd_opt, **best_opt}\n",
    "    merge_cmd_args(cmd_opt, opt)\n",
    "except KeyError:\n",
    "    opt = cmd_opt\n",
    "\n",
    "dataset = get_dataset(opt, f'{ROOT_DIR}/data', opt['not_lcc'])\n",
    "device = torch.device('cuda' if torch.cuda.is_available() else 'cpu')\n",
    "#device = torch.device('cpu')\n",
    "\n",
    "if opt['beltrami']:\n",
    "    pos_encoding = apply_beltrami(dataset.data, opt).to(device)\n",
    "    opt['pos_enc_dim'] = pos_encoding.shape[1]\n",
    "else:\n",
    "    pos_encoding = None\n",
    " \n",
    "print(\"adjoint method \", opt[\"adjoint_method\"])\n",
    "print(\"no early \", opt[\"no_early\"])\n",
    "#print(\"before model\")\n",
    "#print(torch.cuda.memory_allocated())#print(torch.cuda.memory_stats())\n",
    "    \n",
    "if opt['rewire_KNN'] or opt['fa_layer']:\n",
    "    model = GNN_KNN(opt, dataset, device).to(device) if opt[\"no_early\"] else GNNKNNEarly(opt, dataset, device).to(device)\n",
    "else:\n",
    "    model = GNN(opt, dataset, device).to(device) if opt[\"no_early\"] else GNNEarly(opt, dataset, device).to(device)\n",
    "\n",
    "if not opt['planetoid_split'] and opt['dataset'] in ['Cora','Citeseer','Pubmed']:\n",
    "    dataset.data = set_train_val_test_split(np.random.randint(0, 1000), dataset.data, num_development=5000 if opt[\"dataset\"] == \"CoauthorCS\" else 1500)\n",
    "\n",
    "print(\"before dataset\")\n",
    "stats = torch.cuda.memory_stats()\n",
    "print(torch.cuda.memory_allocated(), torch.cuda.memory_reserved(), stats['inactive_split.all.current'], stats['inactive_split_bytes.all.current'])\n",
    "data = dataset.data.to(device)\n",
    "print(\"after dataset\")\n",
    "print(torch.cuda.memory_allocated(), torch.cuda.memory_reserved(), stats['inactive_split.all.current'], stats['inactive_split_bytes.all.current'])\n",
    "\n",
    "parameters = [p for p in model.parameters() if p.requires_grad]\n",
    "print_model_params(model)\n",
    "optimizer = get_optimizer(opt['optimizer'], parameters, lr=opt['lr'], weight_decay=opt['decay'])\n",
    "best_time = best_epoch = train_acc = val_acc = test_acc = 0\n",
    "\n",
    "this_test = test_OGB if opt['dataset'] == 'ogbn-arxiv' else test\n",
    "\n",
    "print(\"before loop\")\n",
    "print(torch.cuda.memory_allocated())#print(torch.cuda.memory_stats())\n",
    "\n",
    "print(f\"epochs until {opt['epoch']}\")\n",
    "for epoch in range(1, opt['epoch']):\n",
    "    start_time = time.time()\n",
    "\n",
    "    if opt['rewire_KNN'] and epoch % opt['rewire_KNN_epoch'] == 0 and epoch != 0:\n",
    "        ei = apply_KNN(data, pos_encoding, model, opt)\n",
    "        model.odeblock.odefunc.edge_index = ei\n",
    "\n",
    "    print(\"before train: allocated reserved\")\n",
    "    print(torch.cuda.memory_allocated(), torch.cuda.memory_reserved(), stats['inactive_split.all.current'], stats['inactive_split_bytes.all.current'])\n",
    "    loss = train(model, optimizer, data, pos_encoding)\n",
    "    #print(\"before test\")\n",
    "    #print(torch.cuda.memory_allocated())\n",
    "    tmp_train_acc, tmp_val_acc, tmp_test_acc = this_test(model, data, pos_encoding, opt)\n",
    "    #print(\"type train ret \", type(loss))\n",
    "    #print(\"type test ret \", type(tmp_train_acc), type(tmp_val_acc), type(tmp_test_acc))\n",
    "    \n",
    "    print(\"after test: allocated reserved\")\n",
    "    print(torch.cuda.memory_allocated(), torch.cuda.memory_reserved(), stats['inactive_split.all.current'], stats['inactive_split_bytes.all.current'])\n",
    "\n",
    "    best_time = opt['time']\n",
    "    if tmp_val_acc > val_acc:\n",
    "        best_epoch = epoch\n",
    "        train_acc = tmp_train_acc\n",
    "        val_acc = tmp_val_acc\n",
    "        test_acc = tmp_test_acc\n",
    "        best_time = opt['time']\n",
    "    if not opt['no_early'] and model.odeblock.test_integrator.solver.best_val > val_acc:\n",
    "        best_epoch = epoch\n",
    "        val_acc = model.odeblock.test_integrator.solver.best_val\n",
    "        test_acc = model.odeblock.test_integrator.solver.best_test\n",
    "        train_acc = model.odeblock.test_integrator.solver.best_train\n",
    "        best_time = model.odeblock.test_integrator.solver.best_time\n",
    "\n",
    "    log = 'Epoch: {:03d}, Runtime {:03f}, Loss {:03f}, forward nfe {:d}, backward nfe {:d}, Train: {:.4f}, Val: {:.4f}, Test: {:.4f}, Best time: {:.4f}'\n",
    "\n",
    "    print(log.format(epoch, time.time() - start_time, loss, model.fm.sum, model.bm.sum, train_acc, val_acc, test_acc, best_time))\n",
    "    del loss\n",
    "    del tmp_train_acc\n",
    "    del tmp_val_acc\n",
    "    del tmp_test_acc\n",
    "    torch.cuda.empty_cache()\n",
    "    gc.collect()\n",
    "print('best val accuracy {:03f} with test accuracy {:03f} at epoch {:d} and best time {:03f}'.format(val_acc, test_acc,best_epoch,best_time))\n",
    "\n"
   ]
  },
  {
   "cell_type": "code",
   "execution_count": 11,
   "id": "ed4ae4e2-5b27-418c-8859-6bd239c93e8c",
   "metadata": {},
   "outputs": [
    {
     "name": "stdout",
     "output_type": "stream",
     "text": [
      "1505060864\n",
      "5408115200\n",
      "4089446400\n",
      "7019167744\n"
     ]
    }
   ],
   "source": [
    "print(torch.cuda.memory_allocated())\n",
    "print(torch.cuda.max_memory_allocated())\n",
    "print(torch.cuda.memory_reserved())\n",
    "print(torch.cuda.max_memory_reserved())"
   ]
  },
  {
   "cell_type": "code",
   "execution_count": null,
   "id": "7e1534f7-6594-4b86-9c59-05cada666473",
   "metadata": {},
   "outputs": [],
   "source": []
  }
 ],
 "metadata": {
  "kernelspec": {
   "display_name": "Python 3",
   "language": "python",
   "name": "python3"
  },
  "language_info": {
   "codemirror_mode": {
    "name": "ipython",
    "version": 3
   },
   "file_extension": ".py",
   "mimetype": "text/x-python",
   "name": "python",
   "nbconvert_exporter": "python",
   "pygments_lexer": "ipython3",
   "version": "3.9.12"
  }
 },
 "nbformat": 4,
 "nbformat_minor": 5
}
