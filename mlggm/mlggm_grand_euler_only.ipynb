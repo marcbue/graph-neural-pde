{
 "cells": [
  {
   "cell_type": "code",
   "execution_count": 200,
   "outputs": [
    {
     "name": "stdout",
     "output_type": "stream",
     "text": [
      "The autoreload extension is already loaded. To reload it, use:\n",
      "  %reload_ext autoreload\n"
     ]
    }
   ],
   "source": [
    "import pandas as pd\n",
    "%load_ext autoreload\n",
    "%autoreload 2\n",
    "import matplotlib.pyplot as plt\n",
    "import seaborn as sns\n",
    "plt.rcParams['axes.facecolor'] = 'white'\n",
    "plt.rcParams['figure.facecolor'] = 'white'\n",
    "import gc"
   ],
   "metadata": {
    "collapsed": false,
    "pycharm": {
     "name": "#%%\n"
    }
   }
  },
  {
   "cell_type": "code",
   "execution_count": 2,
   "outputs": [],
   "source": [
    "import torch\n",
    "import torch.nn as nn\n",
    "import torch.optim as optim\n",
    "from torch_geometric.nn.conv import MessagePassing\n",
    "from torch_geometric.data import Data\n",
    "from torch_geometric.nn import GCNConv\n",
    "import torch.nn.functional as F\n",
    "import torch_sparse\n",
    "from torchdiffeq import odeint\n",
    "# from torchdiffeq import odeint_adjoint as odeint # Might be more stable according to docs of torchdiffeq\n",
    "from torch_geometric.utils.num_nodes import maybe_num_nodes\n",
    "from torch_geometric.utils import add_remaining_self_loops\n",
    "from torch_scatter import scatter_add\n",
    "\n",
    "import numpy as np\n",
    "import networkx as nx\n",
    "\n",
    "import time\n",
    "\n",
    "from torch_geometric.datasets import Planetoid\n",
    "from pathlib import Path"
   ],
   "metadata": {
    "collapsed": false,
    "pycharm": {
     "name": "#%%\n"
    }
   }
  },
  {
   "cell_type": "code",
   "execution_count": 3,
   "outputs": [],
   "source": [
    "opt = {\n",
    "  'data_norm': 'rw',\n",
    "  'self_loop_weight': 1.0,\n",
    "  'hidden_dim': 80,\n",
    "  'input_dropout': 0.5,\n",
    "  'dropout': 0.046878964627763316,\n",
    "  'optimizer': 'adam',\n",
    "  'lr': 0.01,\n",
    "  'decay': 0.00507685443154266,\n",
    "  'epoch': 100,\n",
    "  'alpha': 1.0,\n",
    "  'block': 'constant',\n",
    "  'function': 'laplacian',\n",
    "  'time': 18.294754260552843,\n",
    "  'method': 'euler',\n",
    "  'step_size': 1,\n",
    "  'adjoint': False,\n",
    "  'tol_scale': 821.9773048827274,\n",
    "  'max_nfe': 2000,\n",
    "  'no_early': True,\n",
    "}"
   ],
   "metadata": {
    "collapsed": false,
    "pycharm": {
     "name": "#%%\n"
    }
   }
  },
  {
   "cell_type": "code",
   "execution_count": 4,
   "outputs": [],
   "source": [
    "# Set torch device\n",
    "device = torch.device('cuda' if torch.cuda.is_available() else 'cpu')\n",
    "# device = 'cpu'"
   ],
   "metadata": {
    "collapsed": false,
    "pycharm": {
     "name": "#%%\n"
    }
   }
  },
  {
   "cell_type": "markdown",
   "source": [
    "## Get Dataset"
   ],
   "metadata": {
    "collapsed": false,
    "pycharm": {
     "name": "#%% md\n"
    }
   }
  },
  {
   "cell_type": "code",
   "execution_count": 5,
   "outputs": [
    {
     "name": "stdout",
     "output_type": "stream",
     "text": [
      "Number of graphs: 1\n",
      "Number of features: 1433\n",
      "Number of classes: 7\n",
      "Number of nodes: 2708\n",
      "Number of edges: 10556\n",
      "Average node degree: 3.90\n",
      "Number of training nodes: 140\n",
      "Number of validation nodes: 500\n",
      "Number of test nodes: 1000\n",
      "Contains isolated nodes: False\n",
      "Contains self-loops: False\n",
      "Is undirected: True\n"
     ]
    }
   ],
   "source": [
    "dataset_dir = Path('data')\n",
    "dataset_dir = dataset_dir.absolute()\n",
    "if not dataset_dir.exists():\n",
    "    dataset_dir.mkdir(parents=True)\n",
    "\n",
    "dataset = Planetoid(dataset_dir, 'Cora')\n",
    "\n",
    "# Some info\n",
    "print(f'Number of graphs: {len(dataset)}')\n",
    "print(f'Number of features: {dataset.num_features}')\n",
    "print(f'Number of classes: {dataset.num_classes}')\n",
    "data = dataset.data\n",
    "print(f'Number of nodes: {data.num_nodes}')\n",
    "print(f'Number of edges: {data.num_edges}')\n",
    "print(f'Average node degree: {data.num_edges / data.num_nodes:.2f}')\n",
    "print(f'Number of training nodes: {data.train_mask.sum()}')\n",
    "print(f'Number of validation nodes: {data.val_mask.sum()}')\n",
    "print(f'Number of test nodes: {data.test_mask.sum()}')\n",
    "print(f'Contains isolated nodes: {data.contains_isolated_nodes()}')\n",
    "print(f'Contains self-loops: {data.contains_self_loops()}')\n",
    "print(f'Is undirected: {data.is_undirected()}')"
   ],
   "metadata": {
    "collapsed": false,
    "pycharm": {
     "name": "#%%\n"
    }
   }
  },
  {
   "cell_type": "code",
   "execution_count": 6,
   "outputs": [],
   "source": [
    "# # Plot the graph\n",
    "# G = nx.Graph()\n",
    "#\n",
    "# G.add_nodes_from(list(range(data.num_nodes)))\n",
    "# G.add_edges_from([tuple(x) for x in data.edge_index.T.tolist()])\n",
    "# nx.draw(G)\n",
    "# plt.gca().set_facecolor('white')"
   ],
   "metadata": {
    "collapsed": false,
    "pycharm": {
     "name": "#%%\n"
    }
   }
  },
  {
   "cell_type": "code",
   "execution_count": 7,
   "outputs": [],
   "source": [
    "# Train the given model on the given graph for num_epochs\n",
    "def train(model, optimizer, data):\n",
    "    model.train()\n",
    "    optimizer.zero_grad()\n",
    "    x = data.x\n",
    "    y = data.y.squeeze()\n",
    "\n",
    "    # Set up the loss and the optimizer\n",
    "    loss_fn = nn.CrossEntropyLoss()\n",
    "    optimizer = optim.Adam(model.parameters(), lr=0.01, weight_decay=5e-4)\n",
    "    out = model(x)\n",
    "\n",
    "    loss = loss_fn(out[data.train_mask], y[data.train_mask])\n",
    "    loss.backward()\n",
    "    optimizer.step()\n",
    "    return loss.item()"
   ],
   "metadata": {
    "collapsed": false,
    "pycharm": {
     "name": "#%%\n"
    }
   }
  },
  {
   "cell_type": "code",
   "execution_count": 8,
   "outputs": [],
   "source": [
    "class LaplacianODEFunc(MessagePassing):\n",
    "\n",
    "  # currently requires in_features = out_features\n",
    "  def __init__(self, in_features, out_features, opt, data, device):\n",
    "    super(MessagePassing, self).__init__()\n",
    "    self.opt = opt\n",
    "    self.device = device\n",
    "    self.edge_index = None\n",
    "    self.edge_weight = None\n",
    "    self.attention_weights = None\n",
    "    self.alpha_train = nn.Parameter(torch.tensor(0.0))\n",
    "    self.beta_train = nn.Parameter(torch.tensor(0.0))\n",
    "    self.x0 = None\n",
    "    self.nfe = 0\n",
    "    self.alpha_sc = nn.Parameter(torch.ones(1))\n",
    "    self.beta_sc = nn.Parameter(torch.ones(1))\n",
    "    self.in_features = in_features\n",
    "    self.out_features = out_features\n",
    "    self.w = nn.Parameter(torch.eye(opt['hidden_dim']))\n",
    "    self.d = nn.Parameter(torch.zeros(opt['hidden_dim']) + 1)\n",
    "    self.alpha_sc = nn.Parameter(torch.ones(1))\n",
    "    self.beta_sc = nn.Parameter(torch.ones(1))\n",
    "\n",
    "  def sparse_multiply(self, x):\n",
    "    ax = torch_sparse.spmm(self.edge_index, self.edge_weight, x.shape[0], x.shape[0], x)\n",
    "    return ax\n",
    "\n",
    "  def forward(self, t, x):  # the t param is needed by the ODE solver.\n",
    "    self.nfe += 1\n",
    "    ax = self.sparse_multiply(x)\n",
    "    alpha = torch.sigmoid(self.alpha_train)\n",
    "    f = alpha * (ax - x)\n",
    "    f = f + self.beta_train * self.x0\n",
    "    return f"
   ],
   "metadata": {
    "collapsed": false,
    "pycharm": {
     "name": "#%%\n"
    }
   }
  },
  {
   "cell_type": "code",
   "execution_count": 9,
   "outputs": [],
   "source": [
    "def get_rw_adj(edge_index, edge_weight=None, norm_dim=1, fill_value=0., num_nodes=None, dtype=None):\n",
    "  # Not sure what this does yet, but it is necessary\n",
    "  num_nodes = maybe_num_nodes(edge_index, num_nodes)\n",
    "\n",
    "  if edge_weight is None:\n",
    "    edge_weight = torch.ones((edge_index.size(1),), dtype=dtype,\n",
    "                             device=edge_index.device)\n",
    "\n",
    "  if not fill_value == 0:\n",
    "    edge_index, tmp_edge_weight = add_remaining_self_loops(\n",
    "      edge_index, edge_weight, fill_value, num_nodes)\n",
    "    assert tmp_edge_weight is not None\n",
    "    edge_weight = tmp_edge_weight\n",
    "\n",
    "  row, col = edge_index[0], edge_index[1]\n",
    "  indices = row if norm_dim == 0 else col\n",
    "  deg = scatter_add(edge_weight, indices, dim=0, dim_size=num_nodes)\n",
    "  deg_inv_sqrt = deg.pow_(-1)\n",
    "  edge_weight = deg_inv_sqrt[indices] * edge_weight if norm_dim == 0 else edge_weight * deg_inv_sqrt[indices]\n",
    "  return edge_index, edge_weight"
   ],
   "metadata": {
    "collapsed": false,
    "pycharm": {
     "name": "#%%\n"
    }
   }
  },
  {
   "cell_type": "code",
   "execution_count": 10,
   "outputs": [],
   "source": [
    "class ConstantODEblock(nn.Module):\n",
    "  def __init__(self, odefunc, opt, data, device, t=torch.tensor([0, 1])):\n",
    "    super(ConstantODEblock, self).__init__()\n",
    "    self.opt = opt\n",
    "    self.t = t\n",
    "\n",
    "    self.odefunc = odefunc(opt['hidden_dim'], opt['hidden_dim'], opt, data, device)\n",
    "    edge_index, edge_weight = get_rw_adj(data.edge_index, edge_weight=data.edge_attr, norm_dim=1,\n",
    "                                                                   fill_value=opt['self_loop_weight'],\n",
    "                                                                   num_nodes=data.num_nodes,\n",
    "                                                                   dtype=data.x.dtype)\n",
    "    self.odefunc.edge_index = edge_index.to(device)\n",
    "    self.odefunc.edge_weight = edge_weight.to(device)\n",
    "\n",
    "    self.train_integrator = odeint\n",
    "    self.test_integrator = odeint\n",
    "    self.set_tol()\n",
    "\n",
    "  def set_x0(self, x0):\n",
    "    self.odefunc.x0 = x0.clone().detach()\n",
    "\n",
    "  def set_tol(self):\n",
    "    self.atol = self.opt['tol_scale'] * 1e-7\n",
    "    self.rtol = self.opt['tol_scale'] * 1e-9\n",
    "\n",
    "  def reset_tol(self):\n",
    "    self.atol = 1e-7\n",
    "    self.rtol = 1e-9\n",
    "\n",
    "  def set_time(self, time):\n",
    "    self.t = torch.tensor([0, time]).to(self.device)\n",
    "\n",
    "  def forward(self, x):\n",
    "    t = self.t.type_as(x)\n",
    "    integrator = self.train_integrator if self.training else self.test_integrator\n",
    "    func = self.odefunc\n",
    "    state = x\n",
    "    state_dt = integrator(\n",
    "      func, state, t,\n",
    "      method='euler',\n",
    "      options=dict(step_size=self.opt['step_size']),\n",
    "      atol=self.atol,\n",
    "      rtol=self.rtol)\n",
    "    z = state_dt[1]\n",
    "    return z\n",
    "\n",
    "  def __repr__(self):\n",
    "    return self.__class__.__name__ + '( Time Interval ' + str(self.t[0].item()) + ' -> ' + str(self.t[1].item()) \\\n",
    "           + \")\""
   ],
   "metadata": {
    "collapsed": false,
    "pycharm": {
     "name": "#%%\n"
    }
   }
  },
  {
   "cell_type": "code",
   "execution_count": 11,
   "outputs": [],
   "source": [
    "class GNN(MessagePassing):\n",
    "  def __init__(self, opt, dataset, device=torch.device('cpu')):\n",
    "    super(MessagePassing, self).__init__()\n",
    "    self.opt = opt\n",
    "    self.T = opt['time']\n",
    "    self.num_classes = dataset.num_classes\n",
    "    self.num_features = dataset.data.num_features\n",
    "    self.num_nodes = dataset.data.num_nodes\n",
    "    self.device = device\n",
    "\n",
    "    self.m1 = nn.Linear(self.num_features, opt['hidden_dim'])\n",
    "    self.hidden_dim = opt['hidden_dim']\n",
    "    self.m2 = nn.Linear(opt['hidden_dim'], dataset.num_classes)\n",
    "    self.f = LaplacianODEFunc\n",
    "    block = ConstantODEblock\n",
    "    time_tensor = torch.tensor([0, self.T]).to(device)\n",
    "    self.odeblock = block(self.f, opt, dataset.data, device, t=time_tensor).to(device)\n",
    "\n",
    "  def getNFE(self):\n",
    "    return self.odeblock.odefunc.nfe\n",
    "\n",
    "  def resetNFE(self):\n",
    "    self.odeblock.odefunc.nfe = 0\n",
    "\n",
    "  def reset(self):\n",
    "    self.m1.reset_parameters()\n",
    "    self.m2.reset_parameters()\n",
    "\n",
    "  def forward(self, x, pos_encoding=None):\n",
    "    x = F.dropout(x, self.opt['input_dropout'], training=self.training)\n",
    "    x = self.m1(x)\n",
    "\n",
    "    self.odeblock.set_x0(x)\n",
    "    z = self.odeblock(x)\n",
    "\n",
    "    # Activation.\n",
    "    z = F.relu(z)\n",
    "\n",
    "    # Dropout.\n",
    "    z = F.dropout(z, self.opt['dropout'], training=self.training)\n",
    "\n",
    "    # Decode each node embedding to get node label.\n",
    "    z = self.m2(z)\n",
    "    return z"
   ],
   "metadata": {
    "collapsed": false,
    "pycharm": {
     "name": "#%%\n"
    }
   }
  },
  {
   "cell_type": "code",
   "execution_count": 12,
   "outputs": [],
   "source": [
    "def print_model_params(model):\n",
    "  print(model)\n",
    "  for name, param in model.named_parameters():\n",
    "    if param.requires_grad:\n",
    "      print(name)\n",
    "      print(param.data.shape)"
   ],
   "metadata": {
    "collapsed": false,
    "pycharm": {
     "name": "#%%\n"
    }
   }
  },
  {
   "cell_type": "code",
   "execution_count": 13,
   "outputs": [],
   "source": [
    "def set_train_val_test_split(\n",
    "        seed: int,\n",
    "        data: Data,\n",
    "        num_development: int = 1500,\n",
    "        num_per_class: int = 20) -> Data:\n",
    "  rnd_state = np.random.RandomState(seed)\n",
    "  num_nodes = data.y.shape[0]\n",
    "  development_idx = rnd_state.choice(num_nodes, num_development, replace=False)\n",
    "  test_idx = [i for i in np.arange(num_nodes) if i not in development_idx]\n",
    "\n",
    "  train_idx = []\n",
    "  rnd_state = np.random.RandomState(seed)\n",
    "  for c in range(data.y.max() + 1):\n",
    "    class_idx = development_idx[np.where(data.y[development_idx].cpu() == c)[0]]\n",
    "    train_idx.extend(rnd_state.choice(class_idx, num_per_class, replace=False))\n",
    "\n",
    "  val_idx = [i for i in development_idx if i not in train_idx]\n",
    "\n",
    "  def get_mask(idx):\n",
    "    mask = torch.zeros(num_nodes, dtype=torch.bool)\n",
    "    mask[idx] = 1\n",
    "    return mask\n",
    "\n",
    "  data.train_mask = get_mask(train_idx)\n",
    "  data.val_mask = get_mask(val_idx)\n",
    "  data.test_mask = get_mask(test_idx)\n",
    "\n",
    "  return data"
   ],
   "metadata": {
    "collapsed": false,
    "pycharm": {
     "name": "#%%\n"
    }
   }
  },
  {
   "cell_type": "code",
   "execution_count": 123,
   "outputs": [],
   "source": [
    "@torch.no_grad()\n",
    "def test(model, data, opt=None):  # opt required for runtime polymorphism\n",
    "  model.eval()\n",
    "  logits, accs = model(data.x), []\n",
    "  for _, mask in data('train_mask', 'val_mask', 'test_mask'):\n",
    "    pred = logits[mask].max(1)[1]\n",
    "    acc = pred.eq(data.y[mask]).sum().item() / mask.sum().item()\n",
    "    accs.append(acc)\n",
    "  return accs"
   ],
   "metadata": {
    "collapsed": false,
    "pycharm": {
     "name": "#%%\n"
    }
   }
  },
  {
   "cell_type": "code",
   "execution_count": null,
   "outputs": [],
   "source": [
    "def print_training_stats(training_time_per_repeat, best_training_errors_per_repeat,\n",
    "                         best_test_errors_per_repeat, best_validation_errors_per_repeat):\n",
    "  print(f'Training time was: {training_time_per_repeat.mean():.2f}s +- {training_time_per_repeat.std():.2f}s')\n",
    "  print(f'Best training error: {best_training_errors_per_repeat.max():.4f} \\n'\n",
    "        f'Best validation error: {best_validation_errors_per_repeat.max():.4f} \\n'\n",
    "        f'Best test error: {best_test_errors_per_repeat.max():.4f}')"
   ],
   "metadata": {
    "collapsed": false,
    "pycharm": {
     "name": "#%%\n"
    }
   }
  },
  {
   "cell_type": "code",
   "execution_count": 263,
   "outputs": [],
   "source": [
    "def plot_train_test_val_errors(training_errors, test_errors, validation_errors, title='Forward Euler error - Cora dataset'):\n",
    "  # Create dataframe for plotting\n",
    "  n_repeats, n_epochs = training_errors.shape\n",
    "  epoch_column = np.repeat(np.arange(0, n_epochs), n_repeats)\n",
    "  epoch_column = np.tile(epoch_column, 3) # for the three types of errors\n",
    "  training_error_columns = training_errors.flatten(order='F')\n",
    "  test_error_columns = test_errors.flatten(order='F')\n",
    "  validation_error_columns = validation_errors.flatten(order='F')\n",
    "  errors = np.concatenate([training_error_columns, test_error_columns, validation_error_columns])\n",
    "  error_type = np.concatenate([np.repeat(['Training'], n_epochs*n_repeats),\n",
    "                               np.repeat(['Test'], n_epochs*n_repeats),\n",
    "                               np.repeat(['Validation'], n_epochs*n_repeats)])\n",
    "\n",
    "\n",
    "  numpy_array = np.stack([epoch_column, errors, error_type], axis=1)\n",
    "  df_error = pd.DataFrame(numpy_array, columns=['epoch', 'error', 'error_type'])\n",
    "  df_error.error = df_error.error.astype('float')\n",
    "  df_error.epoch = df_error.epoch.astype('int')\n",
    "\n",
    "  # Plot\n",
    "  fig, ax = plt.subplots(figsize=(10,5))\n",
    "  sns.lineplot(data=df_error, x='epoch', y='error', hue='error_type', ci='sd', ax=ax)\n",
    "  ax.set_title(title, fontsize=20)\n",
    "  ax.set_xlabel('Epoch', fontsize=16)\n",
    "  ax.set_ylabel('Relative Error', fontsize=16)\n",
    "  ax.legend(title='Error type', fontsize=16, title_fontsize=16)\n",
    "  ax.tick_params(axis='both', which='major', labelsize=16)"
   ],
   "metadata": {
    "collapsed": false,
    "pycharm": {
     "name": "#%%\n"
    }
   }
  },
  {
   "cell_type": "code",
   "execution_count": 230,
   "outputs": [],
   "source": [
    "data = set_train_val_test_split(42, dataset.data, num_per_class=50)\n",
    "dataset.data = data"
   ],
   "metadata": {
    "collapsed": false,
    "pycharm": {
     "name": "#%%\n"
    }
   }
  },
  {
   "cell_type": "code",
   "execution_count": 257,
   "outputs": [
    {
     "name": "stdout",
     "output_type": "stream",
     "text": [
      "best val accuracy 0.855652 with test accuracy 0.865066 at epoch 66 and best time 18.294754\n"
     ]
    },
    {
     "ename": "KeyboardInterrupt",
     "evalue": "",
     "output_type": "error",
     "traceback": [
      "\u001B[0;31m---------------------------------------------------------------------------\u001B[0m",
      "\u001B[0;31mKeyboardInterrupt\u001B[0m                         Traceback (most recent call last)",
      "\u001B[0;32m/tmp/ipykernel_3437/682666931.py\u001B[0m in \u001B[0;36m<module>\u001B[0;34m\u001B[0m\n\u001B[1;32m     55\u001B[0m \u001B[0;34m\u001B[0m\u001B[0m\n\u001B[1;32m     56\u001B[0m \u001B[0;34m\u001B[0m\u001B[0m\n\u001B[0;32m---> 57\u001B[0;31m \u001B[0mtraining_errors\u001B[0m\u001B[0;34m,\u001B[0m \u001B[0mtest_errors\u001B[0m\u001B[0;34m,\u001B[0m \u001B[0mvalidation_errors\u001B[0m\u001B[0;34m,\u001B[0m \u001B[0mtraining_time\u001B[0m\u001B[0;34m,\u001B[0m \u001B[0mbest_training_errors\u001B[0m\u001B[0;34m,\u001B[0m \u001B[0mbest_test_errors\u001B[0m\u001B[0;34m,\u001B[0m \u001B[0mbest_validation_errors\u001B[0m \u001B[0;34m=\u001B[0m \u001B[0mtrain_NN\u001B[0m\u001B[0;34m(\u001B[0m\u001B[0mn_epochs\u001B[0m\u001B[0;34m,\u001B[0m \u001B[0mn_repeats\u001B[0m\u001B[0;34m,\u001B[0m \u001B[0mdataset\u001B[0m\u001B[0;34m,\u001B[0m \u001B[0mopt\u001B[0m\u001B[0;34m,\u001B[0m \u001B[0mdevice\u001B[0m\u001B[0;34m,\u001B[0m \u001B[0mGNN\u001B[0m\u001B[0;34m)\u001B[0m\u001B[0;34m\u001B[0m\u001B[0;34m\u001B[0m\u001B[0m\n\u001B[0m",
      "\u001B[0;32m/tmp/ipykernel_3437/682666931.py\u001B[0m in \u001B[0;36mtrain_NN\u001B[0;34m(n_epochs, n_repeats, dataset, opt, device, net_class)\u001B[0m\n\u001B[1;32m     19\u001B[0m     \u001B[0;32mfor\u001B[0m \u001B[0mi\u001B[0m\u001B[0;34m,\u001B[0m \u001B[0mepoch\u001B[0m \u001B[0;32min\u001B[0m \u001B[0menumerate\u001B[0m\u001B[0;34m(\u001B[0m\u001B[0mrange\u001B[0m\u001B[0;34m(\u001B[0m\u001B[0;36m1\u001B[0m\u001B[0;34m,\u001B[0m \u001B[0mopt\u001B[0m\u001B[0;34m[\u001B[0m\u001B[0;34m'epoch'\u001B[0m\u001B[0;34m]\u001B[0m\u001B[0;34m+\u001B[0m\u001B[0;36m1\u001B[0m\u001B[0;34m)\u001B[0m\u001B[0;34m)\u001B[0m\u001B[0;34m:\u001B[0m\u001B[0;34m\u001B[0m\u001B[0;34m\u001B[0m\u001B[0m\n\u001B[1;32m     20\u001B[0m \u001B[0;34m\u001B[0m\u001B[0m\n\u001B[0;32m---> 21\u001B[0;31m       \u001B[0mloss\u001B[0m \u001B[0;34m=\u001B[0m \u001B[0mtrain\u001B[0m\u001B[0;34m(\u001B[0m\u001B[0mmodel\u001B[0m\u001B[0;34m,\u001B[0m \u001B[0moptimizer\u001B[0m\u001B[0;34m,\u001B[0m \u001B[0mdata\u001B[0m\u001B[0;34m)\u001B[0m\u001B[0;34m\u001B[0m\u001B[0;34m\u001B[0m\u001B[0m\n\u001B[0m\u001B[1;32m     22\u001B[0m       \u001B[0mtmp_train_acc\u001B[0m\u001B[0;34m,\u001B[0m \u001B[0mtmp_val_acc\u001B[0m\u001B[0;34m,\u001B[0m \u001B[0mtmp_test_acc\u001B[0m \u001B[0;34m=\u001B[0m \u001B[0mthis_test\u001B[0m\u001B[0;34m(\u001B[0m\u001B[0mmodel\u001B[0m\u001B[0;34m,\u001B[0m \u001B[0mdata\u001B[0m\u001B[0;34m,\u001B[0m \u001B[0mopt\u001B[0m\u001B[0;34m)\u001B[0m\u001B[0;34m\u001B[0m\u001B[0;34m\u001B[0m\u001B[0m\n\u001B[1;32m     23\u001B[0m \u001B[0;34m\u001B[0m\u001B[0m\n",
      "\u001B[0;32m/tmp/ipykernel_3437/3595760489.py\u001B[0m in \u001B[0;36mtrain\u001B[0;34m(model, optimizer, data)\u001B[0m\n\u001B[1;32m      9\u001B[0m     \u001B[0mloss_fn\u001B[0m \u001B[0;34m=\u001B[0m \u001B[0mnn\u001B[0m\u001B[0;34m.\u001B[0m\u001B[0mCrossEntropyLoss\u001B[0m\u001B[0;34m(\u001B[0m\u001B[0;34m)\u001B[0m\u001B[0;34m\u001B[0m\u001B[0;34m\u001B[0m\u001B[0m\n\u001B[1;32m     10\u001B[0m     \u001B[0moptimizer\u001B[0m \u001B[0;34m=\u001B[0m \u001B[0moptim\u001B[0m\u001B[0;34m.\u001B[0m\u001B[0mAdam\u001B[0m\u001B[0;34m(\u001B[0m\u001B[0mmodel\u001B[0m\u001B[0;34m.\u001B[0m\u001B[0mparameters\u001B[0m\u001B[0;34m(\u001B[0m\u001B[0;34m)\u001B[0m\u001B[0;34m,\u001B[0m \u001B[0mlr\u001B[0m\u001B[0;34m=\u001B[0m\u001B[0;36m0.01\u001B[0m\u001B[0;34m,\u001B[0m \u001B[0mweight_decay\u001B[0m\u001B[0;34m=\u001B[0m\u001B[0;36m5e-4\u001B[0m\u001B[0;34m)\u001B[0m\u001B[0;34m\u001B[0m\u001B[0;34m\u001B[0m\u001B[0m\n\u001B[0;32m---> 11\u001B[0;31m     \u001B[0mout\u001B[0m \u001B[0;34m=\u001B[0m \u001B[0mmodel\u001B[0m\u001B[0;34m(\u001B[0m\u001B[0mx\u001B[0m\u001B[0;34m)\u001B[0m\u001B[0;34m\u001B[0m\u001B[0;34m\u001B[0m\u001B[0m\n\u001B[0m\u001B[1;32m     12\u001B[0m \u001B[0;34m\u001B[0m\u001B[0m\n\u001B[1;32m     13\u001B[0m     \u001B[0mloss\u001B[0m \u001B[0;34m=\u001B[0m \u001B[0mloss_fn\u001B[0m\u001B[0;34m(\u001B[0m\u001B[0mout\u001B[0m\u001B[0;34m[\u001B[0m\u001B[0mdata\u001B[0m\u001B[0;34m.\u001B[0m\u001B[0mtrain_mask\u001B[0m\u001B[0;34m]\u001B[0m\u001B[0;34m,\u001B[0m \u001B[0my\u001B[0m\u001B[0;34m[\u001B[0m\u001B[0mdata\u001B[0m\u001B[0;34m.\u001B[0m\u001B[0mtrain_mask\u001B[0m\u001B[0;34m]\u001B[0m\u001B[0;34m)\u001B[0m\u001B[0;34m\u001B[0m\u001B[0;34m\u001B[0m\u001B[0m\n",
      "\u001B[0;32m~/anaconda3/envs/grand2/lib/python3.7/site-packages/torch/nn/modules/module.py\u001B[0m in \u001B[0;36m_call_impl\u001B[0;34m(self, *input, **kwargs)\u001B[0m\n\u001B[1;32m    725\u001B[0m             \u001B[0mresult\u001B[0m \u001B[0;34m=\u001B[0m \u001B[0mself\u001B[0m\u001B[0;34m.\u001B[0m\u001B[0m_slow_forward\u001B[0m\u001B[0;34m(\u001B[0m\u001B[0;34m*\u001B[0m\u001B[0minput\u001B[0m\u001B[0;34m,\u001B[0m \u001B[0;34m**\u001B[0m\u001B[0mkwargs\u001B[0m\u001B[0;34m)\u001B[0m\u001B[0;34m\u001B[0m\u001B[0;34m\u001B[0m\u001B[0m\n\u001B[1;32m    726\u001B[0m         \u001B[0;32melse\u001B[0m\u001B[0;34m:\u001B[0m\u001B[0;34m\u001B[0m\u001B[0;34m\u001B[0m\u001B[0m\n\u001B[0;32m--> 727\u001B[0;31m             \u001B[0mresult\u001B[0m \u001B[0;34m=\u001B[0m \u001B[0mself\u001B[0m\u001B[0;34m.\u001B[0m\u001B[0mforward\u001B[0m\u001B[0;34m(\u001B[0m\u001B[0;34m*\u001B[0m\u001B[0minput\u001B[0m\u001B[0;34m,\u001B[0m \u001B[0;34m**\u001B[0m\u001B[0mkwargs\u001B[0m\u001B[0;34m)\u001B[0m\u001B[0;34m\u001B[0m\u001B[0;34m\u001B[0m\u001B[0m\n\u001B[0m\u001B[1;32m    728\u001B[0m         for hook in itertools.chain(\n\u001B[1;32m    729\u001B[0m                 \u001B[0m_global_forward_hooks\u001B[0m\u001B[0;34m.\u001B[0m\u001B[0mvalues\u001B[0m\u001B[0;34m(\u001B[0m\u001B[0;34m)\u001B[0m\u001B[0;34m,\u001B[0m\u001B[0;34m\u001B[0m\u001B[0;34m\u001B[0m\u001B[0m\n",
      "\u001B[0;32m/tmp/ipykernel_3437/2174795948.py\u001B[0m in \u001B[0;36mforward\u001B[0;34m(self, x, pos_encoding)\u001B[0m\n\u001B[1;32m     32\u001B[0m \u001B[0;34m\u001B[0m\u001B[0m\n\u001B[1;32m     33\u001B[0m     \u001B[0mself\u001B[0m\u001B[0;34m.\u001B[0m\u001B[0modeblock\u001B[0m\u001B[0;34m.\u001B[0m\u001B[0mset_x0\u001B[0m\u001B[0;34m(\u001B[0m\u001B[0mx\u001B[0m\u001B[0;34m)\u001B[0m\u001B[0;34m\u001B[0m\u001B[0;34m\u001B[0m\u001B[0m\n\u001B[0;32m---> 34\u001B[0;31m     \u001B[0mz\u001B[0m \u001B[0;34m=\u001B[0m \u001B[0mself\u001B[0m\u001B[0;34m.\u001B[0m\u001B[0modeblock\u001B[0m\u001B[0;34m(\u001B[0m\u001B[0mx\u001B[0m\u001B[0;34m)\u001B[0m\u001B[0;34m\u001B[0m\u001B[0;34m\u001B[0m\u001B[0m\n\u001B[0m\u001B[1;32m     35\u001B[0m \u001B[0;34m\u001B[0m\u001B[0m\n\u001B[1;32m     36\u001B[0m     \u001B[0;31m# Activation.\u001B[0m\u001B[0;34m\u001B[0m\u001B[0;34m\u001B[0m\u001B[0;34m\u001B[0m\u001B[0m\n",
      "\u001B[0;32m~/anaconda3/envs/grand2/lib/python3.7/site-packages/torch/nn/modules/module.py\u001B[0m in \u001B[0;36m_call_impl\u001B[0;34m(self, *input, **kwargs)\u001B[0m\n\u001B[1;32m    725\u001B[0m             \u001B[0mresult\u001B[0m \u001B[0;34m=\u001B[0m \u001B[0mself\u001B[0m\u001B[0;34m.\u001B[0m\u001B[0m_slow_forward\u001B[0m\u001B[0;34m(\u001B[0m\u001B[0;34m*\u001B[0m\u001B[0minput\u001B[0m\u001B[0;34m,\u001B[0m \u001B[0;34m**\u001B[0m\u001B[0mkwargs\u001B[0m\u001B[0;34m)\u001B[0m\u001B[0;34m\u001B[0m\u001B[0;34m\u001B[0m\u001B[0m\n\u001B[1;32m    726\u001B[0m         \u001B[0;32melse\u001B[0m\u001B[0;34m:\u001B[0m\u001B[0;34m\u001B[0m\u001B[0;34m\u001B[0m\u001B[0m\n\u001B[0;32m--> 727\u001B[0;31m             \u001B[0mresult\u001B[0m \u001B[0;34m=\u001B[0m \u001B[0mself\u001B[0m\u001B[0;34m.\u001B[0m\u001B[0mforward\u001B[0m\u001B[0;34m(\u001B[0m\u001B[0;34m*\u001B[0m\u001B[0minput\u001B[0m\u001B[0;34m,\u001B[0m \u001B[0;34m**\u001B[0m\u001B[0mkwargs\u001B[0m\u001B[0;34m)\u001B[0m\u001B[0;34m\u001B[0m\u001B[0;34m\u001B[0m\u001B[0m\n\u001B[0m\u001B[1;32m    728\u001B[0m         for hook in itertools.chain(\n\u001B[1;32m    729\u001B[0m                 \u001B[0m_global_forward_hooks\u001B[0m\u001B[0;34m.\u001B[0m\u001B[0mvalues\u001B[0m\u001B[0;34m(\u001B[0m\u001B[0;34m)\u001B[0m\u001B[0;34m,\u001B[0m\u001B[0;34m\u001B[0m\u001B[0;34m\u001B[0m\u001B[0m\n",
      "\u001B[0;32m/tmp/ipykernel_3437/1890846241.py\u001B[0m in \u001B[0;36mforward\u001B[0;34m(self, x)\u001B[0m\n\u001B[1;32m     41\u001B[0m       \u001B[0moptions\u001B[0m\u001B[0;34m=\u001B[0m\u001B[0mdict\u001B[0m\u001B[0;34m(\u001B[0m\u001B[0mstep_size\u001B[0m\u001B[0;34m=\u001B[0m\u001B[0mself\u001B[0m\u001B[0;34m.\u001B[0m\u001B[0mopt\u001B[0m\u001B[0;34m[\u001B[0m\u001B[0;34m'step_size'\u001B[0m\u001B[0;34m]\u001B[0m\u001B[0;34m)\u001B[0m\u001B[0;34m,\u001B[0m\u001B[0;34m\u001B[0m\u001B[0;34m\u001B[0m\u001B[0m\n\u001B[1;32m     42\u001B[0m       \u001B[0matol\u001B[0m\u001B[0;34m=\u001B[0m\u001B[0mself\u001B[0m\u001B[0;34m.\u001B[0m\u001B[0matol\u001B[0m\u001B[0;34m,\u001B[0m\u001B[0;34m\u001B[0m\u001B[0;34m\u001B[0m\u001B[0m\n\u001B[0;32m---> 43\u001B[0;31m       rtol=self.rtol)\n\u001B[0m\u001B[1;32m     44\u001B[0m     \u001B[0mz\u001B[0m \u001B[0;34m=\u001B[0m \u001B[0mstate_dt\u001B[0m\u001B[0;34m[\u001B[0m\u001B[0;36m1\u001B[0m\u001B[0;34m]\u001B[0m\u001B[0;34m\u001B[0m\u001B[0;34m\u001B[0m\u001B[0m\n\u001B[1;32m     45\u001B[0m     \u001B[0;32mreturn\u001B[0m \u001B[0mz\u001B[0m\u001B[0;34m\u001B[0m\u001B[0;34m\u001B[0m\u001B[0m\n",
      "\u001B[0;32m~/anaconda3/envs/grand2/lib/python3.7/site-packages/torchdiffeq/_impl/odeint.py\u001B[0m in \u001B[0;36modeint\u001B[0;34m(func, y0, t, rtol, atol, method, options, event_fn)\u001B[0m\n\u001B[1;32m     75\u001B[0m \u001B[0;34m\u001B[0m\u001B[0m\n\u001B[1;32m     76\u001B[0m     \u001B[0;32mif\u001B[0m \u001B[0mevent_fn\u001B[0m \u001B[0;32mis\u001B[0m \u001B[0;32mNone\u001B[0m\u001B[0;34m:\u001B[0m\u001B[0;34m\u001B[0m\u001B[0;34m\u001B[0m\u001B[0m\n\u001B[0;32m---> 77\u001B[0;31m         \u001B[0msolution\u001B[0m \u001B[0;34m=\u001B[0m \u001B[0msolver\u001B[0m\u001B[0;34m.\u001B[0m\u001B[0mintegrate\u001B[0m\u001B[0;34m(\u001B[0m\u001B[0mt\u001B[0m\u001B[0;34m)\u001B[0m\u001B[0;34m\u001B[0m\u001B[0;34m\u001B[0m\u001B[0m\n\u001B[0m\u001B[1;32m     78\u001B[0m     \u001B[0;32melse\u001B[0m\u001B[0;34m:\u001B[0m\u001B[0;34m\u001B[0m\u001B[0;34m\u001B[0m\u001B[0m\n\u001B[1;32m     79\u001B[0m         \u001B[0mevent_t\u001B[0m\u001B[0;34m,\u001B[0m \u001B[0msolution\u001B[0m \u001B[0;34m=\u001B[0m \u001B[0msolver\u001B[0m\u001B[0;34m.\u001B[0m\u001B[0mintegrate_until_event\u001B[0m\u001B[0;34m(\u001B[0m\u001B[0mt\u001B[0m\u001B[0;34m[\u001B[0m\u001B[0;36m0\u001B[0m\u001B[0;34m]\u001B[0m\u001B[0;34m,\u001B[0m \u001B[0mevent_fn\u001B[0m\u001B[0;34m)\u001B[0m\u001B[0;34m\u001B[0m\u001B[0;34m\u001B[0m\u001B[0m\n",
      "\u001B[0;32m~/anaconda3/envs/grand2/lib/python3.7/site-packages/torchdiffeq/_impl/solvers.py\u001B[0m in \u001B[0;36mintegrate\u001B[0;34m(self, t)\u001B[0m\n\u001B[1;32m    106\u001B[0m             \u001B[0my1\u001B[0m \u001B[0;34m=\u001B[0m \u001B[0my0\u001B[0m \u001B[0;34m+\u001B[0m \u001B[0mdy\u001B[0m\u001B[0;34m\u001B[0m\u001B[0;34m\u001B[0m\u001B[0m\n\u001B[1;32m    107\u001B[0m \u001B[0;34m\u001B[0m\u001B[0m\n\u001B[0;32m--> 108\u001B[0;31m             \u001B[0;32mwhile\u001B[0m \u001B[0mj\u001B[0m \u001B[0;34m<\u001B[0m \u001B[0mlen\u001B[0m\u001B[0;34m(\u001B[0m\u001B[0mt\u001B[0m\u001B[0;34m)\u001B[0m \u001B[0;32mand\u001B[0m \u001B[0mt1\u001B[0m \u001B[0;34m>=\u001B[0m \u001B[0mt\u001B[0m\u001B[0;34m[\u001B[0m\u001B[0mj\u001B[0m\u001B[0;34m]\u001B[0m\u001B[0;34m:\u001B[0m\u001B[0;34m\u001B[0m\u001B[0;34m\u001B[0m\u001B[0m\n\u001B[0m\u001B[1;32m    109\u001B[0m                 \u001B[0;32mif\u001B[0m \u001B[0mself\u001B[0m\u001B[0;34m.\u001B[0m\u001B[0minterp\u001B[0m \u001B[0;34m==\u001B[0m \u001B[0;34m\"linear\"\u001B[0m\u001B[0;34m:\u001B[0m\u001B[0;34m\u001B[0m\u001B[0;34m\u001B[0m\u001B[0m\n\u001B[1;32m    110\u001B[0m                     \u001B[0msolution\u001B[0m\u001B[0;34m[\u001B[0m\u001B[0mj\u001B[0m\u001B[0;34m]\u001B[0m \u001B[0;34m=\u001B[0m \u001B[0mself\u001B[0m\u001B[0;34m.\u001B[0m\u001B[0m_linear_interp\u001B[0m\u001B[0;34m(\u001B[0m\u001B[0mt0\u001B[0m\u001B[0;34m,\u001B[0m \u001B[0mt1\u001B[0m\u001B[0;34m,\u001B[0m \u001B[0my0\u001B[0m\u001B[0;34m,\u001B[0m \u001B[0my1\u001B[0m\u001B[0;34m,\u001B[0m \u001B[0mt\u001B[0m\u001B[0;34m[\u001B[0m\u001B[0mj\u001B[0m\u001B[0;34m]\u001B[0m\u001B[0;34m)\u001B[0m\u001B[0;34m\u001B[0m\u001B[0;34m\u001B[0m\u001B[0m\n",
      "\u001B[0;31mKeyboardInterrupt\u001B[0m: "
     ]
    }
   ],
   "source": [
    "def train_NN(n_epochs, n_repeats, dataset, opt, device, net_class):\n",
    "  training_errors = np.zeros([n_repeats, n_epochs])\n",
    "  test_errors = np.zeros([n_repeats, n_epochs])\n",
    "  validation_errors = np.zeros([n_repeats, n_epochs])\n",
    "  training_time = np.zeros(n_repeats)\n",
    "  best_training_errors = np.zeros(n_repeats)\n",
    "  best_test_errors = np.zeros(n_repeats)\n",
    "  best_validation_errors = np.zeros(n_repeats)\n",
    "\n",
    "  for j in range(n_repeats):\n",
    "    start_time = time.time()\n",
    "    data = dataset.data.to(device)\n",
    "    model = net_class(opt, dataset, device).to(device)\n",
    "    parameters = [p for p in model.parameters() if p.requires_grad]\n",
    "    optimizer = torch.optim.Adam(parameters, lr=opt['lr'], weight_decay=opt['decay'])\n",
    "    best_time = best_epoch = train_acc = val_acc = test_acc = 0\n",
    "\n",
    "    this_test = test\n",
    "    for i, epoch in enumerate(range(1, opt['epoch']+1)):\n",
    "\n",
    "      loss = train(model, optimizer, data)\n",
    "      tmp_train_acc, tmp_val_acc, tmp_test_acc = this_test(model, data, opt)\n",
    "\n",
    "      training_errors[j, i] = tmp_train_acc\n",
    "      test_errors[j, i] = tmp_test_acc\n",
    "      validation_errors[j, i] = tmp_val_acc\n",
    "\n",
    "      best_time = opt['time']\n",
    "      if tmp_val_acc > val_acc:\n",
    "        best_epoch = epoch\n",
    "        train_acc = tmp_train_acc\n",
    "        val_acc = tmp_val_acc\n",
    "        test_acc = tmp_test_acc\n",
    "        best_time = opt['time']\n",
    "\n",
    "      # del loss\n",
    "      # del tmp_train_acc\n",
    "      # del tmp_val_acc\n",
    "      # del tmp_test_acc\n",
    "      # torch.cuda.empty_cache()\n",
    "      # gc.collect()\n",
    "\n",
    "    print('best val accuracy {:03f} with test accuracy {:03f} at epoch {:d} and best time {:03f}'.format(val_acc, test_acc, best_epoch, best_time))\n",
    "    best_training_errors[j] = train_acc\n",
    "    best_test_errors[j] = test_acc\n",
    "    best_validation_errors[j] = val_acc\n",
    "    end_time = time.time()\n",
    "    training_time[j] = end_time-start_time\n",
    "\n",
    "  return training_errors, test_errors, validation_errors, training_time, best_training_errors, best_test_errors, best_validation_errors\n",
    "\n",
    "n_repeats = 20\n",
    "n_epochs = opt['epoch']\n",
    "\n",
    "\n",
    "\n",
    "training_errors, test_errors, validation_errors, training_time, best_training_errors, best_test_errors, best_validation_errors = train_NN(n_epochs, n_repeats, dataset, opt, device, GNN)"
   ],
   "metadata": {
    "collapsed": false,
    "pycharm": {
     "name": "#%%\n"
    }
   }
  },
  {
   "cell_type": "code",
   "execution_count": 239,
   "outputs": [
    {
     "name": "stdout",
     "output_type": "stream",
     "text": [
      "Training time was: 4.17s +- 0.15s\n",
      "Best training error: 0.9543 \n",
      "Best validation error: 0.8678 \n",
      "Best test error: 0.8584\n"
     ]
    }
   ],
   "source": [
    "print_training_stats(training_time, best_training_errors, best_test_errors, best_validation_errors)"
   ],
   "metadata": {
    "collapsed": false,
    "pycharm": {
     "name": "#%%\n"
    }
   }
  },
  {
   "cell_type": "code",
   "execution_count": 240,
   "outputs": [
    {
     "data": {
      "text/plain": "<Figure size 720x360 with 1 Axes>",
      "image/png": "[encoded data removed]"
     },
     "metadata": {},
     "output_type": "display_data"
    }
   ],
   "source": [
    "plot_train_test_val_errors(training_errors, test_errors, validation_errors)"
   ],
   "metadata": {
    "collapsed": false,
    "pycharm": {
     "name": "#%%\n"
    }
   }
  },
  {
   "cell_type": "code",
   "execution_count": 16,
   "outputs": [],
   "source": [
    "# Train the given model on the given graph for num_epochs\n",
    "def train_standard_GCN(model, optimizer, data):\n",
    "    model.train()\n",
    "    optimizer.zero_grad()\n",
    "    y = data.y.squeeze()\n",
    "\n",
    "    # Set up the loss and the optimizer\n",
    "    loss_fn = nn.CrossEntropyLoss()\n",
    "    optimizer = optim.Adam(model.parameters(), lr=0.01, weight_decay=5e-4)\n",
    "    out = model(data)\n",
    "\n",
    "    loss = loss_fn(out[data.train_mask], y[data.train_mask])\n",
    "    loss.backward()\n",
    "    optimizer.step()\n",
    "    return loss.item()"
   ],
   "metadata": {
    "collapsed": false,
    "pycharm": {
     "name": "#%%\n"
    }
   }
  },
  {
   "cell_type": "code",
   "execution_count": null,
   "outputs": [],
   "source": [
    "def train(model, optimizer, data):\n",
    "    model.train()\n",
    "    optimizer.zero_grad()\n",
    "    x = data.x\n",
    "    y = data.y.squeeze()\n",
    "\n",
    "    # Set up the loss and the optimizer\n",
    "    loss_fn = nn.CrossEntropyLoss()\n",
    "    optimizer = optim.Adam(model.parameters(), lr=0.01, weight_decay=5e-4)\n",
    "    out = model(x)\n",
    "\n",
    "    loss = loss_fn(out[data.train_mask], y[data.train_mask])\n",
    "    loss.backward()\n",
    "    optimizer.step()\n",
    "    return loss.item()"
   ],
   "metadata": {
    "collapsed": false,
    "pycharm": {
     "name": "#%%\n"
    }
   }
  },
  {
   "cell_type": "code",
   "execution_count": 17,
   "outputs": [],
   "source": [
    "@torch.no_grad()\n",
    "def test_standard_GCN(model, data, opt=None):  # opt required for runtime polymorphism\n",
    "  model.eval()\n",
    "  logits, accs = model(data), []\n",
    "  for _, mask in data('train_mask', 'val_mask', 'test_mask'):\n",
    "    pred = logits[mask].max(1)[1]\n",
    "    acc = pred.eq(data.y[mask]).sum().item() / mask.sum().item()\n",
    "    accs.append(acc)\n",
    "  return accs"
   ],
   "metadata": {
    "collapsed": false,
    "pycharm": {
     "name": "#%%\n"
    }
   }
  },
  {
   "cell_type": "code",
   "execution_count": 259,
   "outputs": [],
   "source": [
    "class Net(torch.nn.Module):\n",
    "    def __init__(self, opt, dataset, device=torch.device('cpu')):\n",
    "        super(Net, self).__init__()\n",
    "        self.conv1 = GCNConv(dataset.num_node_features, opt['hidden_dim'])\n",
    "        self.conv2 = GCNConv(opt['hidden_dim'], dataset.num_classes)\n",
    "        self.edge_index = dataset.data.edge_index\n",
    "\n",
    "    def forward(self, x):\n",
    "      edge_index = self.edge_index\n",
    "\n",
    "      x = self.conv1(x, edge_index)\n",
    "      x = F.relu(x)\n",
    "      x = F.dropout(x, training=self.training)\n",
    "      x = self.conv2(x, edge_index)\n",
    "\n",
    "      return F.log_softmax(x, dim=1)"
   ],
   "metadata": {
    "collapsed": false,
    "pycharm": {
     "name": "#%%\n"
    }
   }
  },
  {
   "cell_type": "code",
   "execution_count": 265,
   "outputs": [
    {
     "name": "stdout",
     "output_type": "stream",
     "text": [
      "best val accuracy 0.840000 with test accuracy 0.853477 at epoch 35 and best time 18.294754\n",
      "best val accuracy 0.833043 with test accuracy 0.829470 at epoch 64 and best time 18.294754\n",
      "best val accuracy 0.839130 with test accuracy 0.844371 at epoch 66 and best time 18.294754\n",
      "best val accuracy 0.837391 with test accuracy 0.834437 at epoch 62 and best time 18.294754\n",
      "best val accuracy 0.842609 with test accuracy 0.846854 at epoch 51 and best time 18.294754\n",
      "best val accuracy 0.845217 with test accuracy 0.827815 at epoch 6 and best time 18.294754\n",
      "best val accuracy 0.845217 with test accuracy 0.857616 at epoch 40 and best time 18.294754\n",
      "best val accuracy 0.828696 with test accuracy 0.830298 at epoch 32 and best time 18.294754\n",
      "best val accuracy 0.843478 with test accuracy 0.858444 at epoch 10 and best time 18.294754\n",
      "best val accuracy 0.837391 with test accuracy 0.835265 at epoch 68 and best time 18.294754\n",
      "best val accuracy 0.830435 with test accuracy 0.839404 at epoch 53 and best time 18.294754\n",
      "best val accuracy 0.836522 with test accuracy 0.834437 at epoch 98 and best time 18.294754\n",
      "best val accuracy 0.835652 with test accuracy 0.825331 at epoch 4 and best time 18.294754\n",
      "best val accuracy 0.826957 with test accuracy 0.844371 at epoch 17 and best time 18.294754\n",
      "best val accuracy 0.842609 with test accuracy 0.854305 at epoch 66 and best time 18.294754\n",
      "best val accuracy 0.838261 with test accuracy 0.856788 at epoch 69 and best time 18.294754\n",
      "best val accuracy 0.838261 with test accuracy 0.841060 at epoch 88 and best time 18.294754\n",
      "best val accuracy 0.827826 with test accuracy 0.825331 at epoch 93 and best time 18.294754\n",
      "best val accuracy 0.836522 with test accuracy 0.830298 at epoch 68 and best time 18.294754\n",
      "best val accuracy 0.834783 with test accuracy 0.850993 at epoch 14 and best time 18.294754\n",
      "best val accuracy 0.836522 with test accuracy 0.848510 at epoch 92 and best time 18.294754\n",
      "best val accuracy 0.833913 with test accuracy 0.849338 at epoch 59 and best time 18.294754\n",
      "best val accuracy 0.843478 with test accuracy 0.834437 at epoch 56 and best time 18.294754\n",
      "best val accuracy 0.834783 with test accuracy 0.831126 at epoch 68 and best time 18.294754\n",
      "best val accuracy 0.835652 with test accuracy 0.836093 at epoch 94 and best time 18.294754\n",
      "best val accuracy 0.839130 with test accuracy 0.854305 at epoch 49 and best time 18.294754\n",
      "best val accuracy 0.842609 with test accuracy 0.860927 at epoch 42 and best time 18.294754\n",
      "best val accuracy 0.831304 with test accuracy 0.826159 at epoch 97 and best time 18.294754\n",
      "best val accuracy 0.841739 with test accuracy 0.847682 at epoch 7 and best time 18.294754\n",
      "best val accuracy 0.845217 with test accuracy 0.856788 at epoch 96 and best time 18.294754\n",
      "best val accuracy 0.836522 with test accuracy 0.848510 at epoch 65 and best time 18.294754\n",
      "best val accuracy 0.829565 with test accuracy 0.831126 at epoch 100 and best time 18.294754\n",
      "best val accuracy 0.838261 with test accuracy 0.840232 at epoch 97 and best time 18.294754\n",
      "best val accuracy 0.836522 with test accuracy 0.857616 at epoch 16 and best time 18.294754\n",
      "best val accuracy 0.836522 with test accuracy 0.850166 at epoch 46 and best time 18.294754\n",
      "best val accuracy 0.840870 with test accuracy 0.856788 at epoch 12 and best time 18.294754\n",
      "best val accuracy 0.841739 with test accuracy 0.850993 at epoch 100 and best time 18.294754\n",
      "best val accuracy 0.837391 with test accuracy 0.838576 at epoch 52 and best time 18.294754\n",
      "best val accuracy 0.844348 with test accuracy 0.860927 at epoch 57 and best time 18.294754\n",
      "best val accuracy 0.838261 with test accuracy 0.860099 at epoch 17 and best time 18.294754\n",
      "best val accuracy 0.833043 with test accuracy 0.826159 at epoch 72 and best time 18.294754\n",
      "best val accuracy 0.844348 with test accuracy 0.848510 at epoch 6 and best time 18.294754\n",
      "best val accuracy 0.837391 with test accuracy 0.860927 at epoch 35 and best time 18.294754\n",
      "best val accuracy 0.849565 with test accuracy 0.850993 at epoch 4 and best time 18.294754\n",
      "best val accuracy 0.842609 with test accuracy 0.857616 at epoch 84 and best time 18.294754\n",
      "best val accuracy 0.840870 with test accuracy 0.850166 at epoch 48 and best time 18.294754\n",
      "best val accuracy 0.835652 with test accuracy 0.850993 at epoch 41 and best time 18.294754\n",
      "best val accuracy 0.833043 with test accuracy 0.830298 at epoch 92 and best time 18.294754\n",
      "best val accuracy 0.840870 with test accuracy 0.840232 at epoch 76 and best time 18.294754\n",
      "best val accuracy 0.846957 with test accuracy 0.837748 at epoch 69 and best time 18.294754\n",
      "best val accuracy 0.837391 with test accuracy 0.836093 at epoch 27 and best time 18.294754\n",
      "best val accuracy 0.846087 with test accuracy 0.844371 at epoch 84 and best time 18.294754\n",
      "best val accuracy 0.839130 with test accuracy 0.850166 at epoch 77 and best time 18.294754\n",
      "best val accuracy 0.834783 with test accuracy 0.831126 at epoch 21 and best time 18.294754\n",
      "best val accuracy 0.838261 with test accuracy 0.845199 at epoch 87 and best time 18.294754\n",
      "best val accuracy 0.841739 with test accuracy 0.834437 at epoch 35 and best time 18.294754\n",
      "best val accuracy 0.843478 with test accuracy 0.860099 at epoch 21 and best time 18.294754\n",
      "best val accuracy 0.838261 with test accuracy 0.831126 at epoch 89 and best time 18.294754\n",
      "best val accuracy 0.831304 with test accuracy 0.835265 at epoch 47 and best time 18.294754\n",
      "best val accuracy 0.836522 with test accuracy 0.840232 at epoch 50 and best time 18.294754\n",
      "best val accuracy 0.827826 with test accuracy 0.822848 at epoch 56 and best time 18.294754\n",
      "best val accuracy 0.841739 with test accuracy 0.850166 at epoch 80 and best time 18.294754\n",
      "best val accuracy 0.838261 with test accuracy 0.835265 at epoch 85 and best time 18.294754\n",
      "best val accuracy 0.836522 with test accuracy 0.831126 at epoch 66 and best time 18.294754\n",
      "best val accuracy 0.850435 with test accuracy 0.866722 at epoch 15 and best time 18.294754\n",
      "best val accuracy 0.829565 with test accuracy 0.827815 at epoch 40 and best time 18.294754\n",
      "best val accuracy 0.848696 with test accuracy 0.849338 at epoch 7 and best time 18.294754\n",
      "best val accuracy 0.840870 with test accuracy 0.846026 at epoch 54 and best time 18.294754\n",
      "best val accuracy 0.853913 with test accuracy 0.844371 at epoch 6 and best time 18.294754\n",
      "best val accuracy 0.840000 with test accuracy 0.831954 at epoch 40 and best time 18.294754\n",
      "best val accuracy 0.844348 with test accuracy 0.858444 at epoch 39 and best time 18.294754\n",
      "best val accuracy 0.841739 with test accuracy 0.835265 at epoch 18 and best time 18.294754\n",
      "best val accuracy 0.828696 with test accuracy 0.826987 at epoch 32 and best time 18.294754\n",
      "best val accuracy 0.820000 with test accuracy 0.850166 at epoch 87 and best time 18.294754\n",
      "best val accuracy 0.838261 with test accuracy 0.847682 at epoch 54 and best time 18.294754\n",
      "best val accuracy 0.839130 with test accuracy 0.857616 at epoch 51 and best time 18.294754\n",
      "best val accuracy 0.829565 with test accuracy 0.834437 at epoch 5 and best time 18.294754\n",
      "best val accuracy 0.826957 with test accuracy 0.839404 at epoch 12 and best time 18.294754\n",
      "best val accuracy 0.840870 with test accuracy 0.838576 at epoch 93 and best time 18.294754\n",
      "best val accuracy 0.835652 with test accuracy 0.836093 at epoch 98 and best time 18.294754\n",
      "best val accuracy 0.837391 with test accuracy 0.836921 at epoch 93 and best time 18.294754\n",
      "best val accuracy 0.834783 with test accuracy 0.825331 at epoch 86 and best time 18.294754\n",
      "best val accuracy 0.838261 with test accuracy 0.856788 at epoch 14 and best time 18.294754\n",
      "best val accuracy 0.836522 with test accuracy 0.834437 at epoch 63 and best time 18.294754\n",
      "best val accuracy 0.833913 with test accuracy 0.832781 at epoch 32 and best time 18.294754\n",
      "best val accuracy 0.823478 with test accuracy 0.847682 at epoch 81 and best time 18.294754\n",
      "best val accuracy 0.833043 with test accuracy 0.827815 at epoch 88 and best time 18.294754\n",
      "best val accuracy 0.843478 with test accuracy 0.855132 at epoch 71 and best time 18.294754\n",
      "best val accuracy 0.837391 with test accuracy 0.853477 at epoch 68 and best time 18.294754\n",
      "best val accuracy 0.841739 with test accuracy 0.855132 at epoch 31 and best time 18.294754\n",
      "best val accuracy 0.832174 with test accuracy 0.820364 at epoch 12 and best time 18.294754\n",
      "best val accuracy 0.853043 with test accuracy 0.859272 at epoch 90 and best time 18.294754\n",
      "best val accuracy 0.840000 with test accuracy 0.842715 at epoch 54 and best time 18.294754\n",
      "best val accuracy 0.838261 with test accuracy 0.846026 at epoch 85 and best time 18.294754\n",
      "best val accuracy 0.837391 with test accuracy 0.833609 at epoch 54 and best time 18.294754\n",
      "best val accuracy 0.845217 with test accuracy 0.850166 at epoch 97 and best time 18.294754\n",
      "best val accuracy 0.843478 with test accuracy 0.834437 at epoch 83 and best time 18.294754\n",
      "best val accuracy 0.839130 with test accuracy 0.846026 at epoch 70 and best time 18.294754\n",
      "best val accuracy 0.844348 with test accuracy 0.831954 at epoch 8 and best time 18.294754\n",
      "best val accuracy 0.827826 with test accuracy 0.838576 at epoch 56 and best time 18.294754\n"
     ]
    }
   ],
   "source": [
    "n_repeats = 100\n",
    "n_epochs = opt['epoch']\n",
    "net_class = Net\n",
    "\n",
    "\n",
    "training_errors, test_errors, validation_errors, training_time, best_training_errors, best_test_errors, best_validation_errors = train_NN(n_epochs, n_repeats, dataset, opt, device, net_class)"
   ],
   "metadata": {
    "collapsed": false,
    "pycharm": {
     "name": "#%%\n"
    }
   }
  },
  {
   "cell_type": "code",
   "execution_count": 266,
   "outputs": [
    {
     "name": "stdout",
     "output_type": "stream",
     "text": [
      "Training time was: 0.59s +- 0.06s\n",
      "Best training error: 0.9971 \n",
      "Best validation error: 0.8539 \n",
      "Best test error: 0.8667\n"
     ]
    }
   ],
   "source": [
    "print_training_stats(training_time, best_training_errors, best_test_errors, best_validation_errors)"
   ],
   "metadata": {
    "collapsed": false,
    "pycharm": {
     "name": "#%%\n"
    }
   }
  },
  {
   "cell_type": "code",
   "execution_count": 267,
   "outputs": [
    {
     "data": {
      "text/plain": "<Figure size 720x360 with 1 Axes>",
      "image/png": "[encoded data removed]"
     },
     "metadata": {},
     "output_type": "display_data"
    }
   ],
   "source": [
    "plot_train_test_val_errors(training_errors, test_errors, validation_errors, title='Standard GCNConv - Cora dataset')"
   ],
   "metadata": {
    "collapsed": false,
    "pycharm": {
     "name": "#%%\n"
    }
   }
  },
  {
   "cell_type": "code",
   "execution_count": null,
   "outputs": [],
   "source": [],
   "metadata": {
    "collapsed": false,
    "pycharm": {
     "name": "#%%\n"
    }
   }
  }
 ],
 "metadata": {
  "kernelspec": {
   "display_name": "Python 3",
   "language": "python",
   "name": "python3"
  },
  "language_info": {
   "codemirror_mode": {
    "name": "ipython",
    "version": 2
   },
   "file_extension": ".py",
   "mimetype": "text/x-python",
   "name": "python",
   "nbconvert_exporter": "python",
   "pygments_lexer": "ipython2",
   "version": "2.7.6"
  }
 },
 "nbformat": 4,
 "nbformat_minor": 0
}